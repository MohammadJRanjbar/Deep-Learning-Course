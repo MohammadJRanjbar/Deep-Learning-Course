{
  "nbformat": 4,
  "nbformat_minor": 0,
  "metadata": {
    "colab": {
      "provenance": [],
      "gpuType": "T4"
    },
    "kernelspec": {
      "name": "python3",
      "display_name": "Python 3"
    },
    "language_info": {
      "name": "python"
    },
    "accelerator": "GPU"
  },
  "cells": [
    {
      "cell_type": "code",
      "source": [
        "from tensorflow.keras.preprocessing.image import ImageDataGenerator\n",
        "import matplotlib.pyplot as plt\n",
        "from keras.layers import Activation, BatchNormalization, Conv2D, Dense, Dropout, Flatten, GaussianDropout, GlobalAveragePooling2D, MaxPooling2D,DepthwiseConv2D\n",
        "from keras.models import Sequential, load_model\n",
        "import numpy as np\n",
        "from keras.preprocessing.image import ImageDataGenerator, load_img, img_to_array\n",
        "import os\n",
        "from PIL import Image\n",
        "import os\n",
        "import shutil\n",
        "import glob\n",
        "import tensorflow as tf\n",
        "from tensorflow.keras.models import Sequential\n",
        "from tensorflow.keras.layers import Conv2D, MaxPooling2D, Flatten, Dense, BatchNormalization, Dropout\n",
        "import keras\n",
        "from keras.optimizers import Adam\n",
        "import os\n",
        "from PIL import Image\n",
        "from sklearn.metrics import confusion_matrix, accuracy_score, precision_score, recall_score, f1_score, classification_report\n",
        "import seaborn as sns\n",
        "import pickle\n",
        "\n",
        "# Assuming 'history' is your model's training history\n",
        "from tensorflow.keras.models import load_model, save_model"
      ],
      "metadata": {
        "id": "WsosA95UXy2g"
      },
      "execution_count": 6,
      "outputs": []
    },
    {
      "cell_type": "code",
      "source": [
        "from google.colab import drive\n",
        "drive.mount('/content/drive')"
      ],
      "metadata": {
        "colab": {
          "base_uri": "https://localhost:8080/"
        },
        "id": "BNn1hs934-cI",
        "outputId": "bc0c367e-309b-436c-8993-04613cd0c6ca"
      },
      "execution_count": 1,
      "outputs": [
        {
          "output_type": "stream",
          "name": "stdout",
          "text": [
            "Mounted at /content/drive\n"
          ]
        }
      ]
    },
    {
      "cell_type": "code",
      "execution_count": null,
      "metadata": {
        "id": "iADWZ5p53qhf"
      },
      "outputs": [],
      "source": [
        "!unrar x \"/content/drive/MyDrive/Untitled Folder/NN_HW2_Face_Emotion.rar\" \"/content/FER/\"\n"
      ]
    },
    {
      "cell_type": "code",
      "source": [
        "\n",
        "# Define the paths to your dataset\n",
        "train_data_dir = '/content/FER/TRAIN'\n",
        "Tune_dir = '/content/FER/TUNE'\n",
        "\n",
        "# Define the ImageDataGenerator for training set with augmentation\n",
        "train_datagen = ImageDataGenerator(\n",
        "    rescale=1./255,\n",
        "    rotation_range=20,\n",
        "    width_shift_range=0.1,\n",
        "    height_shift_range=0.1,\n",
        "    horizontal_flip=True,\n",
        "    validation_split=0.2\n",
        ")\n",
        "\n",
        "# Define the ImageDataGenerator for validation set (no augmentation)\n",
        "\n",
        "# Define batch size and image size\n",
        "batch_size = 400\n",
        "image_size = (128, 128)  # Adjust this based on your image dimensions\n",
        "\n",
        "# Generate the training set\n",
        "train_generator = train_datagen.flow_from_directory(\n",
        "    train_data_dir,\n",
        "    target_size=image_size,\n",
        "    batch_size=batch_size,\n",
        "    class_mode='categorical',\n",
        "    subset='training' # Adjust if using different classification settings\n",
        ")\n",
        "\n",
        "validation_generator = train_datagen.flow_from_directory(\n",
        "    train_data_dir,\n",
        "    target_size=image_size,\n",
        "    batch_size=batch_size,\n",
        "    class_mode='categorical',\n",
        "    subset='validation'# Adjust if using different classification settings\n",
        ")\n",
        "\n",
        "Tune_datagen = ImageDataGenerator(\n",
        "    rescale=1./255,\n",
        "    rotation_range=20,\n",
        "    width_shift_range=0.1,\n",
        "    height_shift_range=0.1,\n",
        "    horizontal_flip=True,\n",
        ")\n",
        "\n",
        "# Generate the validation set\n",
        "Tune_generator = Tune_datagen.flow_from_directory(\n",
        "    Tune_dir,\n",
        "    target_size=image_size,\n",
        "    batch_size=batch_size,\n",
        "    class_mode='categorical'  # Adjust if using different classification settings\n",
        ")\n"
      ],
      "metadata": {
        "colab": {
          "base_uri": "https://localhost:8080/"
        },
        "id": "-u95HjztYcwO",
        "outputId": "d702cb05-e735-4dee-f96b-7533a62f97de"
      },
      "execution_count": 7,
      "outputs": [
        {
          "output_type": "stream",
          "name": "stdout",
          "text": [
            "Found 6400 images belonging to 8 classes.\n",
            "Found 1600 images belonging to 8 classes.\n",
            "Found 1600 images belonging to 8 classes.\n"
          ]
        }
      ]
    },
    {
      "cell_type": "code",
      "source": [
        "import tensorflow as tf\n",
        "import keras\n",
        "train_data_dir = '/content/FER/TRAIN'\n",
        "Tune_dir = '/content/FER/TUNE'\n",
        "train_ds = tf.keras.utils.image_dataset_from_directory(\n",
        "directory =train_data_dir,\n",
        "image_size = (128, 128),\n",
        "validation_split = 0.15,\n",
        "subset = \"training\",\n",
        "seed = 42,\n",
        "shuffle = True)\n",
        "\n",
        "validation_ds = tf.keras.utils.image_dataset_from_directory(\n",
        "    directory=train_data_dir,\n",
        "    image_size=(128, 128),\n",
        "    validation_split=0.15,\n",
        "    subset=\"validation\",\n",
        "    seed=42,\n",
        "    shuffle=True\n",
        ")\n",
        "train_ds = train_ds.map(lambda x, y: (x / 255.0, y))\n",
        "validation_ds = validation_ds.map(lambda x, y: (x / 255.0, y))"
      ],
      "metadata": {
        "colab": {
          "base_uri": "https://localhost:8080/"
        },
        "id": "riruRyX_lQyw",
        "outputId": "a021789a-d00a-4afb-8a0f-425e724245c1"
      },
      "execution_count": 8,
      "outputs": [
        {
          "output_type": "stream",
          "name": "stdout",
          "text": [
            "Found 8000 files belonging to 8 classes.\n",
            "Using 6800 files for training.\n",
            "Found 8000 files belonging to 8 classes.\n",
            "Using 1200 files for validation.\n"
          ]
        }
      ]
    },
    {
      "cell_type": "code",
      "source": [
        "tune_ds = tf.keras.utils.image_dataset_from_directory(\n",
        "    directory=Tune_dir,\n",
        "    image_size=(128, 128),\n",
        "    seed=42,\n",
        "    shuffle=True\n",
        ")\n",
        "tune_ds = tune_ds.map(lambda x, y: (x / 255.0, y))"
      ],
      "metadata": {
        "colab": {
          "base_uri": "https://localhost:8080/"
        },
        "id": "iomG7F0pW5hu",
        "outputId": "bafe7f0b-c6eb-4e05-ff0d-fbea3c55ab30"
      },
      "execution_count": 9,
      "outputs": [
        {
          "output_type": "stream",
          "name": "stdout",
          "text": [
            "Found 1600 files belonging to 8 classes.\n"
          ]
        }
      ]
    },
    {
      "cell_type": "markdown",
      "source": [
        "Certainly! Here's a concise text cell for the provided MobileNet-like architecture in a code cell:\n",
        "\n",
        "---\n",
        "\n",
        "# MobileNet\n",
        "\n",
        "This code cell defines a MobileNet-inspired architecture using depthwise separable convolutions. It constructs a Sequential model comprising multiple depthwise convolutional blocks and ends with a Global Average Pooling layer followed by a Dense layer for classification. Key components include:\n",
        "\n",
        "- **Depthwise Convolution Blocks:** Utilized for feature extraction, these blocks consist of depthwise separable convolutions followed by batch normalization and ReLU activation.\n",
        "- **Strided Convolutions:** Employed at intervals for downsampling the feature maps.\n",
        "- **Model Scaling:** The `alpha` parameter scales the width of the network channels.\n",
        "- **Dropout (Commented Out):** A dropout layer (currently commented out) is provided for regularization but remains inactive in the current configuration.\n",
        "- **Output Layer:** A Dense layer with a softmax activation, producing predictions across 8 classes.\n",
        "\n",
        "The architecture emphasizes lightweight depthwise convolutions, reducing computational complexity while maintaining expressive power, suitable for mobile and resource-constrained environments.\n",
        "\n",
        "---"
      ],
      "metadata": {
        "id": "mjozkQEW9e9Y"
      }
    },
    {
      "cell_type": "code",
      "source": [
        "def depth_conv_block(model, d, k, s):\n",
        "  model.add(DepthwiseConv2D((k, k), strides=(s, s), padding='same', use_bias=False))\n",
        "  model.add(BatchNormalization())\n",
        "  model.add(Activation('relu'))\n",
        "  model.add(Conv2D(d, (1, 1), padding='same', use_bias=False))\n",
        "  model.add(BatchNormalization())\n",
        "  model.add(Activation('relu'))\n",
        "  return model\n",
        "\n",
        "model = Sequential()\n",
        "alpha = 1\n",
        "dropout=0.3\n",
        "# CONV\n",
        "model.add(Conv2D(int(32 * alpha), (3, 3), padding='same', use_bias=False, strides=(2, 2), input_shape=(128, 128, 3)))\n",
        "model.add(BatchNormalization())\n",
        "model.add(Activation('relu'))\n",
        "# DEPTHWISE CONVS\n",
        "model = depth_conv_block(model, int(64 * alpha), 3, 1)\n",
        "\n",
        "model = depth_conv_block(model, int(128 * alpha), 3, 2)\n",
        "model = depth_conv_block(model, int(128 * alpha), 3, 1)\n",
        "\n",
        "model = depth_conv_block(model, int(256 * alpha), 3, 2)\n",
        "model = depth_conv_block(model, int(256 * alpha), 3, 1)\n",
        "\n",
        "model = depth_conv_block(model, int(512 * alpha), 3, 2)\n",
        "model = depth_conv_block(model, int(512 * alpha), 3, 1)\n",
        "model = depth_conv_block(model, int(512 * alpha), 3, 1)\n",
        "model = depth_conv_block(model, int(512 * alpha), 3, 1)\n",
        "model = depth_conv_block(model, int(512 * alpha), 3, 1)\n",
        "model = depth_conv_block(model, int(512 * alpha), 3, 1)\n",
        "\n",
        "model = depth_conv_block(model, int(1024 * alpha), 3, 2)\n",
        "model = depth_conv_block(model, int(1024 * alpha), 3, 1)\n",
        "# FLATTEN\n",
        "model.add(GlobalAveragePooling2D())\n",
        "#model.add(Dropout(dropout))\n",
        "model.add(Dense(8, activation='softmax'))"
      ],
      "metadata": {
        "id": "YCOuX-3sl0wV"
      },
      "execution_count": 10,
      "outputs": []
    },
    {
      "cell_type": "code",
      "source": [
        "model.summary()"
      ],
      "metadata": {
        "colab": {
          "base_uri": "https://localhost:8080/"
        },
        "id": "zShl97hFnHbN",
        "outputId": "6a4483f1-471b-4363-c987-10e5f112011b"
      },
      "execution_count": 11,
      "outputs": [
        {
          "output_type": "stream",
          "name": "stdout",
          "text": [
            "Model: \"sequential\"\n",
            "_________________________________________________________________\n",
            " Layer (type)                Output Shape              Param #   \n",
            "=================================================================\n",
            " conv2d (Conv2D)             (None, 64, 64, 32)        864       \n",
            "                                                                 \n",
            " batch_normalization (Batch  (None, 64, 64, 32)        128       \n",
            " Normalization)                                                  \n",
            "                                                                 \n",
            " activation (Activation)     (None, 64, 64, 32)        0         \n",
            "                                                                 \n",
            " depthwise_conv2d (Depthwis  (None, 64, 64, 32)        288       \n",
            " eConv2D)                                                        \n",
            "                                                                 \n",
            " batch_normalization_1 (Bat  (None, 64, 64, 32)        128       \n",
            " chNormalization)                                                \n",
            "                                                                 \n",
            " activation_1 (Activation)   (None, 64, 64, 32)        0         \n",
            "                                                                 \n",
            " conv2d_1 (Conv2D)           (None, 64, 64, 64)        2048      \n",
            "                                                                 \n",
            " batch_normalization_2 (Bat  (None, 64, 64, 64)        256       \n",
            " chNormalization)                                                \n",
            "                                                                 \n",
            " activation_2 (Activation)   (None, 64, 64, 64)        0         \n",
            "                                                                 \n",
            " depthwise_conv2d_1 (Depthw  (None, 32, 32, 64)        576       \n",
            " iseConv2D)                                                      \n",
            "                                                                 \n",
            " batch_normalization_3 (Bat  (None, 32, 32, 64)        256       \n",
            " chNormalization)                                                \n",
            "                                                                 \n",
            " activation_3 (Activation)   (None, 32, 32, 64)        0         \n",
            "                                                                 \n",
            " conv2d_2 (Conv2D)           (None, 32, 32, 128)       8192      \n",
            "                                                                 \n",
            " batch_normalization_4 (Bat  (None, 32, 32, 128)       512       \n",
            " chNormalization)                                                \n",
            "                                                                 \n",
            " activation_4 (Activation)   (None, 32, 32, 128)       0         \n",
            "                                                                 \n",
            " depthwise_conv2d_2 (Depthw  (None, 32, 32, 128)       1152      \n",
            " iseConv2D)                                                      \n",
            "                                                                 \n",
            " batch_normalization_5 (Bat  (None, 32, 32, 128)       512       \n",
            " chNormalization)                                                \n",
            "                                                                 \n",
            " activation_5 (Activation)   (None, 32, 32, 128)       0         \n",
            "                                                                 \n",
            " conv2d_3 (Conv2D)           (None, 32, 32, 128)       16384     \n",
            "                                                                 \n",
            " batch_normalization_6 (Bat  (None, 32, 32, 128)       512       \n",
            " chNormalization)                                                \n",
            "                                                                 \n",
            " activation_6 (Activation)   (None, 32, 32, 128)       0         \n",
            "                                                                 \n",
            " depthwise_conv2d_3 (Depthw  (None, 16, 16, 128)       1152      \n",
            " iseConv2D)                                                      \n",
            "                                                                 \n",
            " batch_normalization_7 (Bat  (None, 16, 16, 128)       512       \n",
            " chNormalization)                                                \n",
            "                                                                 \n",
            " activation_7 (Activation)   (None, 16, 16, 128)       0         \n",
            "                                                                 \n",
            " conv2d_4 (Conv2D)           (None, 16, 16, 256)       32768     \n",
            "                                                                 \n",
            " batch_normalization_8 (Bat  (None, 16, 16, 256)       1024      \n",
            " chNormalization)                                                \n",
            "                                                                 \n",
            " activation_8 (Activation)   (None, 16, 16, 256)       0         \n",
            "                                                                 \n",
            " depthwise_conv2d_4 (Depthw  (None, 16, 16, 256)       2304      \n",
            " iseConv2D)                                                      \n",
            "                                                                 \n",
            " batch_normalization_9 (Bat  (None, 16, 16, 256)       1024      \n",
            " chNormalization)                                                \n",
            "                                                                 \n",
            " activation_9 (Activation)   (None, 16, 16, 256)       0         \n",
            "                                                                 \n",
            " conv2d_5 (Conv2D)           (None, 16, 16, 256)       65536     \n",
            "                                                                 \n",
            " batch_normalization_10 (Ba  (None, 16, 16, 256)       1024      \n",
            " tchNormalization)                                               \n",
            "                                                                 \n",
            " activation_10 (Activation)  (None, 16, 16, 256)       0         \n",
            "                                                                 \n",
            " depthwise_conv2d_5 (Depthw  (None, 8, 8, 256)         2304      \n",
            " iseConv2D)                                                      \n",
            "                                                                 \n",
            " batch_normalization_11 (Ba  (None, 8, 8, 256)         1024      \n",
            " tchNormalization)                                               \n",
            "                                                                 \n",
            " activation_11 (Activation)  (None, 8, 8, 256)         0         \n",
            "                                                                 \n",
            " conv2d_6 (Conv2D)           (None, 8, 8, 512)         131072    \n",
            "                                                                 \n",
            " batch_normalization_12 (Ba  (None, 8, 8, 512)         2048      \n",
            " tchNormalization)                                               \n",
            "                                                                 \n",
            " activation_12 (Activation)  (None, 8, 8, 512)         0         \n",
            "                                                                 \n",
            " depthwise_conv2d_6 (Depthw  (None, 8, 8, 512)         4608      \n",
            " iseConv2D)                                                      \n",
            "                                                                 \n",
            " batch_normalization_13 (Ba  (None, 8, 8, 512)         2048      \n",
            " tchNormalization)                                               \n",
            "                                                                 \n",
            " activation_13 (Activation)  (None, 8, 8, 512)         0         \n",
            "                                                                 \n",
            " conv2d_7 (Conv2D)           (None, 8, 8, 512)         262144    \n",
            "                                                                 \n",
            " batch_normalization_14 (Ba  (None, 8, 8, 512)         2048      \n",
            " tchNormalization)                                               \n",
            "                                                                 \n",
            " activation_14 (Activation)  (None, 8, 8, 512)         0         \n",
            "                                                                 \n",
            " depthwise_conv2d_7 (Depthw  (None, 8, 8, 512)         4608      \n",
            " iseConv2D)                                                      \n",
            "                                                                 \n",
            " batch_normalization_15 (Ba  (None, 8, 8, 512)         2048      \n",
            " tchNormalization)                                               \n",
            "                                                                 \n",
            " activation_15 (Activation)  (None, 8, 8, 512)         0         \n",
            "                                                                 \n",
            " conv2d_8 (Conv2D)           (None, 8, 8, 512)         262144    \n",
            "                                                                 \n",
            " batch_normalization_16 (Ba  (None, 8, 8, 512)         2048      \n",
            " tchNormalization)                                               \n",
            "                                                                 \n",
            " activation_16 (Activation)  (None, 8, 8, 512)         0         \n",
            "                                                                 \n",
            " depthwise_conv2d_8 (Depthw  (None, 8, 8, 512)         4608      \n",
            " iseConv2D)                                                      \n",
            "                                                                 \n",
            " batch_normalization_17 (Ba  (None, 8, 8, 512)         2048      \n",
            " tchNormalization)                                               \n",
            "                                                                 \n",
            " activation_17 (Activation)  (None, 8, 8, 512)         0         \n",
            "                                                                 \n",
            " conv2d_9 (Conv2D)           (None, 8, 8, 512)         262144    \n",
            "                                                                 \n",
            " batch_normalization_18 (Ba  (None, 8, 8, 512)         2048      \n",
            " tchNormalization)                                               \n",
            "                                                                 \n",
            " activation_18 (Activation)  (None, 8, 8, 512)         0         \n",
            "                                                                 \n",
            " depthwise_conv2d_9 (Depthw  (None, 8, 8, 512)         4608      \n",
            " iseConv2D)                                                      \n",
            "                                                                 \n",
            " batch_normalization_19 (Ba  (None, 8, 8, 512)         2048      \n",
            " tchNormalization)                                               \n",
            "                                                                 \n",
            " activation_19 (Activation)  (None, 8, 8, 512)         0         \n",
            "                                                                 \n",
            " conv2d_10 (Conv2D)          (None, 8, 8, 512)         262144    \n",
            "                                                                 \n",
            " batch_normalization_20 (Ba  (None, 8, 8, 512)         2048      \n",
            " tchNormalization)                                               \n",
            "                                                                 \n",
            " activation_20 (Activation)  (None, 8, 8, 512)         0         \n",
            "                                                                 \n",
            " depthwise_conv2d_10 (Depth  (None, 8, 8, 512)         4608      \n",
            " wiseConv2D)                                                     \n",
            "                                                                 \n",
            " batch_normalization_21 (Ba  (None, 8, 8, 512)         2048      \n",
            " tchNormalization)                                               \n",
            "                                                                 \n",
            " activation_21 (Activation)  (None, 8, 8, 512)         0         \n",
            "                                                                 \n",
            " conv2d_11 (Conv2D)          (None, 8, 8, 512)         262144    \n",
            "                                                                 \n",
            " batch_normalization_22 (Ba  (None, 8, 8, 512)         2048      \n",
            " tchNormalization)                                               \n",
            "                                                                 \n",
            " activation_22 (Activation)  (None, 8, 8, 512)         0         \n",
            "                                                                 \n",
            " depthwise_conv2d_11 (Depth  (None, 4, 4, 512)         4608      \n",
            " wiseConv2D)                                                     \n",
            "                                                                 \n",
            " batch_normalization_23 (Ba  (None, 4, 4, 512)         2048      \n",
            " tchNormalization)                                               \n",
            "                                                                 \n",
            " activation_23 (Activation)  (None, 4, 4, 512)         0         \n",
            "                                                                 \n",
            " conv2d_12 (Conv2D)          (None, 4, 4, 1024)        524288    \n",
            "                                                                 \n",
            " batch_normalization_24 (Ba  (None, 4, 4, 1024)        4096      \n",
            " tchNormalization)                                               \n",
            "                                                                 \n",
            " activation_24 (Activation)  (None, 4, 4, 1024)        0         \n",
            "                                                                 \n",
            " depthwise_conv2d_12 (Depth  (None, 4, 4, 1024)        9216      \n",
            " wiseConv2D)                                                     \n",
            "                                                                 \n",
            " batch_normalization_25 (Ba  (None, 4, 4, 1024)        4096      \n",
            " tchNormalization)                                               \n",
            "                                                                 \n",
            " activation_25 (Activation)  (None, 4, 4, 1024)        0         \n",
            "                                                                 \n",
            " conv2d_13 (Conv2D)          (None, 4, 4, 1024)        1048576   \n",
            "                                                                 \n",
            " batch_normalization_26 (Ba  (None, 4, 4, 1024)        4096      \n",
            " tchNormalization)                                               \n",
            "                                                                 \n",
            " activation_26 (Activation)  (None, 4, 4, 1024)        0         \n",
            "                                                                 \n",
            " global_average_pooling2d (  (None, 1024)              0         \n",
            " GlobalAveragePooling2D)                                         \n",
            "                                                                 \n",
            " dense (Dense)               (None, 8)                 8200      \n",
            "                                                                 \n",
            "=================================================================\n",
            "Total params: 3237064 (12.35 MB)\n",
            "Trainable params: 3215176 (12.26 MB)\n",
            "Non-trainable params: 21888 (85.50 KB)\n",
            "_________________________________________________________________\n"
          ]
        }
      ]
    },
    {
      "cell_type": "code",
      "source": [
        "# Compile the model\n",
        "\n",
        "batch_size=32\n",
        "epochs=25\n",
        "from keras.optimizers import Adam\n",
        "# from tensorflow.python.keras.optimizer_v2 import adam as adam_v2\n",
        "batch_size=32\n",
        "epoch=50\n",
        "\n",
        "optimizer = keras.optimizers.Adam(learning_rate=0.006)\n",
        "\n",
        "model.compile(loss='sparse_categorical_crossentropy',\n",
        "              optimizer=\"adam\",\n",
        "              metrics=['accuracy'])\n",
        "\n",
        "# Train the model\n",
        "train_history = model.fit(\n",
        "    train_ds,\n",
        "    batch_size=32,\n",
        "    epochs=epochs,validation_data=validation_ds\n",
        ")"
      ],
      "metadata": {
        "colab": {
          "base_uri": "https://localhost:8080/"
        },
        "id": "ATi1RKr1Eqpj",
        "outputId": "a441b32c-c568-437c-ad83-a0a12109d03b"
      },
      "execution_count": 12,
      "outputs": [
        {
          "output_type": "stream",
          "name": "stdout",
          "text": [
            "Epoch 1/25\n",
            "213/213 [==============================] - 38s 59ms/step - loss: 2.0291 - accuracy: 0.1932 - val_loss: 2.1639 - val_accuracy: 0.1275\n",
            "Epoch 2/25\n",
            "213/213 [==============================] - 10s 48ms/step - loss: 1.6888 - accuracy: 0.2779 - val_loss: 2.5416 - val_accuracy: 0.1275\n",
            "Epoch 3/25\n",
            "213/213 [==============================] - 11s 52ms/step - loss: 1.6050 - accuracy: 0.3207 - val_loss: 1.8161 - val_accuracy: 0.1858\n",
            "Epoch 4/25\n",
            "213/213 [==============================] - 12s 54ms/step - loss: 1.5002 - accuracy: 0.3835 - val_loss: 1.7562 - val_accuracy: 0.3392\n",
            "Epoch 5/25\n",
            "213/213 [==============================] - 12s 55ms/step - loss: 1.3955 - accuracy: 0.4324 - val_loss: 1.5366 - val_accuracy: 0.4008\n",
            "Epoch 6/25\n",
            "213/213 [==============================] - 10s 49ms/step - loss: 1.3191 - accuracy: 0.4684 - val_loss: 1.6138 - val_accuracy: 0.3958\n",
            "Epoch 7/25\n",
            "213/213 [==============================] - 11s 53ms/step - loss: 1.2698 - accuracy: 0.4979 - val_loss: 1.6988 - val_accuracy: 0.4392\n",
            "Epoch 8/25\n",
            "213/213 [==============================] - 13s 57ms/step - loss: 1.1881 - accuracy: 0.5393 - val_loss: 1.5971 - val_accuracy: 0.4583\n",
            "Epoch 9/25\n",
            "213/213 [==============================] - 11s 53ms/step - loss: 1.1480 - accuracy: 0.5518 - val_loss: 1.7910 - val_accuracy: 0.4233\n",
            "Epoch 10/25\n",
            "213/213 [==============================] - 10s 48ms/step - loss: 1.0724 - accuracy: 0.5872 - val_loss: 1.6668 - val_accuracy: 0.4525\n",
            "Epoch 11/25\n",
            "213/213 [==============================] - 11s 48ms/step - loss: 1.0120 - accuracy: 0.6096 - val_loss: 1.7913 - val_accuracy: 0.4525\n",
            "Epoch 12/25\n",
            "213/213 [==============================] - 11s 52ms/step - loss: 0.9340 - accuracy: 0.6484 - val_loss: 1.6912 - val_accuracy: 0.4475\n",
            "Epoch 13/25\n",
            "213/213 [==============================] - 11s 52ms/step - loss: 0.8808 - accuracy: 0.6703 - val_loss: 2.0306 - val_accuracy: 0.4217\n",
            "Epoch 14/25\n",
            "213/213 [==============================] - 10s 47ms/step - loss: 0.7789 - accuracy: 0.7100 - val_loss: 1.9897 - val_accuracy: 0.4425\n",
            "Epoch 15/25\n",
            "213/213 [==============================] - 11s 53ms/step - loss: 0.7236 - accuracy: 0.7307 - val_loss: 1.8457 - val_accuracy: 0.4592\n",
            "Epoch 16/25\n",
            "213/213 [==============================] - 10s 47ms/step - loss: 0.6567 - accuracy: 0.7609 - val_loss: 1.8734 - val_accuracy: 0.4908\n",
            "Epoch 17/25\n",
            "213/213 [==============================] - 12s 53ms/step - loss: 0.5866 - accuracy: 0.7875 - val_loss: 1.9389 - val_accuracy: 0.5133\n",
            "Epoch 18/25\n",
            "213/213 [==============================] - 12s 55ms/step - loss: 0.5104 - accuracy: 0.8143 - val_loss: 2.2442 - val_accuracy: 0.4517\n",
            "Epoch 19/25\n",
            "213/213 [==============================] - 10s 45ms/step - loss: 0.4444 - accuracy: 0.8378 - val_loss: 2.1054 - val_accuracy: 0.5142\n",
            "Epoch 20/25\n",
            "213/213 [==============================] - 11s 50ms/step - loss: 0.3749 - accuracy: 0.8659 - val_loss: 2.2352 - val_accuracy: 0.4742\n",
            "Epoch 21/25\n",
            "213/213 [==============================] - 10s 45ms/step - loss: 0.4135 - accuracy: 0.8535 - val_loss: 2.1709 - val_accuracy: 0.4842\n",
            "Epoch 22/25\n",
            "213/213 [==============================] - 11s 51ms/step - loss: 0.2796 - accuracy: 0.9054 - val_loss: 2.2344 - val_accuracy: 0.5108\n",
            "Epoch 23/25\n",
            "213/213 [==============================] - 10s 47ms/step - loss: 0.2741 - accuracy: 0.9043 - val_loss: 2.4160 - val_accuracy: 0.4833\n",
            "Epoch 24/25\n",
            "213/213 [==============================] - 11s 50ms/step - loss: 0.2934 - accuracy: 0.8982 - val_loss: 2.4238 - val_accuracy: 0.5175\n",
            "Epoch 25/25\n",
            "213/213 [==============================] - 10s 47ms/step - loss: 0.2180 - accuracy: 0.9244 - val_loss: 2.4902 - val_accuracy: 0.4975\n"
          ]
        }
      ]
    },
    {
      "cell_type": "code",
      "source": [
        "# Plot training & validation accuracy values\n",
        "plt.figure(figsize=(10, 5))\n",
        "\n",
        "plt.subplot(1, 2, 1)\n",
        "plt.plot(train_history.history['accuracy'])\n",
        "plt.plot(train_history.history['val_accuracy'])\n",
        "plt.title('Model Accuracy')\n",
        "plt.xlabel('Epoch')\n",
        "plt.ylabel('Accuracy')\n",
        "plt.legend(['Train', 'Validation'], loc='upper left')\n",
        "\n",
        "# Plot training & validation loss values\n",
        "plt.subplot(1, 2, 2)\n",
        "plt.plot(train_history.history['loss'])\n",
        "plt.plot(train_history.history['val_loss'])\n",
        "plt.title('Model Loss')\n",
        "plt.xlabel('Epoch')\n",
        "plt.ylabel('Loss')\n",
        "plt.legend(['Train', 'Validation'], loc='upper right')\n",
        "\n",
        "plt.tight_layout()\n",
        "plt.show()"
      ],
      "metadata": {
        "colab": {
          "base_uri": "https://localhost:8080/",
          "height": 507
        },
        "id": "IkVy6jilIAm6",
        "outputId": "1ec26d27-0565-430d-aea1-822343d56ce5"
      },
      "execution_count": 13,
      "outputs": [
        {
          "output_type": "display_data",
          "data": {
            "text/plain": [
              "<Figure size 1000x500 with 2 Axes>"
            ],
            "image/png": "[encoded data removed]"
          },
          "metadata": {}
        }
      ]
    },
    {
      "cell_type": "code",
      "source": [
        "import numpy as np\n",
        "import matplotlib.pyplot as plt\n",
        "import seaborn as sns\n",
        "from sklearn.metrics import confusion_matrix, classification_report\n",
        "\n",
        "def evaluate_model(train_ds, test_ds, model):\n",
        "    try:\n",
        "        # Evaluate the model\n",
        "        test_loss, test_acc = model.evaluate(test_ds)\n",
        "        train_loss, train_acc = model.evaluate(train_ds)\n",
        "\n",
        "        # Get predictions\n",
        "        train_predictions = np.argmax(model.predict(train_ds), axis=-1)\n",
        "        test_predictions = np.argmax(model.predict(test_ds), axis=-1)\n",
        "\n",
        "        # Get true labels\n",
        "        train_true_labels = np.concatenate([labels.numpy() for _, labels in train_ds])\n",
        "        test_true_labels = np.concatenate([labels.numpy() for _, labels in test_ds])\n",
        "\n",
        "        # Calculate confusion matrices\n",
        "        train_cm = confusion_matrix(train_true_labels, train_predictions)\n",
        "        test_cm = confusion_matrix(test_true_labels, test_predictions)\n",
        "\n",
        "        # Print classification reports\n",
        "        print(\"\\nClassification Report for train:\")\n",
        "        print(classification_report(train_true_labels, train_predictions))\n",
        "\n",
        "        # For each class, calculate specificity\n",
        "        train_specificity = [train_cm[i, i] / sum(train_cm[i, :]) for i in range(train_cm.shape[0])]\n",
        "        print(\"Train's Specificity:\", train_specificity)\n",
        "\n",
        "        print(\"\\nClassification Report for test:\")\n",
        "        print(classification_report(test_true_labels, test_predictions))\n",
        "\n",
        "        # For each class, calculate specificity\n",
        "        test_specificity = [test_cm[i, i] / sum(test_cm[i, :]) for i in range(test_cm.shape[0])]\n",
        "        print(\"Test's Specificity:\", test_specificity)\n",
        "\n",
        "        # Plot confusion matrices\n",
        "        fig, axes = plt.subplots(1, 2, figsize=(12, 6))\n",
        "\n",
        "        sns.heatmap(train_cm, annot=True, cmap='Blues', fmt='g',\n",
        "                    xticklabels=list(range(8)),\n",
        "                    yticklabels=list(range(8)), ax=axes[0])\n",
        "        axes[0].set_title('Train Confusion Matrix')\n",
        "        axes[0].set_xlabel('Predicted')\n",
        "        axes[0].set_ylabel('Actual')\n",
        "\n",
        "        sns.heatmap(test_cm, annot=True, cmap='Blues', fmt='g',\n",
        "                    xticklabels=list(range(8)),\n",
        "                    yticklabels=list(range(8)), ax=axes[1])\n",
        "        axes[1].set_title('Test Confusion Matrix')\n",
        "        axes[1].set_xlabel('Predicted')\n",
        "        axes[1].set_ylabel('Actual')\n",
        "\n",
        "        plt.tight_layout()\n",
        "        plt.show()\n",
        "\n",
        "        return test_acc, test_loss, train_acc, train_loss\n",
        "\n",
        "    except Exception as e:\n",
        "        print(f\"An error occurred: {e}\")\n",
        "        return None, None, None, None\n"
      ],
      "metadata": {
        "id": "DYeztPntU5Am"
      },
      "execution_count": 14,
      "outputs": []
    },
    {
      "cell_type": "code",
      "source": [
        "train_ds = tf.keras.utils.image_dataset_from_directory(\n",
        "directory =train_data_dir,\n",
        "image_size = (128, 128),\n",
        "validation_split = 0.15,\n",
        "subset = \"training\",\n",
        "seed = 42,\n",
        "shuffle = False)\n",
        "\n",
        "validation_ds = tf.keras.utils.image_dataset_from_directory(\n",
        "    directory=train_data_dir,\n",
        "    image_size=(128, 128),\n",
        "    validation_split=0.15,\n",
        "    subset=\"validation\",\n",
        "    seed=42,\n",
        "    shuffle=False\n",
        ")\n",
        "train_ds = train_ds.map(lambda x, y: (x / 255.0, y))\n",
        "validation_ds = validation_ds.map(lambda x, y: (x / 255.0, y))"
      ],
      "metadata": {
        "colab": {
          "base_uri": "https://localhost:8080/"
        },
        "id": "LyyMbOEyVr9T",
        "outputId": "17f68913-3918-4fcb-df03-ee91e1303d9d"
      },
      "execution_count": null,
      "outputs": [
        {
          "output_type": "stream",
          "name": "stdout",
          "text": [
            "Found 8000 files belonging to 8 classes.\n",
            "Using 6800 files for training.\n",
            "Found 8000 files belonging to 8 classes.\n",
            "Using 1200 files for validation.\n"
          ]
        }
      ]
    },
    {
      "cell_type": "code",
      "source": [
        "validation_ds.shuffle=False\n",
        "train_ds.shuffle=False"
      ],
      "metadata": {
        "id": "AX6n-1ob-w5m"
      },
      "execution_count": 16,
      "outputs": []
    },
    {
      "cell_type": "code",
      "source": [
        "import numpy as np\n",
        "model.evaluate(train_ds)\n",
        "model.evaluate(validation_ds)"
      ],
      "metadata": {
        "colab": {
          "base_uri": "https://localhost:8080/"
        },
        "id": "kLSBZOt2hffP",
        "outputId": "c5f113ae-8c95-44ec-9520-3082757263cc"
      },
      "execution_count": 20,
      "outputs": [
        {
          "output_type": "stream",
          "name": "stdout",
          "text": [
            "213/213 [==============================] - 7s 31ms/step - loss: 0.3200 - accuracy: 0.8878\n",
            "38/38 [==============================] - 1s 17ms/step - loss: 2.4902 - accuracy: 0.4975\n"
          ]
        },
        {
          "output_type": "execute_result",
          "data": {
            "text/plain": [
              "[2.4901773929595947, 0.4975000023841858]"
            ]
          },
          "metadata": {},
          "execution_count": 20
        }
      ]
    },
    {
      "cell_type": "markdown",
      "source": [
        "# Tune"
      ],
      "metadata": {
        "id": "tnktUkoCTcLj"
      }
    },
    {
      "cell_type": "code",
      "execution_count": 21,
      "metadata": {
        "colab": {
          "base_uri": "https://localhost:8080/"
        },
        "outputId": "d9270330-b68a-4187-986a-38cefb2613d9",
        "id": "xB3k5sUYOQh8"
      },
      "outputs": [
        {
          "output_type": "stream",
          "name": "stdout",
          "text": [
            "Epoch 1/25\n",
            "50/50 [==============================] - 3s 56ms/step - loss: 2.1107 - accuracy: 0.3506 - val_loss: 2.8860 - val_accuracy: 0.3367\n",
            "Epoch 2/25\n",
            "50/50 [==============================] - 4s 73ms/step - loss: 0.8342 - accuracy: 0.7406 - val_loss: 1.7023 - val_accuracy: 0.4225\n",
            "Epoch 3/25\n",
            "50/50 [==============================] - 4s 82ms/step - loss: 0.1424 - accuracy: 0.9744 - val_loss: 1.8775 - val_accuracy: 0.4167\n",
            "Epoch 4/25\n",
            "50/50 [==============================] - 3s 65ms/step - loss: 0.0289 - accuracy: 0.9962 - val_loss: 2.0154 - val_accuracy: 0.4342\n",
            "Epoch 5/25\n",
            "50/50 [==============================] - 3s 55ms/step - loss: 0.0112 - accuracy: 0.9987 - val_loss: 1.9658 - val_accuracy: 0.4617\n",
            "Epoch 6/25\n",
            "50/50 [==============================] - 4s 73ms/step - loss: 0.0120 - accuracy: 0.9981 - val_loss: 2.0535 - val_accuracy: 0.4592\n",
            "Epoch 7/25\n",
            "50/50 [==============================] - 3s 68ms/step - loss: 0.0071 - accuracy: 0.9987 - val_loss: 2.1034 - val_accuracy: 0.4633\n",
            "Epoch 8/25\n",
            "50/50 [==============================] - 3s 69ms/step - loss: 0.0069 - accuracy: 0.9981 - val_loss: 2.2504 - val_accuracy: 0.4500\n",
            "Epoch 9/25\n",
            "50/50 [==============================] - 3s 64ms/step - loss: 0.0045 - accuracy: 0.9994 - val_loss: 2.1909 - val_accuracy: 0.4733\n",
            "Epoch 10/25\n",
            "50/50 [==============================] - 4s 79ms/step - loss: 0.0048 - accuracy: 0.9987 - val_loss: 2.2269 - val_accuracy: 0.4725\n",
            "Epoch 11/25\n",
            "50/50 [==============================] - 4s 69ms/step - loss: 0.0044 - accuracy: 0.9994 - val_loss: 2.2819 - val_accuracy: 0.4633\n",
            "Epoch 12/25\n",
            "50/50 [==============================] - 3s 64ms/step - loss: 0.0041 - accuracy: 0.9987 - val_loss: 2.2932 - val_accuracy: 0.4642\n",
            "Epoch 13/25\n",
            "50/50 [==============================] - 4s 77ms/step - loss: 0.0038 - accuracy: 0.9987 - val_loss: 2.3091 - val_accuracy: 0.4650\n",
            "Epoch 14/25\n",
            "50/50 [==============================] - 4s 77ms/step - loss: 0.0031 - accuracy: 0.9987 - val_loss: 2.3101 - val_accuracy: 0.4650\n",
            "Epoch 15/25\n",
            "50/50 [==============================] - 3s 55ms/step - loss: 0.0028 - accuracy: 0.9987 - val_loss: 2.3444 - val_accuracy: 0.4633\n",
            "Epoch 16/25\n",
            "50/50 [==============================] - 3s 56ms/step - loss: 0.0029 - accuracy: 0.9994 - val_loss: 2.4272 - val_accuracy: 0.4583\n",
            "Epoch 17/25\n",
            "50/50 [==============================] - 4s 71ms/step - loss: 0.0027 - accuracy: 0.9994 - val_loss: 2.3503 - val_accuracy: 0.4683\n",
            "Epoch 18/25\n",
            "50/50 [==============================] - 4s 72ms/step - loss: 0.0024 - accuracy: 0.9987 - val_loss: 2.3674 - val_accuracy: 0.4583\n",
            "Epoch 19/25\n",
            "50/50 [==============================] - 3s 54ms/step - loss: 0.0031 - accuracy: 0.9987 - val_loss: 2.3876 - val_accuracy: 0.4567\n",
            "Epoch 20/25\n",
            "50/50 [==============================] - 3s 69ms/step - loss: 0.0026 - accuracy: 0.9987 - val_loss: 2.3988 - val_accuracy: 0.4642\n",
            "Epoch 21/25\n",
            "50/50 [==============================] - 4s 75ms/step - loss: 0.0021 - accuracy: 0.9987 - val_loss: 2.4062 - val_accuracy: 0.4600\n",
            "Epoch 22/25\n",
            "50/50 [==============================] - 3s 55ms/step - loss: 0.0018 - accuracy: 0.9994 - val_loss: 2.3946 - val_accuracy: 0.4600\n",
            "Epoch 23/25\n",
            "50/50 [==============================] - 3s 55ms/step - loss: 0.0021 - accuracy: 0.9987 - val_loss: 2.4072 - val_accuracy: 0.4608\n",
            "Epoch 24/25\n",
            "50/50 [==============================] - 3s 63ms/step - loss: 0.0018 - accuracy: 0.9994 - val_loss: 2.4423 - val_accuracy: 0.4558\n",
            "Epoch 25/25\n",
            "50/50 [==============================] - 3s 63ms/step - loss: 0.0020 - accuracy: 0.9987 - val_loss: 2.4718 - val_accuracy: 0.4567\n"
          ]
        }
      ],
      "source": [
        "\n",
        "batch_size=400\n",
        "epoch=25\n",
        "# Train the model\n",
        "tune_history = model.fit(\n",
        "    tune_ds,\n",
        "    epochs=epoch,validation_data=validation_ds\n",
        ")"
      ]
    },
    {
      "cell_type": "code",
      "source": [
        "import json\n",
        "model.save('/content/drive/MyDrive/Untitled Folder/tuned_VGGNet_50_epoch.h5')\n",
        "history_json = json.dumps(tune_history.history)\n",
        "# Save the history to a file\n",
        "with open('/content/drive/MyDrive/Untitled Folder/tuned_history_VGGNet_50.json', 'w') as json_file:\n",
        "    json_file.write(history_json)"
      ],
      "metadata": {
        "id": "ySawdXFaOQh9"
      },
      "execution_count": null,
      "outputs": []
    },
    {
      "cell_type": "code",
      "source": [
        "# Plot training & validation accuracy values\n",
        "plt.figure(figsize=(10, 5))\n",
        "\n",
        "plt.subplot(1, 2, 1)\n",
        "plt.plot(tune_history.history['accuracy'])\n",
        "plt.plot(tune_history.history['val_accuracy'])\n",
        "plt.title('Model Accuracy')\n",
        "plt.xlabel('Epoch')\n",
        "plt.ylabel('Accuracy')\n",
        "plt.legend(['Train', 'Validation'], loc='upper left')\n",
        "\n",
        "# Plot training & validation loss values\n",
        "plt.subplot(1, 2, 2)\n",
        "plt.plot(tune_history.history['loss'])\n",
        "plt.plot(tune_history.history['val_loss'])\n",
        "plt.title('Model Loss')\n",
        "plt.xlabel('Epoch')\n",
        "plt.ylabel('Loss')\n",
        "plt.legend(['Train', 'Validation'], loc='upper right')\n",
        "\n",
        "plt.tight_layout()\n",
        "plt.show()"
      ],
      "metadata": {
        "colab": {
          "base_uri": "https://localhost:8080/",
          "height": 507
        },
        "outputId": "2884002a-597b-4b43-932a-4718776eb486",
        "id": "ZqaBCPc9OQh9"
      },
      "execution_count": 22,
      "outputs": [
        {
          "output_type": "display_data",
          "data": {
            "text/plain": [
              "<Figure size 1000x500 with 2 Axes>"
            ],
            "image/png": "[encoded data removed]"
          },
          "metadata": {}
        }
      ]
    },
    {
      "cell_type": "code",
      "source": [
        "import numpy as np\n",
        "model.evaluate(train_ds)\n",
        "model.evaluate(validation_ds)"
      ],
      "metadata": {
        "colab": {
          "base_uri": "https://localhost:8080/"
        },
        "id": "oEcxyXl_Xran",
        "outputId": "69e4cd0f-f48c-4457-b9a9-512bd7d89e4e"
      },
      "execution_count": 23,
      "outputs": [
        {
          "output_type": "stream",
          "name": "stdout",
          "text": [
            "213/213 [==============================] - 4s 17ms/step - loss: 0.8066 - accuracy: 0.7515\n",
            "38/38 [==============================] - 1s 16ms/step - loss: 2.4718 - accuracy: 0.4567\n"
          ]
        },
        {
          "output_type": "execute_result",
          "data": {
            "text/plain": [
              "[2.471771240234375, 0.4566666781902313]"
            ]
          },
          "metadata": {},
          "execution_count": 23
        }
      ]
    }
  ]
}