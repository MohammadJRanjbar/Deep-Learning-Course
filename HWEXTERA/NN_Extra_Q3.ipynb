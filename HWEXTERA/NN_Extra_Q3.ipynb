{
  "nbformat": 4,
  "nbformat_minor": 0,
  "metadata": {
    "colab": {
      "provenance": [],
      "gpuType": "T4",
      "collapsed_sections": [
        "64I0ghGimyKh",
        "gxVmQpJziHQa",
        "5PanHdZqfKXn",
        "LE0cLmCDyB5i"
      ]
    },
    "kernelspec": {
      "name": "python3",
      "display_name": "Python 3"
    },
    "language_info": {
      "name": "python"
    },
    "accelerator": "GPU"
  },
  "cells": [
    {
      "cell_type": "code",
      "source": [
        "!mkdir -p ~/.kaggle\n",
        "!cp kaggle.json ~/.kaggle/\n",
        "!chmod 600 ~/.kaggle/kaggle.json\n"
      ],
      "metadata": {
        "id": "nS7J_1YEaBFl"
      },
      "execution_count": null,
      "outputs": []
    },
    {
      "cell_type": "code",
      "execution_count": null,
      "metadata": {
        "colab": {
          "base_uri": "https://localhost:8080/"
        },
        "id": "12dyDbFyYclN",
        "outputId": "a43c590a-68d8-4fde-f5be-72689f2c2d0d"
      },
      "outputs": [
        {
          "output_type": "stream",
          "name": "stdout",
          "text": [
            "Downloading creditcardfraud.zip to /content\n",
            " 97% 64.0M/66.0M [00:03<00:00, 25.1MB/s]\n",
            "100% 66.0M/66.0M [00:03<00:00, 17.5MB/s]\n"
          ]
        }
      ],
      "source": [
        "!kaggle datasets download -d mlg-ulb/creditcardfraud"
      ]
    },
    {
      "cell_type": "code",
      "source": [
        "!unzip /content/creditcardfraud.zip"
      ],
      "metadata": {
        "colab": {
          "base_uri": "https://localhost:8080/"
        },
        "id": "Ufi9tQKUacNj",
        "outputId": "9f9e2755-9fd8-401d-dc6b-674726a3e11a"
      },
      "execution_count": null,
      "outputs": [
        {
          "output_type": "stream",
          "name": "stdout",
          "text": [
            "Archive:  /content/creditcardfraud.zip\n",
            "  inflating: creditcard.csv          \n"
          ]
        }
      ]
    },
    {
      "cell_type": "code",
      "source": [
        "import pandas as pd\n",
        "df=pd.read_csv(\"/content/creditcard.csv\")"
      ],
      "metadata": {
        "id": "nhZkC8SDaeil"
      },
      "execution_count": null,
      "outputs": []
    },
    {
      "cell_type": "code",
      "source": [
        "df"
      ],
      "metadata": {
        "colab": {
          "base_uri": "https://localhost:8080/",
          "height": 444
        },
        "id": "BT7Q941vap7G",
        "outputId": "bfe1ddb2-e65a-4cb1-a9fc-80fd0ed2ebd9"
      },
      "execution_count": null,
      "outputs": [
        {
          "output_type": "execute_result",
          "data": {
            "text/plain": [
              "            Time         V1         V2        V3        V4        V5  \\\n",
              "0            0.0  -1.359807  -0.072781  2.536347  1.378155 -0.338321   \n",
              "1            0.0   1.191857   0.266151  0.166480  0.448154  0.060018   \n",
              "2            1.0  -1.358354  -1.340163  1.773209  0.379780 -0.503198   \n",
              "3            1.0  -0.966272  -0.185226  1.792993 -0.863291 -0.010309   \n",
              "4            2.0  -1.158233   0.877737  1.548718  0.403034 -0.407193   \n",
              "...          ...        ...        ...       ...       ...       ...   \n",
              "284802  172786.0 -11.881118  10.071785 -9.834783 -2.066656 -5.364473   \n",
              "284803  172787.0  -0.732789  -0.055080  2.035030 -0.738589  0.868229   \n",
              "284804  172788.0   1.919565  -0.301254 -3.249640 -0.557828  2.630515   \n",
              "284805  172788.0  -0.240440   0.530483  0.702510  0.689799 -0.377961   \n",
              "284806  172792.0  -0.533413  -0.189733  0.703337 -0.506271 -0.012546   \n",
              "\n",
              "              V6        V7        V8        V9  ...       V21       V22  \\\n",
              "0       0.462388  0.239599  0.098698  0.363787  ... -0.018307  0.277838   \n",
              "1      -0.082361 -0.078803  0.085102 -0.255425  ... -0.225775 -0.638672   \n",
              "2       1.800499  0.791461  0.247676 -1.514654  ...  0.247998  0.771679   \n",
              "3       1.247203  0.237609  0.377436 -1.387024  ... -0.108300  0.005274   \n",
              "4       0.095921  0.592941 -0.270533  0.817739  ... -0.009431  0.798278   \n",
              "...          ...       ...       ...       ...  ...       ...       ...   \n",
              "284802 -2.606837 -4.918215  7.305334  1.914428  ...  0.213454  0.111864   \n",
              "284803  1.058415  0.024330  0.294869  0.584800  ...  0.214205  0.924384   \n",
              "284804  3.031260 -0.296827  0.708417  0.432454  ...  0.232045  0.578229   \n",
              "284805  0.623708 -0.686180  0.679145  0.392087  ...  0.265245  0.800049   \n",
              "284806 -0.649617  1.577006 -0.414650  0.486180  ...  0.261057  0.643078   \n",
              "\n",
              "             V23       V24       V25       V26       V27       V28  Amount  \\\n",
              "0      -0.110474  0.066928  0.128539 -0.189115  0.133558 -0.021053  149.62   \n",
              "1       0.101288 -0.339846  0.167170  0.125895 -0.008983  0.014724    2.69   \n",
              "2       0.909412 -0.689281 -0.327642 -0.139097 -0.055353 -0.059752  378.66   \n",
              "3      -0.190321 -1.175575  0.647376 -0.221929  0.062723  0.061458  123.50   \n",
              "4      -0.137458  0.141267 -0.206010  0.502292  0.219422  0.215153   69.99   \n",
              "...          ...       ...       ...       ...       ...       ...     ...   \n",
              "284802  1.014480 -0.509348  1.436807  0.250034  0.943651  0.823731    0.77   \n",
              "284803  0.012463 -1.016226 -0.606624 -0.395255  0.068472 -0.053527   24.79   \n",
              "284804 -0.037501  0.640134  0.265745 -0.087371  0.004455 -0.026561   67.88   \n",
              "284805 -0.163298  0.123205 -0.569159  0.546668  0.108821  0.104533   10.00   \n",
              "284806  0.376777  0.008797 -0.473649 -0.818267 -0.002415  0.013649  217.00   \n",
              "\n",
              "        Class  \n",
              "0           0  \n",
              "1           0  \n",
              "2           0  \n",
              "3           0  \n",
              "4           0  \n",
              "...       ...  \n",
              "284802      0  \n",
              "284803      0  \n",
              "284804      0  \n",
              "284805      0  \n",
              "284806      0  \n",
              "\n",
              "[284807 rows x 31 columns]"
            ],
            "text/html": [
              "\n",
              "  <div id=\"df-6b618e76-a3ba-4d1a-ae88-dce354a42c96\" class=\"colab-df-container\">\n",
              "    <div>\n",
              "<style scoped>\n",
              "    .dataframe tbody tr th:only-of-type {\n",
              "        vertical-align: middle;\n",
              "    }\n",
              "\n",
              "    .dataframe tbody tr th {\n",
              "        vertical-align: top;\n",
              "    }\n",
              "\n",
              "    .dataframe thead th {\n",
              "        text-align: right;\n",
              "    }\n",
              "</style>\n",
              "<table border=\"1\" class=\"dataframe\">\n",
              "  <thead>\n",
              "    <tr style=\"text-align: right;\">\n",
              "      <th></th>\n",
              "      <th>Time</th>\n",
              "      <th>V1</th>\n",
              "      <th>V2</th>\n",
              "      <th>V3</th>\n",
              "      <th>V4</th>\n",
              "      <th>V5</th>\n",
              "      <th>V6</th>\n",
              "      <th>V7</th>\n",
              "      <th>V8</th>\n",
              "      <th>V9</th>\n",
              "      <th>...</th>\n",
              "      <th>V21</th>\n",
              "      <th>V22</th>\n",
              "      <th>V23</th>\n",
              "      <th>V24</th>\n",
              "      <th>V25</th>\n",
              "      <th>V26</th>\n",
              "      <th>V27</th>\n",
              "      <th>V28</th>\n",
              "      <th>Amount</th>\n",
              "      <th>Class</th>\n",
              "    </tr>\n",
              "  </thead>\n",
              "  <tbody>\n",
              "    <tr>\n",
              "      <th>0</th>\n",
              "      <td>0.0</td>\n",
              "      <td>-1.359807</td>\n",
              "      <td>-0.072781</td>\n",
              "      <td>2.536347</td>\n",
              "      <td>1.378155</td>\n",
              "      <td>-0.338321</td>\n",
              "      <td>0.462388</td>\n",
              "      <td>0.239599</td>\n",
              "      <td>0.098698</td>\n",
              "      <td>0.363787</td>\n",
              "      <td>...</td>\n",
              "      <td>-0.018307</td>\n",
              "      <td>0.277838</td>\n",
              "      <td>-0.110474</td>\n",
              "      <td>0.066928</td>\n",
              "      <td>0.128539</td>\n",
              "      <td>-0.189115</td>\n",
              "      <td>0.133558</td>\n",
              "      <td>-0.021053</td>\n",
              "      <td>149.62</td>\n",
              "      <td>0</td>\n",
              "    </tr>\n",
              "    <tr>\n",
              "      <th>1</th>\n",
              "      <td>0.0</td>\n",
              "      <td>1.191857</td>\n",
              "      <td>0.266151</td>\n",
              "      <td>0.166480</td>\n",
              "      <td>0.448154</td>\n",
              "      <td>0.060018</td>\n",
              "      <td>-0.082361</td>\n",
              "      <td>-0.078803</td>\n",
              "      <td>0.085102</td>\n",
              "      <td>-0.255425</td>\n",
              "      <td>...</td>\n",
              "      <td>-0.225775</td>\n",
              "      <td>-0.638672</td>\n",
              "      <td>0.101288</td>\n",
              "      <td>-0.339846</td>\n",
              "      <td>0.167170</td>\n",
              "      <td>0.125895</td>\n",
              "      <td>-0.008983</td>\n",
              "      <td>0.014724</td>\n",
              "      <td>2.69</td>\n",
              "      <td>0</td>\n",
              "    </tr>\n",
              "    <tr>\n",
              "      <th>2</th>\n",
              "      <td>1.0</td>\n",
              "      <td>-1.358354</td>\n",
              "      <td>-1.340163</td>\n",
              "      <td>1.773209</td>\n",
              "      <td>0.379780</td>\n",
              "      <td>-0.503198</td>\n",
              "      <td>1.800499</td>\n",
              "      <td>0.791461</td>\n",
              "      <td>0.247676</td>\n",
              "      <td>-1.514654</td>\n",
              "      <td>...</td>\n",
              "      <td>0.247998</td>\n",
              "      <td>0.771679</td>\n",
              "      <td>0.909412</td>\n",
              "      <td>-0.689281</td>\n",
              "      <td>-0.327642</td>\n",
              "      <td>-0.139097</td>\n",
              "      <td>-0.055353</td>\n",
              "      <td>-0.059752</td>\n",
              "      <td>378.66</td>\n",
              "      <td>0</td>\n",
              "    </tr>\n",
              "    <tr>\n",
              "      <th>3</th>\n",
              "      <td>1.0</td>\n",
              "      <td>-0.966272</td>\n",
              "      <td>-0.185226</td>\n",
              "      <td>1.792993</td>\n",
              "      <td>-0.863291</td>\n",
              "      <td>-0.010309</td>\n",
              "      <td>1.247203</td>\n",
              "      <td>0.237609</td>\n",
              "      <td>0.377436</td>\n",
              "      <td>-1.387024</td>\n",
              "      <td>...</td>\n",
              "      <td>-0.108300</td>\n",
              "      <td>0.005274</td>\n",
              "      <td>-0.190321</td>\n",
              "      <td>-1.175575</td>\n",
              "      <td>0.647376</td>\n",
              "      <td>-0.221929</td>\n",
              "      <td>0.062723</td>\n",
              "      <td>0.061458</td>\n",
              "      <td>123.50</td>\n",
              "      <td>0</td>\n",
              "    </tr>\n",
              "    <tr>\n",
              "      <th>4</th>\n",
              "      <td>2.0</td>\n",
              "      <td>-1.158233</td>\n",
              "      <td>0.877737</td>\n",
              "      <td>1.548718</td>\n",
              "      <td>0.403034</td>\n",
              "      <td>-0.407193</td>\n",
              "      <td>0.095921</td>\n",
              "      <td>0.592941</td>\n",
              "      <td>-0.270533</td>\n",
              "      <td>0.817739</td>\n",
              "      <td>...</td>\n",
              "      <td>-0.009431</td>\n",
              "      <td>0.798278</td>\n",
              "      <td>-0.137458</td>\n",
              "      <td>0.141267</td>\n",
              "      <td>-0.206010</td>\n",
              "      <td>0.502292</td>\n",
              "      <td>0.219422</td>\n",
              "      <td>0.215153</td>\n",
              "      <td>69.99</td>\n",
              "      <td>0</td>\n",
              "    </tr>\n",
              "    <tr>\n",
              "      <th>...</th>\n",
              "      <td>...</td>\n",
              "      <td>...</td>\n",
              "      <td>...</td>\n",
              "      <td>...</td>\n",
              "      <td>...</td>\n",
              "      <td>...</td>\n",
              "      <td>...</td>\n",
              "      <td>...</td>\n",
              "      <td>...</td>\n",
              "      <td>...</td>\n",
              "      <td>...</td>\n",
              "      <td>...</td>\n",
              "      <td>...</td>\n",
              "      <td>...</td>\n",
              "      <td>...</td>\n",
              "      <td>...</td>\n",
              "      <td>...</td>\n",
              "      <td>...</td>\n",
              "      <td>...</td>\n",
              "      <td>...</td>\n",
              "      <td>...</td>\n",
              "    </tr>\n",
              "    <tr>\n",
              "      <th>284802</th>\n",
              "      <td>172786.0</td>\n",
              "      <td>-11.881118</td>\n",
              "      <td>10.071785</td>\n",
              "      <td>-9.834783</td>\n",
              "      <td>-2.066656</td>\n",
              "      <td>-5.364473</td>\n",
              "      <td>-2.606837</td>\n",
              "      <td>-4.918215</td>\n",
              "      <td>7.305334</td>\n",
              "      <td>1.914428</td>\n",
              "      <td>...</td>\n",
              "      <td>0.213454</td>\n",
              "      <td>0.111864</td>\n",
              "      <td>1.014480</td>\n",
              "      <td>-0.509348</td>\n",
              "      <td>1.436807</td>\n",
              "      <td>0.250034</td>\n",
              "      <td>0.943651</td>\n",
              "      <td>0.823731</td>\n",
              "      <td>0.77</td>\n",
              "      <td>0</td>\n",
              "    </tr>\n",
              "    <tr>\n",
              "      <th>284803</th>\n",
              "      <td>172787.0</td>\n",
              "      <td>-0.732789</td>\n",
              "      <td>-0.055080</td>\n",
              "      <td>2.035030</td>\n",
              "      <td>-0.738589</td>\n",
              "      <td>0.868229</td>\n",
              "      <td>1.058415</td>\n",
              "      <td>0.024330</td>\n",
              "      <td>0.294869</td>\n",
              "      <td>0.584800</td>\n",
              "      <td>...</td>\n",
              "      <td>0.214205</td>\n",
              "      <td>0.924384</td>\n",
              "      <td>0.012463</td>\n",
              "      <td>-1.016226</td>\n",
              "      <td>-0.606624</td>\n",
              "      <td>-0.395255</td>\n",
              "      <td>0.068472</td>\n",
              "      <td>-0.053527</td>\n",
              "      <td>24.79</td>\n",
              "      <td>0</td>\n",
              "    </tr>\n",
              "    <tr>\n",
              "      <th>284804</th>\n",
              "      <td>172788.0</td>\n",
              "      <td>1.919565</td>\n",
              "      <td>-0.301254</td>\n",
              "      <td>-3.249640</td>\n",
              "      <td>-0.557828</td>\n",
              "      <td>2.630515</td>\n",
              "      <td>3.031260</td>\n",
              "      <td>-0.296827</td>\n",
              "      <td>0.708417</td>\n",
              "      <td>0.432454</td>\n",
              "      <td>...</td>\n",
              "      <td>0.232045</td>\n",
              "      <td>0.578229</td>\n",
              "      <td>-0.037501</td>\n",
              "      <td>0.640134</td>\n",
              "      <td>0.265745</td>\n",
              "      <td>-0.087371</td>\n",
              "      <td>0.004455</td>\n",
              "      <td>-0.026561</td>\n",
              "      <td>67.88</td>\n",
              "      <td>0</td>\n",
              "    </tr>\n",
              "    <tr>\n",
              "      <th>284805</th>\n",
              "      <td>172788.0</td>\n",
              "      <td>-0.240440</td>\n",
              "      <td>0.530483</td>\n",
              "      <td>0.702510</td>\n",
              "      <td>0.689799</td>\n",
              "      <td>-0.377961</td>\n",
              "      <td>0.623708</td>\n",
              "      <td>-0.686180</td>\n",
              "      <td>0.679145</td>\n",
              "      <td>0.392087</td>\n",
              "      <td>...</td>\n",
              "      <td>0.265245</td>\n",
              "      <td>0.800049</td>\n",
              "      <td>-0.163298</td>\n",
              "      <td>0.123205</td>\n",
              "      <td>-0.569159</td>\n",
              "      <td>0.546668</td>\n",
              "      <td>0.108821</td>\n",
              "      <td>0.104533</td>\n",
              "      <td>10.00</td>\n",
              "      <td>0</td>\n",
              "    </tr>\n",
              "    <tr>\n",
              "      <th>284806</th>\n",
              "      <td>172792.0</td>\n",
              "      <td>-0.533413</td>\n",
              "      <td>-0.189733</td>\n",
              "      <td>0.703337</td>\n",
              "      <td>-0.506271</td>\n",
              "      <td>-0.012546</td>\n",
              "      <td>-0.649617</td>\n",
              "      <td>1.577006</td>\n",
              "      <td>-0.414650</td>\n",
              "      <td>0.486180</td>\n",
              "      <td>...</td>\n",
              "      <td>0.261057</td>\n",
              "      <td>0.643078</td>\n",
              "      <td>0.376777</td>\n",
              "      <td>0.008797</td>\n",
              "      <td>-0.473649</td>\n",
              "      <td>-0.818267</td>\n",
              "      <td>-0.002415</td>\n",
              "      <td>0.013649</td>\n",
              "      <td>217.00</td>\n",
              "      <td>0</td>\n",
              "    </tr>\n",
              "  </tbody>\n",
              "</table>\n",
              "<p>284807 rows × 31 columns</p>\n",
              "</div>\n",
              "    <div class=\"colab-df-buttons\">\n",
              "\n",
              "  <div class=\"colab-df-container\">\n",
              "    <button class=\"colab-df-convert\" onclick=\"convertToInteractive('df-6b618e76-a3ba-4d1a-ae88-dce354a42c96')\"\n",
              "            title=\"Convert this dataframe to an interactive table.\"\n",
              "            style=\"display:none;\">\n",
              "\n",
              "  <svg xmlns=\"http://www.w3.org/2000/svg\" height=\"24px\" viewBox=\"0 -960 960 960\">\n",
              "    <path d=\"M120-120v-720h720v720H120Zm60-500h600v-160H180v160Zm220 220h160v-160H400v160Zm0 220h160v-160H400v160ZM180-400h160v-160H180v160Zm440 0h160v-160H620v160ZM180-180h160v-160H180v160Zm440 0h160v-160H620v160Z\"/>\n",
              "  </svg>\n",
              "    </button>\n",
              "\n",
              "  <style>\n",
              "    .colab-df-container {\n",
              "      display:flex;\n",
              "      gap: 12px;\n",
              "    }\n",
              "\n",
              "    .colab-df-convert {\n",
              "      background-color: #E8F0FE;\n",
              "      border: none;\n",
              "      border-radius: 50%;\n",
              "      cursor: pointer;\n",
              "      display: none;\n",
              "      fill: #1967D2;\n",
              "      height: 32px;\n",
              "      padding: 0 0 0 0;\n",
              "      width: 32px;\n",
              "    }\n",
              "\n",
              "    .colab-df-convert:hover {\n",
              "      background-color: #E2EBFA;\n",
              "      box-shadow: 0px 1px 2px rgba(60, 64, 67, 0.3), 0px 1px 3px 1px rgba(60, 64, 67, 0.15);\n",
              "      fill: #174EA6;\n",
              "    }\n",
              "\n",
              "    .colab-df-buttons div {\n",
              "      margin-bottom: 4px;\n",
              "    }\n",
              "\n",
              "    [theme=dark] .colab-df-convert {\n",
              "      background-color: #3B4455;\n",
              "      fill: #D2E3FC;\n",
              "    }\n",
              "\n",
              "    [theme=dark] .colab-df-convert:hover {\n",
              "      background-color: #434B5C;\n",
              "      box-shadow: 0px 1px 3px 1px rgba(0, 0, 0, 0.15);\n",
              "      filter: drop-shadow(0px 1px 2px rgba(0, 0, 0, 0.3));\n",
              "      fill: #FFFFFF;\n",
              "    }\n",
              "  </style>\n",
              "\n",
              "    <script>\n",
              "      const buttonEl =\n",
              "        document.querySelector('#df-6b618e76-a3ba-4d1a-ae88-dce354a42c96 button.colab-df-convert');\n",
              "      buttonEl.style.display =\n",
              "        google.colab.kernel.accessAllowed ? 'block' : 'none';\n",
              "\n",
              "      async function convertToInteractive(key) {\n",
              "        const element = document.querySelector('#df-6b618e76-a3ba-4d1a-ae88-dce354a42c96');\n",
              "        const dataTable =\n",
              "          await google.colab.kernel.invokeFunction('convertToInteractive',\n",
              "                                                    [key], {});\n",
              "        if (!dataTable) return;\n",
              "\n",
              "        const docLinkHtml = 'Like what you see? Visit the ' +\n",
              "          '<a target=\"_blank\" href=https://colab.research.google.com/notebooks/data_table.ipynb>data table notebook</a>'\n",
              "          + ' to learn more about interactive tables.';\n",
              "        element.innerHTML = '';\n",
              "        dataTable['output_type'] = 'display_data';\n",
              "        await google.colab.output.renderOutput(dataTable, element);\n",
              "        const docLink = document.createElement('div');\n",
              "        docLink.innerHTML = docLinkHtml;\n",
              "        element.appendChild(docLink);\n",
              "      }\n",
              "    </script>\n",
              "  </div>\n",
              "\n",
              "\n",
              "<div id=\"df-4c4e59c3-3bf4-45c2-9ab3-9edecf1ba74f\">\n",
              "  <button class=\"colab-df-quickchart\" onclick=\"quickchart('df-4c4e59c3-3bf4-45c2-9ab3-9edecf1ba74f')\"\n",
              "            title=\"Suggest charts\"\n",
              "            style=\"display:none;\">\n",
              "\n",
              "<svg xmlns=\"http://www.w3.org/2000/svg\" height=\"24px\"viewBox=\"0 0 24 24\"\n",
              "     width=\"24px\">\n",
              "    <g>\n",
              "        <path d=\"M19 3H5c-1.1 0-2 .9-2 2v14c0 1.1.9 2 2 2h14c1.1 0 2-.9 2-2V5c0-1.1-.9-2-2-2zM9 17H7v-7h2v7zm4 0h-2V7h2v10zm4 0h-2v-4h2v4z\"/>\n",
              "    </g>\n",
              "</svg>\n",
              "  </button>\n",
              "\n",
              "<style>\n",
              "  .colab-df-quickchart {\n",
              "      --bg-color: #E8F0FE;\n",
              "      --fill-color: #1967D2;\n",
              "      --hover-bg-color: #E2EBFA;\n",
              "      --hover-fill-color: #174EA6;\n",
              "      --disabled-fill-color: #AAA;\n",
              "      --disabled-bg-color: #DDD;\n",
              "  }\n",
              "\n",
              "  [theme=dark] .colab-df-quickchart {\n",
              "      --bg-color: #3B4455;\n",
              "      --fill-color: #D2E3FC;\n",
              "      --hover-bg-color: #434B5C;\n",
              "      --hover-fill-color: #FFFFFF;\n",
              "      --disabled-bg-color: #3B4455;\n",
              "      --disabled-fill-color: #666;\n",
              "  }\n",
              "\n",
              "  .colab-df-quickchart {\n",
              "    background-color: var(--bg-color);\n",
              "    border: none;\n",
              "    border-radius: 50%;\n",
              "    cursor: pointer;\n",
              "    display: none;\n",
              "    fill: var(--fill-color);\n",
              "    height: 32px;\n",
              "    padding: 0;\n",
              "    width: 32px;\n",
              "  }\n",
              "\n",
              "  .colab-df-quickchart:hover {\n",
              "    background-color: var(--hover-bg-color);\n",
              "    box-shadow: 0 1px 2px rgba(60, 64, 67, 0.3), 0 1px 3px 1px rgba(60, 64, 67, 0.15);\n",
              "    fill: var(--button-hover-fill-color);\n",
              "  }\n",
              "\n",
              "  .colab-df-quickchart-complete:disabled,\n",
              "  .colab-df-quickchart-complete:disabled:hover {\n",
              "    background-color: var(--disabled-bg-color);\n",
              "    fill: var(--disabled-fill-color);\n",
              "    box-shadow: none;\n",
              "  }\n",
              "\n",
              "  .colab-df-spinner {\n",
              "    border: 2px solid var(--fill-color);\n",
              "    border-color: transparent;\n",
              "    border-bottom-color: var(--fill-color);\n",
              "    animation:\n",
              "      spin 1s steps(1) infinite;\n",
              "  }\n",
              "\n",
              "  @keyframes spin {\n",
              "    0% {\n",
              "      border-color: transparent;\n",
              "      border-bottom-color: var(--fill-color);\n",
              "      border-left-color: var(--fill-color);\n",
              "    }\n",
              "    20% {\n",
              "      border-color: transparent;\n",
              "      border-left-color: var(--fill-color);\n",
              "      border-top-color: var(--fill-color);\n",
              "    }\n",
              "    30% {\n",
              "      border-color: transparent;\n",
              "      border-left-color: var(--fill-color);\n",
              "      border-top-color: var(--fill-color);\n",
              "      border-right-color: var(--fill-color);\n",
              "    }\n",
              "    40% {\n",
              "      border-color: transparent;\n",
              "      border-right-color: var(--fill-color);\n",
              "      border-top-color: var(--fill-color);\n",
              "    }\n",
              "    60% {\n",
              "      border-color: transparent;\n",
              "      border-right-color: var(--fill-color);\n",
              "    }\n",
              "    80% {\n",
              "      border-color: transparent;\n",
              "      border-right-color: var(--fill-color);\n",
              "      border-bottom-color: var(--fill-color);\n",
              "    }\n",
              "    90% {\n",
              "      border-color: transparent;\n",
              "      border-bottom-color: var(--fill-color);\n",
              "    }\n",
              "  }\n",
              "</style>\n",
              "\n",
              "  <script>\n",
              "    async function quickchart(key) {\n",
              "      const quickchartButtonEl =\n",
              "        document.querySelector('#' + key + ' button');\n",
              "      quickchartButtonEl.disabled = true;  // To prevent multiple clicks.\n",
              "      quickchartButtonEl.classList.add('colab-df-spinner');\n",
              "      try {\n",
              "        const charts = await google.colab.kernel.invokeFunction(\n",
              "            'suggestCharts', [key], {});\n",
              "      } catch (error) {\n",
              "        console.error('Error during call to suggestCharts:', error);\n",
              "      }\n",
              "      quickchartButtonEl.classList.remove('colab-df-spinner');\n",
              "      quickchartButtonEl.classList.add('colab-df-quickchart-complete');\n",
              "    }\n",
              "    (() => {\n",
              "      let quickchartButtonEl =\n",
              "        document.querySelector('#df-4c4e59c3-3bf4-45c2-9ab3-9edecf1ba74f button');\n",
              "      quickchartButtonEl.style.display =\n",
              "        google.colab.kernel.accessAllowed ? 'block' : 'none';\n",
              "    })();\n",
              "  </script>\n",
              "</div>\n",
              "    </div>\n",
              "  </div>\n"
            ]
          },
          "metadata": {},
          "execution_count": 5
        }
      ]
    },
    {
      "cell_type": "code",
      "source": [
        "import matplotlib.pyplot as plt\n",
        "\n",
        "plt.figure(figsize=(8, 6))\n",
        "class_counts = df['Class'].value_counts()\n",
        "class_counts.plot(kind='bar', color=['green', 'red'])\n",
        "plt.title('Credit Card Fraud Detection - Class Distribution')\n",
        "plt.xlabel('Class')\n",
        "plt.ylabel('Count')\n",
        "plt.xticks(rotation=0, ticks=[0, 1], labels=['Non-Fraudulent', 'Fraudulent'])\n",
        "plt.show()"
      ],
      "metadata": {
        "colab": {
          "base_uri": "https://localhost:8080/",
          "height": 564
        },
        "id": "MJNAoAi5awjd",
        "outputId": "337dfbca-dd6f-4430-b555-52351dfdbbbe"
      },
      "execution_count": null,
      "outputs": [
        {
          "output_type": "display_data",
          "data": {
            "text/plain": [
              "<Figure size 800x600 with 1 Axes>"
            ],
            "image/png": "[encoded data removed]"
          },
          "metadata": {}
        }
      ]
    },
    {
      "cell_type": "code",
      "source": [
        "import pandas as pd\n",
        "from sklearn.model_selection import train_test_split\n",
        "from sklearn.preprocessing import MinMaxScaler\n",
        "\n",
        "# Assuming your DataFrame is named 'df'\n",
        "# Features (X) are all columns except 'Class'\n",
        "# Target variable (y) is 'Class'\n",
        "X = df.drop('Class', axis=1)\n",
        "y = df['Class']\n",
        "\n",
        "# Use MinMaxScaler for normalization\n",
        "scaler = MinMaxScaler()\n",
        "X = scaler.fit_transform(X)\n",
        "\n",
        "# Split the data into training (80%) and temporary set (20%)\n",
        "X_train, X_test, y_train, y_test = train_test_split(X, y, test_size=0.6, random_state=42)\n",
        "\n",
        "# Split the temporary set into validation (50%) and final test set (50%)\n",
        "X_test, X_val, y_test, y_val = train_test_split(X_test, y_test, test_size=0.5, random_state=42)\n",
        "\n",
        "# Display the shapes of the sets\n",
        "print(\"Train set shape:\", X_train.shape, y_train.shape)\n",
        "print(\"Validation set shape:\", X_val.shape, y_val.shape)\n",
        "print(\"Test set shape:\", X_test.shape, y_test.shape)\n"
      ],
      "metadata": {
        "colab": {
          "base_uri": "https://localhost:8080/"
        },
        "id": "qbozxKHUdU9f",
        "outputId": "b266a4b3-41b0-425c-9ac3-82257e6a3ce7"
      },
      "execution_count": null,
      "outputs": [
        {
          "output_type": "stream",
          "name": "stdout",
          "text": [
            "Train set shape: (113922, 30) (113922,)\n",
            "Validation set shape: (85443, 30) (85443,)\n",
            "Test set shape: (85442, 30) (85442,)\n"
          ]
        }
      ]
    },
    {
      "cell_type": "code",
      "source": [
        "X_train = X_train.reshape((X_train.shape[0], X_train.shape[1], 1))\n",
        "X_val = X_val.reshape((X_val.shape[0], X_val.shape[1], 1))\n",
        "X_val = X_val.reshape((X_val.shape[0], X_val.shape[1], 1))"
      ],
      "metadata": {
        "id": "cgimm4E5ekR_"
      },
      "execution_count": null,
      "outputs": []
    },
    {
      "cell_type": "markdown",
      "source": [
        "# Model"
      ],
      "metadata": {
        "id": "z3ignMSNcMJO"
      }
    },
    {
      "cell_type": "code",
      "source": [
        "from tensorflow.keras.models import Sequential\n",
        "from tensorflow.keras.layers import Conv1D, BatchNormalization, MaxPooling1D, Dropout, Flatten, Dense\n",
        "\n",
        "model = Sequential()\n",
        "\n",
        "# Conv1D Layer 1\n",
        "model.add(Conv1D(filters=32, kernel_size=2, activation='relu', input_shape=(X_train.shape[1], X_train.shape[2])))\n",
        "\n",
        "# BatchNormalization 1\n",
        "model.add(BatchNormalization())\n",
        "\n",
        "# MaxPool1D 1\n",
        "model.add(MaxPooling1D(pool_size=2))\n",
        "\n",
        "# Dropout 1\n",
        "model.add(Dropout(rate=0.2))\n",
        "\n",
        "# Conv1D Layer 2\n",
        "model.add(Conv1D(filters=64, kernel_size=2, activation='relu'))\n",
        "\n",
        "# BatchNormalization 2\n",
        "model.add(BatchNormalization())\n",
        "\n",
        "# MaxPool1D 2\n",
        "model.add(MaxPooling1D(pool_size=2))\n",
        "\n",
        "# Dropout 2\n",
        "model.add(Dropout(rate=0.5))\n",
        "\n",
        "# Flatten\n",
        "model.add(Flatten())\n",
        "\n",
        "# Dense 1\n",
        "model.add(Dense(units=64, activation='relu'))\n",
        "\n",
        "# Dropout 3\n",
        "model.add(Dropout(rate=0.5))\n",
        "\n",
        "# Dense 2\n",
        "model.add(Dense(units=64, activation='relu'))\n",
        "model.add(Dense(units=1, activation='sigmoid'))"
      ],
      "metadata": {
        "id": "70N-899QcNVf"
      },
      "execution_count": null,
      "outputs": []
    },
    {
      "cell_type": "code",
      "source": [
        "from tensorflow.keras.models import Sequential\n",
        "from tensorflow.keras.layers import Dense\n",
        "from tensorflow.keras.optimizers import Adam\n",
        "\n",
        "model.compile(optimizer=Adam(learning_rate=0.0001),\n",
        "              loss='binary_crossentropy',\n",
        "              metrics=['accuracy'])\n",
        "\n",
        "# Assuming you have training data (X_train, y_train) and validation data (X_val, y_val)\n",
        "epochs = 46\n",
        "\n",
        "# Train the model\n",
        "history = model.fit(X_train, y_train,\n",
        "                    epochs=epochs,\n",
        "                    validation_data=(X_val, y_val))  # Adjust verbose as needed (0: silent, 1: progress bar, 2: one line per epoch)"
      ],
      "metadata": {
        "colab": {
          "base_uri": "https://localhost:8080/"
        },
        "id": "WIGpUAQEcxAn",
        "outputId": "a135fbff-6ffc-4f87-fa80-2d6b609f8afa"
      },
      "execution_count": null,
      "outputs": [
        {
          "output_type": "stream",
          "name": "stdout",
          "text": [
            "Epoch 1/46\n",
            "3561/3561 [==============================] - 49s 11ms/step - loss: 0.0184 - accuracy: 0.9956 - val_loss: 0.0038 - val_accuracy: 0.9992\n",
            "Epoch 2/46\n",
            "3561/3561 [==============================] - 40s 11ms/step - loss: 0.0056 - accuracy: 0.9990 - val_loss: 0.0042 - val_accuracy: 0.9994\n",
            "Epoch 3/46\n",
            "3561/3561 [==============================] - 34s 9ms/step - loss: 0.0049 - accuracy: 0.9991 - val_loss: 0.0039 - val_accuracy: 0.9994\n",
            "Epoch 4/46\n",
            "3561/3561 [==============================] - 31s 9ms/step - loss: 0.0045 - accuracy: 0.9992 - val_loss: 0.0037 - val_accuracy: 0.9994\n",
            "Epoch 5/46\n",
            "3561/3561 [==============================] - 30s 8ms/step - loss: 0.0043 - accuracy: 0.9992 - val_loss: 0.0037 - val_accuracy: 0.9993\n",
            "Epoch 6/46\n",
            "3561/3561 [==============================] - 34s 10ms/step - loss: 0.0040 - accuracy: 0.9992 - val_loss: 0.0036 - val_accuracy: 0.9994\n",
            "Epoch 7/46\n",
            "3561/3561 [==============================] - 30s 8ms/step - loss: 0.0039 - accuracy: 0.9993 - val_loss: 0.0038 - val_accuracy: 0.9994\n",
            "Epoch 8/46\n",
            "3561/3561 [==============================] - 29s 8ms/step - loss: 0.0041 - accuracy: 0.9992 - val_loss: 0.0037 - val_accuracy: 0.9994\n",
            "Epoch 9/46\n",
            "3561/3561 [==============================] - 30s 8ms/step - loss: 0.0041 - accuracy: 0.9992 - val_loss: 0.0034 - val_accuracy: 0.9994\n",
            "Epoch 10/46\n",
            "3561/3561 [==============================] - 30s 8ms/step - loss: 0.0038 - accuracy: 0.9993 - val_loss: 0.0041 - val_accuracy: 0.9993\n",
            "Epoch 11/46\n",
            "3561/3561 [==============================] - 35s 10ms/step - loss: 0.0037 - accuracy: 0.9994 - val_loss: 0.0034 - val_accuracy: 0.9994\n",
            "Epoch 12/46\n",
            "3561/3561 [==============================] - 34s 10ms/step - loss: 0.0039 - accuracy: 0.9992 - val_loss: 0.0036 - val_accuracy: 0.9994\n",
            "Epoch 13/46\n",
            "3561/3561 [==============================] - 29s 8ms/step - loss: 0.0036 - accuracy: 0.9992 - val_loss: 0.0034 - val_accuracy: 0.9994\n",
            "Epoch 14/46\n",
            "3561/3561 [==============================] - 34s 10ms/step - loss: 0.0038 - accuracy: 0.9993 - val_loss: 0.0033 - val_accuracy: 0.9994\n",
            "Epoch 15/46\n",
            "3561/3561 [==============================] - 29s 8ms/step - loss: 0.0034 - accuracy: 0.9994 - val_loss: 0.0032 - val_accuracy: 0.9994\n",
            "Epoch 16/46\n",
            "3561/3561 [==============================] - 34s 10ms/step - loss: 0.0034 - accuracy: 0.9994 - val_loss: 0.0032 - val_accuracy: 0.9994\n",
            "Epoch 17/46\n",
            "3561/3561 [==============================] - 29s 8ms/step - loss: 0.0035 - accuracy: 0.9994 - val_loss: 0.0035 - val_accuracy: 0.9994\n",
            "Epoch 18/46\n",
            "3561/3561 [==============================] - 29s 8ms/step - loss: 0.0036 - accuracy: 0.9993 - val_loss: 0.0033 - val_accuracy: 0.9994\n",
            "Epoch 19/46\n",
            "3561/3561 [==============================] - 29s 8ms/step - loss: 0.0035 - accuracy: 0.9994 - val_loss: 0.0044 - val_accuracy: 0.9993\n",
            "Epoch 20/46\n",
            "3561/3561 [==============================] - 31s 9ms/step - loss: 0.0036 - accuracy: 0.9994 - val_loss: 0.0040 - val_accuracy: 0.9994\n",
            "Epoch 21/46\n",
            "3561/3561 [==============================] - 29s 8ms/step - loss: 0.0035 - accuracy: 0.9993 - val_loss: 0.0031 - val_accuracy: 0.9994\n",
            "Epoch 22/46\n",
            "3561/3561 [==============================] - 29s 8ms/step - loss: 0.0037 - accuracy: 0.9993 - val_loss: 0.0036 - val_accuracy: 0.9994\n",
            "Epoch 23/46\n",
            "3561/3561 [==============================] - 34s 10ms/step - loss: 0.0033 - accuracy: 0.9994 - val_loss: 0.0033 - val_accuracy: 0.9994\n",
            "Epoch 24/46\n",
            "3561/3561 [==============================] - 29s 8ms/step - loss: 0.0033 - accuracy: 0.9993 - val_loss: 0.0032 - val_accuracy: 0.9994\n",
            "Epoch 25/46\n",
            "3561/3561 [==============================] - 29s 8ms/step - loss: 0.0034 - accuracy: 0.9994 - val_loss: 0.0035 - val_accuracy: 0.9994\n",
            "Epoch 26/46\n",
            "3561/3561 [==============================] - 34s 9ms/step - loss: 0.0034 - accuracy: 0.9994 - val_loss: 0.0032 - val_accuracy: 0.9994\n",
            "Epoch 27/46\n",
            "3561/3561 [==============================] - 34s 10ms/step - loss: 0.0034 - accuracy: 0.9994 - val_loss: 0.0031 - val_accuracy: 0.9994\n",
            "Epoch 28/46\n",
            "3561/3561 [==============================] - 33s 9ms/step - loss: 0.0035 - accuracy: 0.9994 - val_loss: 0.0032 - val_accuracy: 0.9994\n",
            "Epoch 29/46\n",
            "3561/3561 [==============================] - 35s 10ms/step - loss: 0.0034 - accuracy: 0.9994 - val_loss: 0.0032 - val_accuracy: 0.9995\n",
            "Epoch 30/46\n",
            "3561/3561 [==============================] - 34s 10ms/step - loss: 0.0033 - accuracy: 0.9994 - val_loss: 0.0033 - val_accuracy: 0.9994\n",
            "Epoch 31/46\n",
            "3561/3561 [==============================] - 34s 9ms/step - loss: 0.0032 - accuracy: 0.9994 - val_loss: 0.0035 - val_accuracy: 0.9994\n",
            "Epoch 32/46\n",
            "3561/3561 [==============================] - 29s 8ms/step - loss: 0.0033 - accuracy: 0.9994 - val_loss: 0.0035 - val_accuracy: 0.9994\n",
            "Epoch 33/46\n",
            "3561/3561 [==============================] - 31s 9ms/step - loss: 0.0032 - accuracy: 0.9994 - val_loss: 0.0032 - val_accuracy: 0.9994\n",
            "Epoch 34/46\n",
            "3561/3561 [==============================] - 33s 9ms/step - loss: 0.0035 - accuracy: 0.9993 - val_loss: 0.0032 - val_accuracy: 0.9994\n",
            "Epoch 35/46\n",
            "3561/3561 [==============================] - 30s 8ms/step - loss: 0.0034 - accuracy: 0.9994 - val_loss: 0.0032 - val_accuracy: 0.9994\n",
            "Epoch 36/46\n",
            "3561/3561 [==============================] - 30s 8ms/step - loss: 0.0032 - accuracy: 0.9994 - val_loss: 0.0033 - val_accuracy: 0.9995\n",
            "Epoch 37/46\n",
            "3561/3561 [==============================] - 29s 8ms/step - loss: 0.0030 - accuracy: 0.9994 - val_loss: 0.0031 - val_accuracy: 0.9995\n",
            "Epoch 38/46\n",
            "3561/3561 [==============================] - 35s 10ms/step - loss: 0.0033 - accuracy: 0.9994 - val_loss: 0.0035 - val_accuracy: 0.9994\n",
            "Epoch 39/46\n",
            "3561/3561 [==============================] - 33s 9ms/step - loss: 0.0034 - accuracy: 0.9994 - val_loss: 0.0039 - val_accuracy: 0.9994\n",
            "Epoch 40/46\n",
            "3561/3561 [==============================] - 34s 10ms/step - loss: 0.0034 - accuracy: 0.9993 - val_loss: 0.0033 - val_accuracy: 0.9995\n",
            "Epoch 41/46\n",
            "3561/3561 [==============================] - 29s 8ms/step - loss: 0.0031 - accuracy: 0.9994 - val_loss: 0.0032 - val_accuracy: 0.9995\n",
            "Epoch 42/46\n",
            "3561/3561 [==============================] - 34s 10ms/step - loss: 0.0034 - accuracy: 0.9994 - val_loss: 0.0033 - val_accuracy: 0.9995\n",
            "Epoch 43/46\n",
            "3561/3561 [==============================] - 29s 8ms/step - loss: 0.0032 - accuracy: 0.9994 - val_loss: 0.0032 - val_accuracy: 0.9995\n",
            "Epoch 44/46\n",
            "3561/3561 [==============================] - 34s 10ms/step - loss: 0.0034 - accuracy: 0.9994 - val_loss: 0.0035 - val_accuracy: 0.9995\n",
            "Epoch 45/46\n",
            "3561/3561 [==============================] - 29s 8ms/step - loss: 0.0033 - accuracy: 0.9994 - val_loss: 0.0033 - val_accuracy: 0.9994\n",
            "Epoch 46/46\n",
            "3561/3561 [==============================] - 34s 10ms/step - loss: 0.0034 - accuracy: 0.9994 - val_loss: 0.0032 - val_accuracy: 0.9994\n"
          ]
        }
      ]
    },
    {
      "cell_type": "code",
      "source": [
        "import matplotlib.pyplot as plt\n",
        "\n",
        "# Assuming you have trained your model and have the 'history' object\n",
        "# history = model.fit(X_train_resampled, y_train_resampled, epochs=epochs, validation_data=(X_val, y_val))\n",
        "\n",
        "# Plot training and validation loss\n",
        "plt.figure(figsize=(12, 4))\n",
        "plt.subplot(1, 2, 1)\n",
        "plt.plot(history.history['loss'], label='Training Loss')\n",
        "plt.plot(history.history['val_loss'], label='Validation Loss')\n",
        "plt.title('Training and Validation Loss')\n",
        "plt.xlabel('Epoch')\n",
        "plt.ylabel('Loss')\n",
        "plt.legend()\n",
        "\n",
        "# Plot training and validation accuracy\n",
        "plt.subplot(1, 2, 2)\n",
        "plt.plot(history.history['accuracy'], label='Training Accuracy')\n",
        "plt.plot(history.history['val_accuracy'], label='Validation Accuracy')\n",
        "plt.title('Training and Validation Accuracy')\n",
        "plt.xlabel('Epoch')\n",
        "plt.ylabel('Accuracy')\n",
        "plt.legend()\n",
        "\n",
        "plt.tight_layout()\n",
        "plt.show()\n"
      ],
      "metadata": {
        "id": "Dl5iEByArmN3",
        "colab": {
          "base_uri": "https://localhost:8080/",
          "height": 407
        },
        "outputId": "ad223ab5-5166-4e3d-bb06-62585a819103"
      },
      "execution_count": null,
      "outputs": [
        {
          "output_type": "display_data",
          "data": {
            "text/plain": [
              "<Figure size 1200x400 with 2 Axes>"
            ],
            "image/png": "[encoded data removed]"
          },
          "metadata": {}
        }
      ]
    },
    {
      "cell_type": "code",
      "source": [
        "from sklearn.metrics import confusion_matrix, classification_report\n",
        "import seaborn as sns\n",
        "import matplotlib.pyplot as plt\n",
        "\n",
        "# Assuming you have trained your model and have the 'model' object\n",
        "# model.fit(X_train_resampled, y_train_resampled, epochs=epochs, validation_data=(X_val, y_val))\n",
        "\n",
        "# Assuming you have X_test and y_test\n",
        "# Evaluate the model on the test set\n",
        "y_pred = model.predict(X_test)\n",
        "y_pred = (model.predict(X_test) > 0.5).astype(\"int32\")\n",
        "\n",
        "# Calculate confusion matrix\n",
        "conf_matrix = confusion_matrix(y_test, y_pred)\n",
        "\n",
        "# Plot the confusion matrix using seaborn\n",
        "plt.figure(figsize=(8, 6))\n",
        "sns.heatmap(conf_matrix, annot=True, fmt='d', cmap='Blues', cbar=False,\n",
        "            xticklabels=['Not Fraud', 'Fraud'], yticklabels=['Not Fraud', 'Fraud'])\n",
        "plt.title('Confusion Matrix - Test Set')\n",
        "plt.xlabel('Predicted')\n",
        "plt.ylabel('True')\n",
        "plt.show()\n"
      ],
      "metadata": {
        "id": "-8hM52tuxJWY",
        "colab": {
          "base_uri": "https://localhost:8080/"
        },
        "outputId": "c133dd8a-3da5-45c1-abc0-f0078361a069"
      },
      "execution_count": null,
      "outputs": [
        {
          "output_type": "stream",
          "name": "stdout",
          "text": [
            "2671/2671 [==============================] - 7s 2ms/step\n",
            "2671/2671 [==============================] - 6s 2ms/step\n"
          ]
        },
        {
          "output_type": "display_data",
          "data": {
            "text/plain": [
              "<Figure size 800x600 with 1 Axes>"
            ],
            "image/png": "[encoded data removed]"
          },
          "metadata": {}
        }
      ]
    },
    {
      "cell_type": "code",
      "source": [
        "# Print classification report\n",
        "print(\"Classification Report:\\n\", classification_report(y_test, y_pred))\n"
      ],
      "metadata": {
        "id": "57OZYMMKxKYa",
        "colab": {
          "base_uri": "https://localhost:8080/"
        },
        "outputId": "f4f9c227-aa26-4378-83c7-866607c54b3f"
      },
      "execution_count": null,
      "outputs": [
        {
          "output_type": "stream",
          "name": "stdout",
          "text": [
            "Classification Report:\n",
            "               precision    recall  f1-score   support\n",
            "\n",
            "           0       1.00      1.00      1.00     85295\n",
            "           1       0.88      0.77      0.82       147\n",
            "\n",
            "    accuracy                           1.00     85442\n",
            "   macro avg       0.94      0.88      0.91     85442\n",
            "weighted avg       1.00      1.00      1.00     85442\n",
            "\n"
          ]
        }
      ]
    },
    {
      "cell_type": "code",
      "source": [
        "from sklearn.metrics import precision_score, recall_score, f1_score\n",
        "\n",
        "# Assuming y_test and y_pred are your true labels and predicted labels, respectively\n",
        "\n",
        "# Calculate precision\n",
        "precision = precision_score(y_test, y_pred)\n",
        "\n",
        "# Calculate recall\n",
        "recall = recall_score(y_test, y_pred)\n",
        "\n",
        "# Calculate F1-score\n",
        "f1 = f1_score(y_test, y_pred)\n",
        "\n",
        "print(\"Precision:\", precision)\n",
        "print(\"Recall:\", recall)\n",
        "print(\"F1-score:\", f1)\n"
      ],
      "metadata": {
        "colab": {
          "base_uri": "https://localhost:8080/"
        },
        "id": "oi61f30VE3_r",
        "outputId": "d8f26e9a-ccfd-4a6a-873e-5b42681dcd09"
      },
      "execution_count": null,
      "outputs": [
        {
          "output_type": "stream",
          "name": "stdout",
          "text": [
            "Precision: 0.8828125\n",
            "Recall: 0.7687074829931972\n",
            "F1-score: 0.8218181818181819\n"
          ]
        }
      ]
    },
    {
      "cell_type": "markdown",
      "source": [
        "# Using ADASYN without libarary (paper)"
      ],
      "metadata": {
        "id": "gxVmQpJziHQa"
      }
    },
    {
      "cell_type": "code",
      "source": [
        "\n",
        "import numpy as np\n",
        "from sklearn.neighbors import NearestNeighbors\n",
        "from sklearn.utils import check_array, check_random_state\n",
        "from collections import Counter\n",
        "\n",
        "\n",
        "class ADASYN(object):\n",
        "    def __init__(self, ratio=0.5, imb_threshold=0.5, k=5, random_state=None, verbose=True):\n",
        "        self.ratio = ratio\n",
        "        self.imb_threshold = imb_threshold\n",
        "        self.k = k\n",
        "        self.random_state = random_state\n",
        "        self.verbose = verbose\n",
        "        self.clstats = {}\n",
        "        self.num_new = 0\n",
        "        self.index_new = []\n",
        "\n",
        "    def fit(self, X, y):\n",
        "        self.X = check_array(X)\n",
        "        self.y = np.array(y, dtype=np.int64)\n",
        "        self.random_state_ = check_random_state(self.random_state)\n",
        "        self.unique_classes_ = set(self.y)\n",
        "        self.clstats = Counter(self.y)\n",
        "        self.maj_class_ = max(self.clstats, key=self.clstats.get)\n",
        "\n",
        "        if self.verbose:\n",
        "            print(f'Majority class is {self.maj_class_} and total number of classes is {len(self.unique_classes_)}')\n",
        "\n",
        "    def transform(self, X, y):\n",
        "        self.new_X, self.new_y = self.oversample()\n",
        "\n",
        "    def fit_transform(self, X, y):\n",
        "        self.fit(X, y)\n",
        "        self.new_X, self.new_y = self.oversample()\n",
        "        self.new_X = np.concatenate((self.new_X, self.X), axis=0)\n",
        "        self.new_y = np.concatenate((self.new_y, self.y), axis=0)\n",
        "        return self.new_X, self.new_y\n",
        "\n",
        "    def generate_samples(self, x, knns, knnLabels, cl):\n",
        "        new_data = []\n",
        "        new_labels = []\n",
        "\n",
        "        for ind, elem in enumerate(x):\n",
        "            min_knns = [ele for index, ele in enumerate(knns[ind][1:-1]) if knnLabels[ind][index + 1] == cl]\n",
        "\n",
        "            if not min_knns:\n",
        "                continue\n",
        "\n",
        "            for _ in range(int(self.gi[ind])):\n",
        "                randi = self.random_state_.random_integers(0, len(min_knns) - 1)\n",
        "                l = self.random_state_.random_sample()\n",
        "                si = self.X[elem] + (self.X[min_knns[randi]] - self.X[elem]) * l\n",
        "\n",
        "                new_data.append(si)\n",
        "                new_labels.append(self.y[elem])\n",
        "                self.num_new += 1\n",
        "\n",
        "        return np.asarray(new_data), np.asarray(new_labels)\n",
        "\n",
        "    def oversample(self):\n",
        "        try:\n",
        "            self.unique_classes_ = self.unique_classes_\n",
        "        except AttributeError:\n",
        "            raise RuntimeError(\"You need to fit() before applying transform(), or simply fit_transform()\")\n",
        "\n",
        "        int_X = np.zeros([1, self.X.shape[1]])\n",
        "        int_y = np.zeros([1])\n",
        "\n",
        "        for cl in self.unique_classes_:\n",
        "            imb_degree = self.clstats[cl] / self.clstats[self.maj_class_]\n",
        "\n",
        "            if imb_degree > self.imb_threshold:\n",
        "                if self.verbose:\n",
        "                    print(f'Class {cl} is within imbalance threshold')\n",
        "            else:\n",
        "                self.G = (self.clstats[self.maj_class_] - self.clstats[cl]) * self.ratio\n",
        "                self.nearest_neighbors_ = NearestNeighbors(n_neighbors=self.k + 1)\n",
        "                self.nearest_neighbors_.fit(self.X)\n",
        "                minx = [ind for ind, exam in enumerate(self.X) if self.y[ind] == cl]\n",
        "                knn = self.nearest_neighbors_.kneighbors(self.X[minx], return_distance=False)\n",
        "                knnLabels = self.y[knn.ravel()].reshape(knn.shape)\n",
        "                tempdi = [Counter(i) for i in knnLabels]\n",
        "                self.ri = np.array([(sum(i.values()) - i[cl]) / float(self.k) for i in tempdi])\n",
        "\n",
        "                if np.sum(self.ri):\n",
        "                    self.ri = self.ri / np.sum(self.ri)\n",
        "\n",
        "                self.gi = np.rint(self.ri * self.G)\n",
        "                inter_X, inter_y = self.generate_samples(minx, knn, knnLabels, cl)\n",
        "\n",
        "                if len(inter_X):\n",
        "                    int_X = np.concatenate((int_X, inter_X), axis=0)\n",
        "                if len(inter_y):\n",
        "                    int_y = np.concatenate((int_y, inter_y), axis=0)\n",
        "\n",
        "        self.index_new = list(range(self.num_new))\n",
        "        return int_X[1:], int_y[1:]\n"
      ],
      "metadata": {
        "id": "PoiLAYD8iHQb"
      },
      "execution_count": null,
      "outputs": []
    },
    {
      "cell_type": "code",
      "source": [
        "from sklearn.preprocessing import MinMaxScaler\n",
        "from sklearn.model_selection import train_test_split\n",
        "from sklearn.preprocessing import StandardScaler\n",
        "\n",
        "# Use ADASYN to oversample the minority class in the training set\n",
        "X = df.drop('Class', axis=1)\n",
        "y = df['Class']\n",
        "\n",
        "# Use MinMaxScaler for normalization\n",
        "print(\"Number of samples in each class before balancing:\")\n",
        "print(y.value_counts())\n",
        "\n",
        "adasyn = ADASYN(ratio=6.5)\n",
        "X, y = adasyn.fit_transform(X, y)\n",
        "# Split the data into training (80%) and temporary set (20%)\n",
        "\n",
        "print(\"\\nNumber of samples in each class after balancing:\")\n",
        "unique_values, counts = np.unique(y, return_counts=True)\n",
        "for value, count in zip(unique_values, counts):\n",
        "    print(f\"{value}: {count} times\")\n",
        "\n",
        "X_train, X_test, y_train, y_test = train_test_split(X, y, test_size=0.6, random_state=42)\n",
        "\n",
        "# Split the temporary set into validation (50%) and final test set (50%)\n",
        "X_test, X_val, y_test, y_val = train_test_split(X_test, y_test, test_size=0.5, random_state=42)\n",
        "# Assuming y_train is a Pandas Series or a NumPy array containing your target variable\n",
        "\n",
        "\n",
        "# Display the shapes of the sets\n",
        "print(\"Train set shape:\", X_train.shape, y_train.shape)\n",
        "print(\"Validation set shape:\", X_val.shape, y_val.shape)\n",
        "print(\"Test set shape:\", X_test.shape, y_test.shape)\n",
        "print(\"Train set shape after resampling:\", X_train.shape, y_train.shape)\n"
      ],
      "metadata": {
        "colab": {
          "base_uri": "https://localhost:8080/"
        },
        "outputId": "a31d47a8-e327-4cb2-f0be-b306c5f89010",
        "id": "u4lU5T4CiHQf"
      },
      "execution_count": null,
      "outputs": [
        {
          "output_type": "stream",
          "name": "stdout",
          "text": [
            "Number of samples in each class before balancing:\n",
            "0    284315\n",
            "1       492\n",
            "Name: Class, dtype: int64\n",
            "Majority class is 0 and total number of classes is 2\n",
            "Class 0 is within imbalance threshold\n"
          ]
        },
        {
          "output_type": "stream",
          "name": "stderr",
          "text": [
            "<ipython-input-20-ca71f58051eb>:50: DeprecationWarning: This function is deprecated. Please call randint(0, 0 + 1) instead\n",
            "  randi = self.random_state_.random_integers(0, len(min_knns) - 1)\n",
            "<ipython-input-20-ca71f58051eb>:50: DeprecationWarning: This function is deprecated. Please call randint(0, 2 + 1) instead\n",
            "  randi = self.random_state_.random_integers(0, len(min_knns) - 1)\n",
            "<ipython-input-20-ca71f58051eb>:50: DeprecationWarning: This function is deprecated. Please call randint(0, 3 + 1) instead\n",
            "  randi = self.random_state_.random_integers(0, len(min_knns) - 1)\n",
            "<ipython-input-20-ca71f58051eb>:50: DeprecationWarning: This function is deprecated. Please call randint(0, 1 + 1) instead\n",
            "  randi = self.random_state_.random_integers(0, len(min_knns) - 1)\n"
          ]
        },
        {
          "output_type": "stream",
          "name": "stdout",
          "text": [
            "\n",
            "Number of samples in each class after balancing:\n",
            "0.0: 284315 times\n",
            "1.0: 281388 times\n",
            "Train set shape: (226281, 30) (226281,)\n",
            "Validation set shape: (169711, 30) (169711,)\n",
            "Test set shape: (169711, 30) (169711,)\n",
            "Train set shape after resampling: (226281, 30) (226281,)\n"
          ]
        }
      ]
    },
    {
      "cell_type": "code",
      "source": [
        "import matplotlib.pyplot as plt\n",
        "\n",
        "plt.figure(figsize=(8, 6))\n",
        "y_series = pd.Series(y)\n",
        "y_series.value_counts().plot(kind='bar', rot=0)\n",
        "\n",
        "plt.xlabel('Unique Values')\n",
        "plt.ylabel('Count')\n",
        "plt.title('Value Counts Histogram')\n",
        "plt.show()\n"
      ],
      "metadata": {
        "colab": {
          "base_uri": "https://localhost:8080/",
          "height": 564
        },
        "id": "seAPH6gopqoC",
        "outputId": "c72a5171-5640-4175-feac-f024ce3c2106"
      },
      "execution_count": null,
      "outputs": [
        {
          "output_type": "display_data",
          "data": {
            "text/plain": [
              "<Figure size 800x600 with 1 Axes>"
            ],
            "image/png": "[encoded data removed]"
          },
          "metadata": {}
        }
      ]
    },
    {
      "cell_type": "code",
      "source": [
        "scaler = StandardScaler()\n",
        "X_train = scaler.fit_transform(X_train)\n",
        "X_test = scaler.transform(X_test)\n",
        "X_val = scaler.transform(X_val)"
      ],
      "metadata": {
        "id": "dbXtoYZLiHQg"
      },
      "execution_count": null,
      "outputs": []
    },
    {
      "cell_type": "code",
      "source": [
        "X_train = X_train.reshape((X_train.shape[0], X_train.shape[1], 1))\n",
        "X_val = X_val.reshape((X_val.shape[0], X_val.shape[1], 1))\n",
        "X_test = X_test.reshape((X_test.shape[0], X_test.shape[1], 1))"
      ],
      "metadata": {
        "id": "Ns5vZlC8iHQh"
      },
      "execution_count": null,
      "outputs": []
    },
    {
      "cell_type": "markdown",
      "source": [
        "## Model"
      ],
      "metadata": {
        "id": "PyiREMUwiHQh"
      }
    },
    {
      "cell_type": "code",
      "source": [
        "from tensorflow.keras.models import Sequential\n",
        "from tensorflow.keras.layers import Conv1D, BatchNormalization, MaxPooling1D, Dropout, Flatten, Dense\n",
        "\n",
        "model = Sequential()\n",
        "\n",
        "# Conv1D Layer 1\n",
        "model.add(Conv1D(filters=32, kernel_size=2, activation='relu', input_shape=(X_train.shape[1], X_train.shape[2])))\n",
        "\n",
        "# BatchNormalization 1\n",
        "model.add(BatchNormalization())\n",
        "\n",
        "# MaxPool1D 1\n",
        "model.add(MaxPooling1D(pool_size=2))\n",
        "\n",
        "# Dropout 1\n",
        "model.add(Dropout(rate=0.2))\n",
        "\n",
        "# Conv1D Layer 2\n",
        "model.add(Conv1D(filters=64, kernel_size=2, activation='relu'))\n",
        "\n",
        "# BatchNormalization 2\n",
        "model.add(BatchNormalization())\n",
        "\n",
        "# MaxPool1D 2\n",
        "model.add(MaxPooling1D(pool_size=2))\n",
        "\n",
        "# Dropout 2\n",
        "model.add(Dropout(rate=0.5))\n",
        "\n",
        "# Flatten\n",
        "model.add(Flatten())\n",
        "\n",
        "# Dense 1\n",
        "model.add(Dense(units=64, activation='relu'))\n",
        "\n",
        "# Dropout 3\n",
        "model.add(Dropout(rate=0.5))\n",
        "\n",
        "# Dense 2\n",
        "model.add(Dense(units=64, activation='relu'))\n",
        "model.add(Dense(units=1, activation='sigmoid'))"
      ],
      "metadata": {
        "id": "Ypeu0nl6iHQi"
      },
      "execution_count": null,
      "outputs": []
    },
    {
      "cell_type": "code",
      "source": [
        "from tensorflow.keras.models import Sequential\n",
        "from tensorflow.keras.layers import Dense\n",
        "from tensorflow.keras.optimizers import Adam\n",
        "\n",
        "model.compile(optimizer=Adam(learning_rate=0.0001),\n",
        "              loss='binary_crossentropy',\n",
        "              metrics=['accuracy'])\n",
        "\n",
        "# Assuming you have training data (X_train, y_train) and validation data (X_val, y_val)\n",
        "epochs = 46\n",
        "\n",
        "# Train the model\n",
        "history = model.fit(X_train, y_train,\n",
        "                    epochs=epochs,\n",
        "                    validation_data=(X_val, y_val))  # Adjust verbose as needed (0: silent, 1: progress bar, 2: one line per epoch)"
      ],
      "metadata": {
        "colab": {
          "base_uri": "https://localhost:8080/"
        },
        "outputId": "95a06c9d-978b-40a1-a0ac-1634070f450b",
        "id": "Am3S6DugiHQj"
      },
      "execution_count": null,
      "outputs": [
        {
          "output_type": "stream",
          "name": "stdout",
          "text": [
            "Epoch 1/46\n",
            "7072/7072 [==============================] - 59s 8ms/step - loss: 0.0501 - accuracy: 0.9819 - val_loss: 0.0065 - val_accuracy: 0.9985\n",
            "Epoch 2/46\n",
            "7072/7072 [==============================] - 63s 9ms/step - loss: 0.0107 - accuracy: 0.9974 - val_loss: 0.0055 - val_accuracy: 0.9988\n",
            "Epoch 3/46\n",
            "7072/7072 [==============================] - 54s 8ms/step - loss: 0.0079 - accuracy: 0.9984 - val_loss: 0.0042 - val_accuracy: 0.9992\n",
            "Epoch 4/46\n",
            "7072/7072 [==============================] - 54s 8ms/step - loss: 0.0068 - accuracy: 0.9987 - val_loss: 0.0042 - val_accuracy: 0.9991\n",
            "Epoch 5/46\n",
            "7072/7072 [==============================] - 64s 9ms/step - loss: 0.0063 - accuracy: 0.9988 - val_loss: 0.0034 - val_accuracy: 0.9993\n",
            "Epoch 6/46\n",
            "7072/7072 [==============================] - 56s 8ms/step - loss: 0.0055 - accuracy: 0.9990 - val_loss: 0.0033 - val_accuracy: 0.9993\n",
            "Epoch 7/46\n",
            "7072/7072 [==============================] - 55s 8ms/step - loss: 0.0051 - accuracy: 0.9991 - val_loss: 0.0031 - val_accuracy: 0.9994\n",
            "Epoch 8/46\n",
            "7072/7072 [==============================] - 55s 8ms/step - loss: 0.0049 - accuracy: 0.9991 - val_loss: 0.0029 - val_accuracy: 0.9995\n",
            "Epoch 9/46\n",
            "7072/7072 [==============================] - 64s 9ms/step - loss: 0.0046 - accuracy: 0.9992 - val_loss: 0.0030 - val_accuracy: 0.9994\n",
            "Epoch 10/46\n",
            "7072/7072 [==============================] - 56s 8ms/step - loss: 0.0043 - accuracy: 0.9993 - val_loss: 0.0025 - val_accuracy: 0.9995\n",
            "Epoch 11/46\n",
            "7072/7072 [==============================] - 57s 8ms/step - loss: 0.0042 - accuracy: 0.9993 - val_loss: 0.0025 - val_accuracy: 0.9995\n",
            "Epoch 12/46\n",
            "7072/7072 [==============================] - 56s 8ms/step - loss: 0.0042 - accuracy: 0.9993 - val_loss: 0.0027 - val_accuracy: 0.9995\n",
            "Epoch 13/46\n",
            "7072/7072 [==============================] - 56s 8ms/step - loss: 0.0039 - accuracy: 0.9993 - val_loss: 0.0024 - val_accuracy: 0.9996\n",
            "Epoch 14/46\n",
            "7072/7072 [==============================] - 55s 8ms/step - loss: 0.0038 - accuracy: 0.9994 - val_loss: 0.0025 - val_accuracy: 0.9995\n",
            "Epoch 15/46\n",
            "7072/7072 [==============================] - 66s 9ms/step - loss: 0.0038 - accuracy: 0.9994 - val_loss: 0.0023 - val_accuracy: 0.9996\n",
            "Epoch 16/46\n",
            "7072/7072 [==============================] - 65s 9ms/step - loss: 0.0035 - accuracy: 0.9994 - val_loss: 0.0023 - val_accuracy: 0.9996\n",
            "Epoch 17/46\n",
            "7072/7072 [==============================] - 56s 8ms/step - loss: 0.0038 - accuracy: 0.9995 - val_loss: 0.0024 - val_accuracy: 0.9996\n",
            "Epoch 18/46\n",
            "7072/7072 [==============================] - 56s 8ms/step - loss: 0.0035 - accuracy: 0.9995 - val_loss: 0.0023 - val_accuracy: 0.9996\n",
            "Epoch 19/46\n",
            "7072/7072 [==============================] - 65s 9ms/step - loss: 0.0036 - accuracy: 0.9994 - val_loss: 0.0023 - val_accuracy: 0.9996\n",
            "Epoch 20/46\n",
            "7072/7072 [==============================] - 56s 8ms/step - loss: 0.0035 - accuracy: 0.9995 - val_loss: 0.0022 - val_accuracy: 0.9996\n",
            "Epoch 21/46\n",
            "7072/7072 [==============================] - 63s 9ms/step - loss: 0.0035 - accuracy: 0.9995 - val_loss: 0.0021 - val_accuracy: 0.9996\n",
            "Epoch 22/46\n",
            "7072/7072 [==============================] - 53s 8ms/step - loss: 0.0032 - accuracy: 0.9994 - val_loss: 0.0022 - val_accuracy: 0.9996\n",
            "Epoch 23/46\n",
            "7072/7072 [==============================] - 63s 9ms/step - loss: 0.0034 - accuracy: 0.9994 - val_loss: 0.0022 - val_accuracy: 0.9996\n",
            "Epoch 24/46\n",
            "7072/7072 [==============================] - 64s 9ms/step - loss: 0.0033 - accuracy: 0.9994 - val_loss: 0.0023 - val_accuracy: 0.9996\n",
            "Epoch 25/46\n",
            "7072/7072 [==============================] - 63s 9ms/step - loss: 0.0033 - accuracy: 0.9995 - val_loss: 0.0021 - val_accuracy: 0.9996\n",
            "Epoch 26/46\n",
            "7072/7072 [==============================] - 54s 8ms/step - loss: 0.0031 - accuracy: 0.9995 - val_loss: 0.0021 - val_accuracy: 0.9996\n",
            "Epoch 27/46\n",
            "7072/7072 [==============================] - 55s 8ms/step - loss: 0.0033 - accuracy: 0.9995 - val_loss: 0.0021 - val_accuracy: 0.9996\n",
            "Epoch 28/46\n",
            "7072/7072 [==============================] - 64s 9ms/step - loss: 0.0032 - accuracy: 0.9994 - val_loss: 0.0021 - val_accuracy: 0.9996\n",
            "Epoch 29/46\n",
            "7072/7072 [==============================] - 63s 9ms/step - loss: 0.0033 - accuracy: 0.9995 - val_loss: 0.0020 - val_accuracy: 0.9997\n",
            "Epoch 30/46\n",
            "7072/7072 [==============================] - 63s 9ms/step - loss: 0.0032 - accuracy: 0.9995 - val_loss: 0.0020 - val_accuracy: 0.9997\n",
            "Epoch 31/46\n",
            "7072/7072 [==============================] - 54s 8ms/step - loss: 0.0031 - accuracy: 0.9995 - val_loss: 0.0020 - val_accuracy: 0.9996\n",
            "Epoch 32/46\n",
            "7072/7072 [==============================] - 63s 9ms/step - loss: 0.0031 - accuracy: 0.9995 - val_loss: 0.0020 - val_accuracy: 0.9997\n",
            "Epoch 33/46\n",
            "7072/7072 [==============================] - 64s 9ms/step - loss: 0.0033 - accuracy: 0.9995 - val_loss: 0.0020 - val_accuracy: 0.9996\n",
            "Epoch 34/46\n",
            "7072/7072 [==============================] - 54s 8ms/step - loss: 0.0029 - accuracy: 0.9996 - val_loss: 0.0020 - val_accuracy: 0.9996\n",
            "Epoch 35/46\n",
            "7072/7072 [==============================] - 64s 9ms/step - loss: 0.0032 - accuracy: 0.9995 - val_loss: 0.0021 - val_accuracy: 0.9996\n",
            "Epoch 36/46\n",
            "7072/7072 [==============================] - 55s 8ms/step - loss: 0.0029 - accuracy: 0.9996 - val_loss: 0.0020 - val_accuracy: 0.9997\n",
            "Epoch 37/46\n",
            "7072/7072 [==============================] - 64s 9ms/step - loss: 0.0032 - accuracy: 0.9995 - val_loss: 0.0020 - val_accuracy: 0.9996\n",
            "Epoch 38/46\n",
            "7072/7072 [==============================] - 55s 8ms/step - loss: 0.0030 - accuracy: 0.9995 - val_loss: 0.0019 - val_accuracy: 0.9997\n",
            "Epoch 39/46\n",
            "7072/7072 [==============================] - 64s 9ms/step - loss: 0.0028 - accuracy: 0.9996 - val_loss: 0.0019 - val_accuracy: 0.9997\n",
            "Epoch 40/46\n",
            "7072/7072 [==============================] - 54s 8ms/step - loss: 0.0030 - accuracy: 0.9995 - val_loss: 0.0019 - val_accuracy: 0.9997\n",
            "Epoch 41/46\n",
            "7072/7072 [==============================] - 63s 9ms/step - loss: 0.0030 - accuracy: 0.9995 - val_loss: 0.0018 - val_accuracy: 0.9997\n",
            "Epoch 42/46\n",
            "7072/7072 [==============================] - 64s 9ms/step - loss: 0.0031 - accuracy: 0.9995 - val_loss: 0.0019 - val_accuracy: 0.9997\n",
            "Epoch 43/46\n",
            "7072/7072 [==============================] - 64s 9ms/step - loss: 0.0030 - accuracy: 0.9996 - val_loss: 0.0019 - val_accuracy: 0.9997\n",
            "Epoch 44/46\n",
            "7072/7072 [==============================] - 64s 9ms/step - loss: 0.0028 - accuracy: 0.9996 - val_loss: 0.0021 - val_accuracy: 0.9996\n",
            "Epoch 45/46\n",
            "7072/7072 [==============================] - 58s 8ms/step - loss: 0.0028 - accuracy: 0.9996 - val_loss: 0.0019 - val_accuracy: 0.9996\n",
            "Epoch 46/46\n",
            "7072/7072 [==============================] - 64s 9ms/step - loss: 0.0030 - accuracy: 0.9995 - val_loss: 0.0019 - val_accuracy: 0.9997\n"
          ]
        }
      ]
    },
    {
      "cell_type": "code",
      "source": [
        "import matplotlib.pyplot as plt\n",
        "\n",
        "# Assuming you have trained your model and have the 'history' object\n",
        "# history = model.fit(X_train_resampled, y_train_resampled, epochs=epochs, validation_data=(X_val, y_val))\n",
        "\n",
        "# Plot training and validation loss\n",
        "plt.figure(figsize=(12, 4))\n",
        "plt.subplot(1, 2, 1)\n",
        "plt.plot(history.history['loss'], label='Training Loss')\n",
        "plt.plot(history.history['val_loss'], label='Validation Loss')\n",
        "plt.title('Training and Validation Loss')\n",
        "plt.xlabel('Epoch')\n",
        "plt.ylabel('Loss')\n",
        "plt.legend()\n",
        "\n",
        "# Plot training and validation accuracy\n",
        "plt.subplot(1, 2, 2)\n",
        "plt.plot(history.history['accuracy'], label='Training Accuracy')\n",
        "plt.plot(history.history['val_accuracy'], label='Validation Accuracy')\n",
        "plt.title('Training and Validation Accuracy')\n",
        "plt.xlabel('Epoch')\n",
        "plt.ylabel('Accuracy')\n",
        "plt.legend()\n",
        "\n",
        "plt.tight_layout()\n",
        "plt.show()\n"
      ],
      "metadata": {
        "id": "7O4kepsNiHQj",
        "colab": {
          "base_uri": "https://localhost:8080/",
          "height": 407
        },
        "outputId": "385bac8d-4f34-42b3-f7f7-ee66482d2b33"
      },
      "execution_count": null,
      "outputs": [
        {
          "output_type": "display_data",
          "data": {
            "text/plain": [
              "<Figure size 1200x400 with 2 Axes>"
            ],
            "image/png": "[encoded data removed]"
          },
          "metadata": {}
        }
      ]
    },
    {
      "cell_type": "code",
      "source": [
        "from sklearn.metrics import confusion_matrix, classification_report\n",
        "import seaborn as sns\n",
        "import matplotlib.pyplot as plt\n",
        "\n",
        "# Assuming you have trained your model and have the 'model' object\n",
        "# model.fit(X_train_resampled, y_train_resampled, epochs=epochs, validation_data=(X_val, y_val))\n",
        "\n",
        "# Assuming you have X_test and y_test\n",
        "# Evaluate the model on the test set\n",
        "y_pred = model.predict(X_test)\n",
        "y_pred = (model.predict(X_test) > 0.5).astype(\"int32\")\n",
        "\n",
        "# Calculate confusion matrix\n",
        "conf_matrix = confusion_matrix(y_test, y_pred)\n",
        "\n",
        "# Plot the confusion matrix using seaborn\n",
        "plt.figure(figsize=(8, 6))\n",
        "sns.heatmap(conf_matrix, annot=True, fmt='d', cmap='Blues', cbar=False,\n",
        "            xticklabels=['Not Fraud', 'Fraud'], yticklabels=['Not Fraud', 'Fraud'])\n",
        "plt.title('Confusion Matrix - Test Set')\n",
        "plt.xlabel('Predicted')\n",
        "plt.ylabel('True')\n",
        "plt.show()\n"
      ],
      "metadata": {
        "id": "dLXF3LHSiHQk",
        "colab": {
          "base_uri": "https://localhost:8080/",
          "height": 599
        },
        "outputId": "34fa63d3-6ebb-4858-b3e0-d7c9604dceb1"
      },
      "execution_count": null,
      "outputs": [
        {
          "output_type": "stream",
          "name": "stdout",
          "text": [
            "5304/5304 [==============================] - 11s 2ms/step\n",
            "5304/5304 [==============================] - 10s 2ms/step\n"
          ]
        },
        {
          "output_type": "display_data",
          "data": {
            "text/plain": [
              "<Figure size 800x600 with 1 Axes>"
            ],
            "image/png": "[encoded data removed]"
          },
          "metadata": {}
        }
      ]
    },
    {
      "cell_type": "code",
      "source": [
        "# Print classification report\n",
        "print(\"Classification Report:\\n\", classification_report(y_test, y_pred))\n"
      ],
      "metadata": {
        "id": "jTK-mETuiHQn"
      },
      "execution_count": null,
      "outputs": []
    },
    {
      "cell_type": "code",
      "source": [
        "from sklearn.metrics import precision_score, recall_score, f1_score\n",
        "\n",
        "# Assuming y_test and y_pred are your true labels and predicted labels, respectively\n",
        "\n",
        "# Calculate precision\n",
        "precision = precision_score(y_test, y_pred)\n",
        "\n",
        "# Calculate recall\n",
        "recall = recall_score(y_test, y_pred)\n",
        "\n",
        "# Calculate F1-score\n",
        "f1 = f1_score(y_test, y_pred)\n",
        "\n",
        "print(\"Precision:\", precision)\n",
        "print(\"Recall:\", recall)\n",
        "print(\"F1-score:\", f1)\n"
      ],
      "metadata": {
        "id": "S-_W9jxFpWV9",
        "colab": {
          "base_uri": "https://localhost:8080/"
        },
        "outputId": "4827b841-e2c2-4b0f-be73-a2c17394ec15"
      },
      "execution_count": null,
      "outputs": [
        {
          "metadata": {
            "tags": null
          },
          "name": "stdout",
          "output_type": "stream",
          "text": [
            "Precision: 0.9997390613324477\n",
            "Recall: 0.9995138147752876\n",
            "F1-score: 0.9996264253651248\n"
          ]
        }
      ]
    },
    {
      "cell_type": "markdown",
      "source": [
        "# Using ADASYN without libarary 1"
      ],
      "metadata": {
        "id": "64I0ghGimyKh"
      }
    },
    {
      "cell_type": "code",
      "source": [
        "\n",
        "import numpy as np\n",
        "from sklearn.neighbors import NearestNeighbors\n",
        "from sklearn.utils import check_array, check_random_state\n",
        "from collections import Counter\n",
        "\n",
        "\n",
        "class ADASYN(object):\n",
        "    def __init__(self, ratio=0.5, imb_threshold=0.5, k=5, random_state=None, verbose=True):\n",
        "        self.ratio = ratio\n",
        "        self.imb_threshold = imb_threshold\n",
        "        self.k = k\n",
        "        self.random_state = random_state\n",
        "        self.verbose = verbose\n",
        "        self.clstats = {}\n",
        "        self.num_new = 0\n",
        "        self.index_new = []\n",
        "\n",
        "    def fit(self, X, y):\n",
        "        self.X = check_array(X)\n",
        "        self.y = np.array(y, dtype=np.int64)\n",
        "        self.random_state_ = check_random_state(self.random_state)\n",
        "        self.unique_classes_ = set(self.y)\n",
        "        self.clstats = Counter(self.y)\n",
        "        self.maj_class_ = max(self.clstats, key=self.clstats.get)\n",
        "\n",
        "        if self.verbose:\n",
        "            print(f'Majority class is {self.maj_class_} and total number of classes is {len(self.unique_classes_)}')\n",
        "\n",
        "    def transform(self, X, y):\n",
        "        self.new_X, self.new_y = self.oversample()\n",
        "\n",
        "    def fit_transform(self, X, y):\n",
        "        self.fit(X, y)\n",
        "        self.new_X, self.new_y = self.oversample()\n",
        "        self.new_X = np.concatenate((self.new_X, self.X), axis=0)\n",
        "        self.new_y = np.concatenate((self.new_y, self.y), axis=0)\n",
        "        return self.new_X, self.new_y\n",
        "\n",
        "    def generate_samples(self, x, knns, knnLabels, cl):\n",
        "        new_data = []\n",
        "        new_labels = []\n",
        "\n",
        "        for ind, elem in enumerate(x):\n",
        "            min_knns = [ele for index, ele in enumerate(knns[ind][1:-1]) if knnLabels[ind][index + 1] == cl]\n",
        "\n",
        "            if not min_knns:\n",
        "                continue\n",
        "\n",
        "            for _ in range(int(self.gi[ind])):\n",
        "                randi = self.random_state_.random_integers(0, len(min_knns) - 1)\n",
        "                l = self.random_state_.random_sample()\n",
        "                si = self.X[elem] + (self.X[min_knns[randi]] - self.X[elem]) * l\n",
        "\n",
        "                new_data.append(si)\n",
        "                new_labels.append(self.y[elem])\n",
        "                self.num_new += 1\n",
        "\n",
        "        return np.asarray(new_data), np.asarray(new_labels)\n",
        "\n",
        "    def oversample(self):\n",
        "        try:\n",
        "            self.unique_classes_ = self.unique_classes_\n",
        "        except AttributeError:\n",
        "            raise RuntimeError(\"You need to fit() before applying transform(), or simply fit_transform()\")\n",
        "\n",
        "        int_X = np.zeros([1, self.X.shape[1]])\n",
        "        int_y = np.zeros([1])\n",
        "\n",
        "        for cl in self.unique_classes_:\n",
        "            imb_degree = self.clstats[cl] / self.clstats[self.maj_class_]\n",
        "\n",
        "            if imb_degree > self.imb_threshold:\n",
        "                if self.verbose:\n",
        "                    print(f'Class {cl} is within imbalance threshold')\n",
        "            else:\n",
        "                self.G = (self.clstats[self.maj_class_] - self.clstats[cl]) * self.ratio\n",
        "                self.nearest_neighbors_ = NearestNeighbors(n_neighbors=self.k + 1)\n",
        "                self.nearest_neighbors_.fit(self.X)\n",
        "                minx = [ind for ind, exam in enumerate(self.X) if self.y[ind] == cl]\n",
        "                knn = self.nearest_neighbors_.kneighbors(self.X[minx], return_distance=False)\n",
        "                knnLabels = self.y[knn.ravel()].reshape(knn.shape)\n",
        "                tempdi = [Counter(i) for i in knnLabels]\n",
        "                self.ri = np.array([(sum(i.values()) - i[cl]) / float(self.k) for i in tempdi])\n",
        "\n",
        "                if np.sum(self.ri):\n",
        "                    self.ri = self.ri / np.sum(self.ri)\n",
        "\n",
        "                self.gi = np.rint(self.ri * self.G)\n",
        "                inter_X, inter_y = self.generate_samples(minx, knn, knnLabels, cl)\n",
        "\n",
        "                if len(inter_X):\n",
        "                    int_X = np.concatenate((int_X, inter_X), axis=0)\n",
        "                if len(inter_y):\n",
        "                    int_y = np.concatenate((int_y, inter_y), axis=0)\n",
        "\n",
        "        self.index_new = list(range(self.num_new))\n",
        "        return int_X[1:], int_y[1:]\n"
      ],
      "metadata": {
        "id": "_OGoauoOnpx1"
      },
      "execution_count": null,
      "outputs": []
    },
    {
      "cell_type": "code",
      "source": [
        "import pandas as pd\n",
        "df=pd.read_csv(\"/content/creditcard.csv\")"
      ],
      "metadata": {
        "id": "0bJCD94SihLl"
      },
      "execution_count": null,
      "outputs": []
    },
    {
      "cell_type": "code",
      "source": [
        "from sklearn.preprocessing import MinMaxScaler\n",
        "from sklearn.model_selection import train_test_split\n",
        "from sklearn.preprocessing import StandardScaler\n",
        "\n",
        "# Use ADASYN to oversample the minority class in the training set\n",
        "X = df.drop('Class', axis=1)\n",
        "y = df['Class']\n",
        "\n",
        "# Use MinMaxScaler for normalization\n",
        "print(\"Number of samples in each class before balancing:\")\n",
        "print(y.value_counts())\n",
        "\n",
        "\n",
        "\n",
        "X_train, X_test, y_train, y_test = train_test_split(X, y, test_size=0.6, random_state=42)\n",
        "adasyn = ADASYN()\n",
        "X_train, y_train = adasyn.fit_transform(X_train, y_train)\n",
        "\n",
        "# Split the temporary set into validation (50%) and final test set (50%)\n",
        "X_test, X_val, y_test, y_val = train_test_split(X_test, y_test, test_size=0.5, random_state=42)\n",
        "# Assuming y_train is a Pandas Series or a NumPy array containing your target variable\n",
        "\n",
        "\n",
        "# Display the shapes of the sets\n",
        "print(\"Train set shape:\", X_train.shape, y_train.shape)\n",
        "print(\"Validation set shape:\", X_val.shape, y_val.shape)\n",
        "print(\"Test set shape:\", X_test.shape, y_test.shape)\n",
        "print(\"Train set shape after resampling:\", X_train.shape, y_train.shape)\n"
      ],
      "metadata": {
        "colab": {
          "base_uri": "https://localhost:8080/"
        },
        "outputId": "87b2e1d6-4312-4c38-8116-20e6b520b61b",
        "id": "H774XjvkXain"
      },
      "execution_count": null,
      "outputs": [
        {
          "output_type": "stream",
          "name": "stdout",
          "text": [
            "Number of samples in each class before balancing:\n",
            "0    284315\n",
            "1       492\n",
            "Name: Class, dtype: int64\n",
            "Majority class is 0 and total number of classes is 2\n",
            "Class 0 is within imbalance threshold\n",
            "Train set shape: (120450, 30) (120450,)\n",
            "Validation set shape: (85443, 30) (85443,)\n",
            "Test set shape: (85442, 30) (85442,)\n",
            "Train set shape after resampling: (120450, 30) (120450,)\n"
          ]
        },
        {
          "output_type": "stream",
          "name": "stderr",
          "text": [
            "<ipython-input-7-ca71f58051eb>:50: DeprecationWarning: This function is deprecated. Please call randint(0, 0 + 1) instead\n",
            "  randi = self.random_state_.random_integers(0, len(min_knns) - 1)\n",
            "<ipython-input-7-ca71f58051eb>:50: DeprecationWarning: This function is deprecated. Please call randint(0, 2 + 1) instead\n",
            "  randi = self.random_state_.random_integers(0, len(min_knns) - 1)\n",
            "<ipython-input-7-ca71f58051eb>:50: DeprecationWarning: This function is deprecated. Please call randint(0, 1 + 1) instead\n",
            "  randi = self.random_state_.random_integers(0, len(min_knns) - 1)\n"
          ]
        }
      ]
    },
    {
      "cell_type": "code",
      "source": [
        "scaler = StandardScaler()\n",
        "X_train = scaler.fit_transform(X_train)\n",
        "X_test = scaler.transform(X_test)\n",
        "X_val = scaler.transform(X_val)"
      ],
      "metadata": {
        "id": "tzr01RH_Xaiy",
        "colab": {
          "base_uri": "https://localhost:8080/"
        },
        "outputId": "29118b2e-51e9-4f8b-ab0f-838a31f2c932"
      },
      "execution_count": null,
      "outputs": [
        {
          "output_type": "stream",
          "name": "stderr",
          "text": [
            "/usr/local/lib/python3.10/dist-packages/sklearn/base.py:432: UserWarning: X has feature names, but StandardScaler was fitted without feature names\n",
            "  warnings.warn(\n",
            "/usr/local/lib/python3.10/dist-packages/sklearn/base.py:432: UserWarning: X has feature names, but StandardScaler was fitted without feature names\n",
            "  warnings.warn(\n"
          ]
        }
      ]
    },
    {
      "cell_type": "code",
      "source": [
        "X_train = X_train.reshape((X_train.shape[0], X_train.shape[1], 1))\n",
        "X_val = X_val.reshape((X_val.shape[0], X_val.shape[1], 1))\n",
        "X_test = X_test.reshape((X_test.shape[0], X_test.shape[1], 1))"
      ],
      "metadata": {
        "id": "zXfQqKCdXaiz"
      },
      "execution_count": null,
      "outputs": []
    },
    {
      "cell_type": "markdown",
      "source": [
        "## Model"
      ],
      "metadata": {
        "id": "vW_d-8YVm2kU"
      }
    },
    {
      "cell_type": "code",
      "source": [
        "from tensorflow.keras.models import Sequential\n",
        "from tensorflow.keras.layers import Conv1D, BatchNormalization, MaxPooling1D, Dropout, Flatten, Dense\n",
        "\n",
        "model = Sequential()\n",
        "\n",
        "# Conv1D Layer 1\n",
        "model.add(Conv1D(filters=32, kernel_size=2, activation='relu', input_shape=(X_train.shape[1], X_train.shape[2])))\n",
        "\n",
        "# BatchNormalization 1\n",
        "model.add(BatchNormalization())\n",
        "\n",
        "# MaxPool1D 1\n",
        "model.add(MaxPooling1D(pool_size=2))\n",
        "\n",
        "# Dropout 1\n",
        "model.add(Dropout(rate=0.2))\n",
        "\n",
        "# Conv1D Layer 2\n",
        "model.add(Conv1D(filters=64, kernel_size=2, activation='relu'))\n",
        "\n",
        "# BatchNormalization 2\n",
        "model.add(BatchNormalization())\n",
        "\n",
        "# MaxPool1D 2\n",
        "model.add(MaxPooling1D(pool_size=2))\n",
        "\n",
        "# Dropout 2\n",
        "model.add(Dropout(rate=0.5))\n",
        "\n",
        "# Flatten\n",
        "model.add(Flatten())\n",
        "\n",
        "# Dense 1\n",
        "model.add(Dense(units=64, activation='relu'))\n",
        "\n",
        "# Dropout 3\n",
        "model.add(Dropout(rate=0.5))\n",
        "\n",
        "# Dense 2\n",
        "model.add(Dense(units=64, activation='relu'))\n",
        "model.add(Dense(units=1, activation='sigmoid'))"
      ],
      "metadata": {
        "id": "b_dHTOMVm2kU"
      },
      "execution_count": null,
      "outputs": []
    },
    {
      "cell_type": "code",
      "source": [
        "from tensorflow.keras.models import Sequential\n",
        "from tensorflow.keras.layers import Dense\n",
        "from tensorflow.keras.optimizers import Adam\n",
        "\n",
        "model.compile(optimizer=Adam(learning_rate=0.0001),\n",
        "              loss='binary_crossentropy',\n",
        "              metrics=['accuracy'])\n",
        "\n",
        "# Assuming you have training data (X_train, y_train) and validation data (X_val, y_val)\n",
        "epochs = 46\n",
        "\n",
        "# Train the model\n",
        "history = model.fit(X_train, y_train,\n",
        "                    epochs=epochs,\n",
        "                    validation_data=(X_val, y_val))  # Adjust verbose as needed (0: silent, 1: progress bar, 2: one line per epoch)"
      ],
      "metadata": {
        "colab": {
          "base_uri": "https://localhost:8080/"
        },
        "outputId": "dababb46-8b12-441f-835d-8942aae1338b",
        "id": "LspQkSVkm2kU"
      },
      "execution_count": null,
      "outputs": [
        {
          "output_type": "stream",
          "name": "stdout",
          "text": [
            "Epoch 1/46\n",
            "3765/3765 [==============================] - 42s 9ms/step - loss: 0.1329 - accuracy: 0.9500 - val_loss: 0.0094 - val_accuracy: 0.9982\n",
            "Epoch 2/46\n",
            "3765/3765 [==============================] - 33s 9ms/step - loss: 0.0167 - accuracy: 0.9957 - val_loss: 0.0074 - val_accuracy: 0.9985\n",
            "Epoch 3/46\n",
            "3765/3765 [==============================] - 35s 9ms/step - loss: 0.0110 - accuracy: 0.9976 - val_loss: 0.0072 - val_accuracy: 0.9985\n",
            "Epoch 4/46\n",
            "3765/3765 [==============================] - 34s 9ms/step - loss: 0.0088 - accuracy: 0.9982 - val_loss: 0.0060 - val_accuracy: 0.9987\n",
            "Epoch 5/46\n",
            "3765/3765 [==============================] - 29s 8ms/step - loss: 0.0087 - accuracy: 0.9984 - val_loss: 0.0058 - val_accuracy: 0.9987\n",
            "Epoch 6/46\n",
            "3765/3765 [==============================] - 29s 8ms/step - loss: 0.0080 - accuracy: 0.9986 - val_loss: 0.0052 - val_accuracy: 0.9989\n",
            "Epoch 7/46\n",
            "3765/3765 [==============================] - 32s 9ms/step - loss: 0.0071 - accuracy: 0.9988 - val_loss: 0.0046 - val_accuracy: 0.9991\n",
            "Epoch 8/46\n",
            "3765/3765 [==============================] - 28s 7ms/step - loss: 0.0067 - accuracy: 0.9989 - val_loss: 0.0045 - val_accuracy: 0.9991\n",
            "Epoch 9/46\n",
            "3765/3765 [==============================] - 33s 9ms/step - loss: 0.0062 - accuracy: 0.9989 - val_loss: 0.0043 - val_accuracy: 0.9993\n",
            "Epoch 10/46\n",
            "3765/3765 [==============================] - 34s 9ms/step - loss: 0.0061 - accuracy: 0.9989 - val_loss: 0.0041 - val_accuracy: 0.9992\n",
            "Epoch 11/46\n",
            "3765/3765 [==============================] - 33s 9ms/step - loss: 0.0054 - accuracy: 0.9991 - val_loss: 0.0040 - val_accuracy: 0.9993\n",
            "Epoch 12/46\n",
            "3765/3765 [==============================] - 28s 7ms/step - loss: 0.0055 - accuracy: 0.9991 - val_loss: 0.0044 - val_accuracy: 0.9992\n",
            "Epoch 13/46\n",
            "3765/3765 [==============================] - 29s 8ms/step - loss: 0.0054 - accuracy: 0.9992 - val_loss: 0.0042 - val_accuracy: 0.9992\n",
            "Epoch 14/46\n",
            "3765/3765 [==============================] - 33s 9ms/step - loss: 0.0053 - accuracy: 0.9990 - val_loss: 0.0042 - val_accuracy: 0.9993\n",
            "Epoch 15/46\n",
            "3765/3765 [==============================] - 33s 9ms/step - loss: 0.0050 - accuracy: 0.9991 - val_loss: 0.0040 - val_accuracy: 0.9993\n",
            "Epoch 16/46\n",
            "3765/3765 [==============================] - 28s 7ms/step - loss: 0.0048 - accuracy: 0.9992 - val_loss: 0.0039 - val_accuracy: 0.9993\n",
            "Epoch 17/46\n",
            "3765/3765 [==============================] - 33s 9ms/step - loss: 0.0048 - accuracy: 0.9992 - val_loss: 0.0037 - val_accuracy: 0.9993\n",
            "Epoch 18/46\n",
            "3765/3765 [==============================] - 29s 8ms/step - loss: 0.0049 - accuracy: 0.9992 - val_loss: 0.0038 - val_accuracy: 0.9993\n",
            "Epoch 19/46\n",
            "3765/3765 [==============================] - 34s 9ms/step - loss: 0.0045 - accuracy: 0.9993 - val_loss: 0.0038 - val_accuracy: 0.9993\n",
            "Epoch 20/46\n",
            "3765/3765 [==============================] - 33s 9ms/step - loss: 0.0049 - accuracy: 0.9992 - val_loss: 0.0038 - val_accuracy: 0.9993\n",
            "Epoch 21/46\n",
            "3765/3765 [==============================] - 33s 9ms/step - loss: 0.0045 - accuracy: 0.9993 - val_loss: 0.0040 - val_accuracy: 0.9993\n",
            "Epoch 22/46\n",
            "3765/3765 [==============================] - 32s 9ms/step - loss: 0.0044 - accuracy: 0.9993 - val_loss: 0.0039 - val_accuracy: 0.9993\n",
            "Epoch 23/46\n",
            "3765/3765 [==============================] - 33s 9ms/step - loss: 0.0042 - accuracy: 0.9992 - val_loss: 0.0037 - val_accuracy: 0.9993\n",
            "Epoch 24/46\n",
            "3765/3765 [==============================] - 33s 9ms/step - loss: 0.0044 - accuracy: 0.9993 - val_loss: 0.0039 - val_accuracy: 0.9993\n",
            "Epoch 25/46\n",
            "3765/3765 [==============================] - 33s 9ms/step - loss: 0.0042 - accuracy: 0.9993 - val_loss: 0.0037 - val_accuracy: 0.9994\n",
            "Epoch 26/46\n",
            "3765/3765 [==============================] - 29s 8ms/step - loss: 0.0041 - accuracy: 0.9993 - val_loss: 0.0035 - val_accuracy: 0.9994\n",
            "Epoch 27/46\n",
            "3765/3765 [==============================] - 28s 7ms/step - loss: 0.0040 - accuracy: 0.9993 - val_loss: 0.0036 - val_accuracy: 0.9993\n",
            "Epoch 28/46\n",
            "3765/3765 [==============================] - 33s 9ms/step - loss: 0.0042 - accuracy: 0.9993 - val_loss: 0.0038 - val_accuracy: 0.9994\n",
            "Epoch 29/46\n",
            "3765/3765 [==============================] - 28s 8ms/step - loss: 0.0040 - accuracy: 0.9993 - val_loss: 0.0036 - val_accuracy: 0.9993\n",
            "Epoch 30/46\n",
            "3765/3765 [==============================] - 33s 9ms/step - loss: 0.0038 - accuracy: 0.9993 - val_loss: 0.0037 - val_accuracy: 0.9993\n",
            "Epoch 31/46\n",
            "3765/3765 [==============================] - 33s 9ms/step - loss: 0.0039 - accuracy: 0.9993 - val_loss: 0.0035 - val_accuracy: 0.9994\n",
            "Epoch 32/46\n",
            "3765/3765 [==============================] - 33s 9ms/step - loss: 0.0036 - accuracy: 0.9994 - val_loss: 0.0036 - val_accuracy: 0.9994\n",
            "Epoch 33/46\n",
            "3765/3765 [==============================] - 33s 9ms/step - loss: 0.0037 - accuracy: 0.9993 - val_loss: 0.0036 - val_accuracy: 0.9994\n",
            "Epoch 34/46\n",
            "3765/3765 [==============================] - 30s 8ms/step - loss: 0.0038 - accuracy: 0.9993 - val_loss: 0.0035 - val_accuracy: 0.9994\n",
            "Epoch 35/46\n",
            "3765/3765 [==============================] - 28s 7ms/step - loss: 0.0039 - accuracy: 0.9993 - val_loss: 0.0037 - val_accuracy: 0.9995\n",
            "Epoch 36/46\n",
            "3765/3765 [==============================] - 33s 9ms/step - loss: 0.0038 - accuracy: 0.9994 - val_loss: 0.0035 - val_accuracy: 0.9994\n",
            "Epoch 37/46\n",
            "3765/3765 [==============================] - 28s 8ms/step - loss: 0.0038 - accuracy: 0.9994 - val_loss: 0.0035 - val_accuracy: 0.9994\n",
            "Epoch 38/46\n",
            "3765/3765 [==============================] - 33s 9ms/step - loss: 0.0034 - accuracy: 0.9993 - val_loss: 0.0035 - val_accuracy: 0.9994\n",
            "Epoch 39/46\n",
            "3765/3765 [==============================] - 33s 9ms/step - loss: 0.0037 - accuracy: 0.9994 - val_loss: 0.0034 - val_accuracy: 0.9994\n",
            "Epoch 40/46\n",
            "3765/3765 [==============================] - 28s 8ms/step - loss: 0.0037 - accuracy: 0.9994 - val_loss: 0.0035 - val_accuracy: 0.9994\n",
            "Epoch 41/46\n",
            "3765/3765 [==============================] - 33s 9ms/step - loss: 0.0034 - accuracy: 0.9994 - val_loss: 0.0033 - val_accuracy: 0.9994\n",
            "Epoch 42/46\n",
            "3765/3765 [==============================] - 28s 8ms/step - loss: 0.0036 - accuracy: 0.9994 - val_loss: 0.0035 - val_accuracy: 0.9994\n",
            "Epoch 43/46\n",
            "3765/3765 [==============================] - 35s 9ms/step - loss: 0.0033 - accuracy: 0.9994 - val_loss: 0.0033 - val_accuracy: 0.9994\n",
            "Epoch 44/46\n",
            "3765/3765 [==============================] - 29s 8ms/step - loss: 0.0036 - accuracy: 0.9994 - val_loss: 0.0034 - val_accuracy: 0.9995\n",
            "Epoch 45/46\n",
            "3765/3765 [==============================] - 28s 8ms/step - loss: 0.0035 - accuracy: 0.9993 - val_loss: 0.0033 - val_accuracy: 0.9994\n",
            "Epoch 46/46\n",
            "3765/3765 [==============================] - 28s 8ms/step - loss: 0.0036 - accuracy: 0.9993 - val_loss: 0.0033 - val_accuracy: 0.9995\n"
          ]
        }
      ]
    },
    {
      "cell_type": "code",
      "source": [
        "import matplotlib.pyplot as plt\n",
        "\n",
        "# Assuming you have trained your model and have the 'history' object\n",
        "# history = model.fit(X_train_resampled, y_train_resampled, epochs=epochs, validation_data=(X_val, y_val))\n",
        "\n",
        "# Plot training and validation loss\n",
        "plt.figure(figsize=(12, 4))\n",
        "plt.subplot(1, 2, 1)\n",
        "plt.plot(history.history['loss'], label='Training Loss')\n",
        "plt.plot(history.history['val_loss'], label='Validation Loss')\n",
        "plt.title('Training and Validation Loss')\n",
        "plt.xlabel('Epoch')\n",
        "plt.ylabel('Loss')\n",
        "plt.legend()\n",
        "\n",
        "# Plot training and validation accuracy\n",
        "plt.subplot(1, 2, 2)\n",
        "plt.plot(history.history['accuracy'], label='Training Accuracy')\n",
        "plt.plot(history.history['val_accuracy'], label='Validation Accuracy')\n",
        "plt.title('Training and Validation Accuracy')\n",
        "plt.xlabel('Epoch')\n",
        "plt.ylabel('Accuracy')\n",
        "plt.legend()\n",
        "\n",
        "plt.tight_layout()\n",
        "plt.show()\n"
      ],
      "metadata": {
        "colab": {
          "base_uri": "https://localhost:8080/",
          "height": 407
        },
        "outputId": "663aa416-d3d4-4bda-da78-e2f2b1866704",
        "id": "8Avdmttim2kV"
      },
      "execution_count": null,
      "outputs": [
        {
          "output_type": "display_data",
          "data": {
            "text/plain": [
              "<Figure size 1200x400 with 2 Axes>"
            ],
            "image/png": "[encoded data removed]"
          },
          "metadata": {}
        }
      ]
    },
    {
      "cell_type": "code",
      "source": [
        "from sklearn.metrics import confusion_matrix, classification_report\n",
        "import seaborn as sns\n",
        "import matplotlib.pyplot as plt\n",
        "\n",
        "# Assuming you have trained your model and have the 'model' object\n",
        "# model.fit(X_train_resampled, y_train_resampled, epochs=epochs, validation_data=(X_val, y_val))\n",
        "\n",
        "# Assuming you have X_test and y_test\n",
        "# Evaluate the model on the test set\n",
        "y_pred = model.predict(X_test)\n",
        "y_pred = (model.predict(X_test) > 0.5).astype(\"int32\")\n",
        "\n",
        "# Calculate confusion matrix\n",
        "conf_matrix = confusion_matrix(y_test, y_pred)\n",
        "\n",
        "# Plot the confusion matrix using seaborn\n",
        "plt.figure(figsize=(8, 6))\n",
        "sns.heatmap(conf_matrix, annot=True, fmt='d', cmap='Blues', cbar=False,\n",
        "            xticklabels=['Not Fraud', 'Fraud'], yticklabels=['Not Fraud', 'Fraud'])\n",
        "plt.title('Confusion Matrix - Test Set')\n",
        "plt.xlabel('Predicted')\n",
        "plt.ylabel('True')\n",
        "plt.show()\n"
      ],
      "metadata": {
        "colab": {
          "base_uri": "https://localhost:8080/",
          "height": 599
        },
        "outputId": "48f1a7be-a8cc-44cc-81d3-824c7d5e1eb5",
        "id": "Qg_qiS_am2kV"
      },
      "execution_count": null,
      "outputs": [
        {
          "output_type": "stream",
          "name": "stdout",
          "text": [
            "2671/2671 [==============================] - 6s 2ms/step\n",
            "2671/2671 [==============================] - 6s 2ms/step\n"
          ]
        },
        {
          "output_type": "display_data",
          "data": {
            "text/plain": [
              "<Figure size 800x600 with 1 Axes>"
            ],
            "image/png": "[encoded data removed]"
          },
          "metadata": {}
        }
      ]
    },
    {
      "cell_type": "code",
      "source": [
        "# Print classification report\n",
        "print(\"Classification Report:\\n\", classification_report(y_test, y_pred))\n"
      ],
      "metadata": {
        "colab": {
          "base_uri": "https://localhost:8080/"
        },
        "outputId": "b7a9e1a7-d69b-4591-bb44-ca425eeca943",
        "id": "GByvBwDGm2kV"
      },
      "execution_count": null,
      "outputs": [
        {
          "output_type": "stream",
          "name": "stdout",
          "text": [
            "Classification Report:\n",
            "               precision    recall  f1-score   support\n",
            "\n",
            "           0       1.00      1.00      1.00     85295\n",
            "           1       0.91      0.71      0.80       147\n",
            "\n",
            "    accuracy                           1.00     85442\n",
            "   macro avg       0.96      0.85      0.90     85442\n",
            "weighted avg       1.00      1.00      1.00     85442\n",
            "\n"
          ]
        }
      ]
    },
    {
      "cell_type": "code",
      "source": [
        "from sklearn.metrics import precision_score, recall_score, f1_score\n",
        "\n",
        "# Assuming y_test and y_pred are your true labels and predicted labels, respectively\n",
        "\n",
        "# Calculate precision\n",
        "precision = precision_score(y_test, y_pred)\n",
        "\n",
        "# Calculate recall\n",
        "recall = recall_score(y_test, y_pred)\n",
        "\n",
        "# Calculate F1-score\n",
        "f1 = f1_score(y_test, y_pred)\n",
        "\n",
        "print(\"Precision:\", precision)\n",
        "print(\"Recall:\", recall)\n",
        "print(\"F1-score:\", f1)\n"
      ],
      "metadata": {
        "colab": {
          "base_uri": "https://localhost:8080/"
        },
        "id": "434xnudFpaf2",
        "outputId": "c0165f9c-2526-4316-cd33-28c0537fb079"
      },
      "execution_count": null,
      "outputs": [
        {
          "output_type": "stream",
          "name": "stdout",
          "text": [
            "Precision: 0.9122807017543859\n",
            "Recall: 0.7074829931972789\n",
            "F1-score: 0.7969348659003831\n"
          ]
        }
      ]
    },
    {
      "cell_type": "markdown",
      "source": [
        "# Using ADASYN with libarary"
      ],
      "metadata": {
        "id": "5PanHdZqfKXn"
      }
    },
    {
      "cell_type": "code",
      "source": [
        "!pip install imbalanced-learn"
      ],
      "metadata": {
        "colab": {
          "base_uri": "https://localhost:8080/"
        },
        "id": "z05yVi8hfWSc",
        "outputId": "a3654a36-af9c-4225-dc5a-510b9f6903b4"
      },
      "execution_count": null,
      "outputs": [
        {
          "output_type": "stream",
          "name": "stdout",
          "text": [
            "Requirement already satisfied: imbalanced-learn in /usr/local/lib/python3.10/dist-packages (0.10.1)\n",
            "Requirement already satisfied: numpy>=1.17.3 in /usr/local/lib/python3.10/dist-packages (from imbalanced-learn) (1.23.5)\n",
            "Requirement already satisfied: scipy>=1.3.2 in /usr/local/lib/python3.10/dist-packages (from imbalanced-learn) (1.11.4)\n",
            "Requirement already satisfied: scikit-learn>=1.0.2 in /usr/local/lib/python3.10/dist-packages (from imbalanced-learn) (1.2.2)\n",
            "Requirement already satisfied: joblib>=1.1.1 in /usr/local/lib/python3.10/dist-packages (from imbalanced-learn) (1.3.2)\n",
            "Requirement already satisfied: threadpoolctl>=2.0.0 in /usr/local/lib/python3.10/dist-packages (from imbalanced-learn) (3.2.0)\n"
          ]
        }
      ]
    },
    {
      "cell_type": "code",
      "source": [
        "from imblearn.over_sampling import ADASYN\n",
        "from sklearn.preprocessing import MinMaxScaler\n",
        "from sklearn.model_selection import train_test_split\n",
        "from sklearn.preprocessing import StandardScaler\n",
        "\n",
        "# Use ADASYN to oversample the minority class in the training set\n",
        "X = df.drop('Class', axis=1)\n",
        "y = df['Class']\n",
        "\n",
        "# Use MinMaxScaler for normalization\n",
        "print(\"Number of samples in each class before balancing:\")\n",
        "print(y.value_counts())\n",
        "\n",
        "adasyn = ADASYN(sampling_strategy='auto', random_state=42)\n",
        "X, y = adasyn.fit_resample(X, y)\n",
        "# Split the data into training (80%) and temporary set (20%)\n",
        "\n",
        "print(\"\\nNumber of samples in each class after balancing:\")\n",
        "print(y.value_counts())\n",
        "\n",
        "X_train, X_test, y_train, y_test = train_test_split(X, y, test_size=0.6, random_state=42)\n",
        "\n",
        "# Split the temporary set into validation (50%) and final test set (50%)\n",
        "X_test, X_val, y_test, y_val = train_test_split(X_test, y_test, test_size=0.5, random_state=42)\n",
        "# Assuming y_train is a Pandas Series or a NumPy array containing your target variable\n",
        "\n",
        "\n",
        "# Display the shapes of the sets\n",
        "print(\"Train set shape:\", X_train.shape, y_train.shape)\n",
        "print(\"Validation set shape:\", X_val.shape, y_val.shape)\n",
        "print(\"Test set shape:\", X_test.shape, y_test.shape)\n",
        "print(\"Train set shape after resampling:\", X_train.shape, y_train.shape)\n"
      ],
      "metadata": {
        "colab": {
          "base_uri": "https://localhost:8080/"
        },
        "id": "PcJr7HBnfXnn",
        "outputId": "9fb7da66-4e1a-4628-fbef-838ac078b026"
      },
      "execution_count": null,
      "outputs": [
        {
          "output_type": "stream",
          "name": "stdout",
          "text": [
            "Number of samples in each class before balancing:\n",
            "0    284315\n",
            "1       492\n",
            "Name: Class, dtype: int64\n",
            "\n",
            "Number of samples in each class after balancing:\n",
            "0    284315\n",
            "1    284298\n",
            "Name: Class, dtype: int64\n",
            "Train set shape: (227445, 30) (227445,)\n",
            "Validation set shape: (170584, 30) (170584,)\n",
            "Test set shape: (170584, 30) (170584,)\n",
            "Train set shape after resampling: (227445, 30) (227445,)\n"
          ]
        }
      ]
    },
    {
      "cell_type": "code",
      "source": [
        "scaler = StandardScaler()\n",
        "X_train = scaler.fit_transform(X_train)\n",
        "X_test = scaler.transform(X_test)\n",
        "X_val = scaler.transform(X_val)"
      ],
      "metadata": {
        "id": "KHw-YNOKKJuI"
      },
      "execution_count": null,
      "outputs": []
    },
    {
      "cell_type": "code",
      "source": [
        "X_train = X_train.reshape((X_train.shape[0], X_train.shape[1], 1))\n",
        "X_val = X_val.reshape((X_val.shape[0], X_val.shape[1], 1))\n",
        "X_test = X_test.reshape((X_test.shape[0], X_test.shape[1], 1))"
      ],
      "metadata": {
        "id": "iLJ4tN-kyB5h"
      },
      "execution_count": null,
      "outputs": []
    },
    {
      "cell_type": "markdown",
      "source": [
        "## Model"
      ],
      "metadata": {
        "id": "LE0cLmCDyB5i"
      }
    },
    {
      "cell_type": "code",
      "source": [
        "from tensorflow.keras.models import Sequential\n",
        "from tensorflow.keras.layers import Conv1D, BatchNormalization, MaxPooling1D, Dropout, Flatten, Dense\n",
        "\n",
        "model = Sequential()\n",
        "\n",
        "# Conv1D Layer 1\n",
        "model.add(Conv1D(filters=32, kernel_size=2, activation='relu', input_shape=(X_train.shape[1], X_train.shape[2])))\n",
        "\n",
        "# BatchNormalization 1\n",
        "model.add(BatchNormalization())\n",
        "\n",
        "# MaxPool1D 1\n",
        "model.add(MaxPooling1D(pool_size=2))\n",
        "\n",
        "# Dropout 1\n",
        "model.add(Dropout(rate=0.2))\n",
        "\n",
        "# Conv1D Layer 2\n",
        "model.add(Conv1D(filters=64, kernel_size=2, activation='relu'))\n",
        "\n",
        "# BatchNormalization 2\n",
        "model.add(BatchNormalization())\n",
        "\n",
        "# MaxPool1D 2\n",
        "model.add(MaxPooling1D(pool_size=2))\n",
        "\n",
        "# Dropout 2\n",
        "model.add(Dropout(rate=0.5))\n",
        "\n",
        "# Flatten\n",
        "model.add(Flatten())\n",
        "\n",
        "# Dense 1\n",
        "model.add(Dense(units=64, activation='relu'))\n",
        "\n",
        "# Dropout 3\n",
        "model.add(Dropout(rate=0.5))\n",
        "\n",
        "# Dense 2\n",
        "model.add(Dense(units=64, activation='relu'))\n",
        "model.add(Dense(units=1, activation='sigmoid'))"
      ],
      "metadata": {
        "id": "_htVvmXIyB5j"
      },
      "execution_count": null,
      "outputs": []
    },
    {
      "cell_type": "code",
      "source": [
        "from tensorflow.keras.models import Sequential\n",
        "from tensorflow.keras.layers import Dense\n",
        "from tensorflow.keras.optimizers import Adam\n",
        "\n",
        "model.compile(optimizer=Adam(learning_rate=0.0001),\n",
        "              loss='binary_crossentropy',\n",
        "              metrics=['accuracy'])\n",
        "\n",
        "# Assuming you have training data (X_train, y_train) and validation data (X_val, y_val)\n",
        "epochs = 46\n",
        "\n",
        "# Train the model\n",
        "history = model.fit(X_train, y_train,\n",
        "                    epochs=epochs,\n",
        "                    validation_data=(X_val, y_val))  # Adjust verbose as needed (0: silent, 1: progress bar, 2: one line per epoch)"
      ],
      "metadata": {
        "colab": {
          "base_uri": "https://localhost:8080/"
        },
        "outputId": "ea7fe602-294e-48da-b02c-66d7d73e4a94",
        "id": "PE_rV6buyB5j"
      },
      "execution_count": null,
      "outputs": [
        {
          "output_type": "stream",
          "name": "stdout",
          "text": [
            "Epoch 1/46\n",
            "7108/7108 [==============================] - 59s 8ms/step - loss: 0.1590 - accuracy: 0.9435 - val_loss: 0.0758 - val_accuracy: 0.9710\n",
            "Epoch 2/46\n",
            "7108/7108 [==============================] - 66s 9ms/step - loss: 0.0916 - accuracy: 0.9690 - val_loss: 0.0569 - val_accuracy: 0.9798\n",
            "Epoch 3/46\n",
            "7108/7108 [==============================] - 65s 9ms/step - loss: 0.0769 - accuracy: 0.9731 - val_loss: 0.0484 - val_accuracy: 0.9846\n",
            "Epoch 4/46\n",
            "7108/7108 [==============================] - 56s 8ms/step - loss: 0.0698 - accuracy: 0.9756 - val_loss: 0.0422 - val_accuracy: 0.9880\n",
            "Epoch 5/46\n",
            "7108/7108 [==============================] - 56s 8ms/step - loss: 0.0637 - accuracy: 0.9779 - val_loss: 0.0383 - val_accuracy: 0.9888\n",
            "Epoch 6/46\n",
            "7108/7108 [==============================] - 57s 8ms/step - loss: 0.0589 - accuracy: 0.9794 - val_loss: 0.0337 - val_accuracy: 0.9905\n",
            "Epoch 7/46\n",
            "7108/7108 [==============================] - 66s 9ms/step - loss: 0.0545 - accuracy: 0.9811 - val_loss: 0.0304 - val_accuracy: 0.9918\n",
            "Epoch 8/46\n",
            "7108/7108 [==============================] - 56s 8ms/step - loss: 0.0507 - accuracy: 0.9820 - val_loss: 0.0284 - val_accuracy: 0.9924\n",
            "Epoch 9/46\n",
            "7108/7108 [==============================] - 56s 8ms/step - loss: 0.0486 - accuracy: 0.9829 - val_loss: 0.0252 - val_accuracy: 0.9931\n",
            "Epoch 10/46\n",
            "7108/7108 [==============================] - 66s 9ms/step - loss: 0.0460 - accuracy: 0.9839 - val_loss: 0.0249 - val_accuracy: 0.9940\n",
            "Epoch 11/46\n",
            "7108/7108 [==============================] - 56s 8ms/step - loss: 0.0436 - accuracy: 0.9843 - val_loss: 0.0240 - val_accuracy: 0.9946\n",
            "Epoch 12/46\n",
            "7108/7108 [==============================] - 56s 8ms/step - loss: 0.0422 - accuracy: 0.9851 - val_loss: 0.0225 - val_accuracy: 0.9947\n",
            "Epoch 13/46\n",
            "7108/7108 [==============================] - 56s 8ms/step - loss: 0.0409 - accuracy: 0.9855 - val_loss: 0.0212 - val_accuracy: 0.9951\n",
            "Epoch 14/46\n",
            "7108/7108 [==============================] - 66s 9ms/step - loss: 0.0385 - accuracy: 0.9862 - val_loss: 0.0199 - val_accuracy: 0.9952\n",
            "Epoch 15/46\n",
            "7108/7108 [==============================] - 57s 8ms/step - loss: 0.0375 - accuracy: 0.9867 - val_loss: 0.0205 - val_accuracy: 0.9955\n",
            "Epoch 16/46\n",
            "7108/7108 [==============================] - 57s 8ms/step - loss: 0.0361 - accuracy: 0.9872 - val_loss: 0.0200 - val_accuracy: 0.9956\n",
            "Epoch 17/46\n",
            "7108/7108 [==============================] - 56s 8ms/step - loss: 0.0353 - accuracy: 0.9875 - val_loss: 0.0181 - val_accuracy: 0.9962\n",
            "Epoch 18/46\n",
            "7108/7108 [==============================] - 66s 9ms/step - loss: 0.0336 - accuracy: 0.9881 - val_loss: 0.0188 - val_accuracy: 0.9958\n",
            "Epoch 19/46\n",
            "7108/7108 [==============================] - 57s 8ms/step - loss: 0.0329 - accuracy: 0.9884 - val_loss: 0.0178 - val_accuracy: 0.9963\n",
            "Epoch 20/46\n",
            "7108/7108 [==============================] - 65s 9ms/step - loss: 0.0321 - accuracy: 0.9887 - val_loss: 0.0174 - val_accuracy: 0.9967\n",
            "Epoch 21/46\n",
            "7108/7108 [==============================] - 56s 8ms/step - loss: 0.0316 - accuracy: 0.9889 - val_loss: 0.0160 - val_accuracy: 0.9966\n",
            "Epoch 22/46\n",
            "7108/7108 [==============================] - 65s 9ms/step - loss: 0.0309 - accuracy: 0.9891 - val_loss: 0.0165 - val_accuracy: 0.9969\n",
            "Epoch 23/46\n",
            "7108/7108 [==============================] - 65s 9ms/step - loss: 0.0303 - accuracy: 0.9892 - val_loss: 0.0168 - val_accuracy: 0.9967\n",
            "Epoch 24/46\n",
            "7108/7108 [==============================] - 65s 9ms/step - loss: 0.0294 - accuracy: 0.9896 - val_loss: 0.0149 - val_accuracy: 0.9971\n",
            "Epoch 25/46\n",
            "7108/7108 [==============================] - 66s 9ms/step - loss: 0.0292 - accuracy: 0.9895 - val_loss: 0.0149 - val_accuracy: 0.9973\n",
            "Epoch 26/46\n",
            "7108/7108 [==============================] - 66s 9ms/step - loss: 0.0290 - accuracy: 0.9898 - val_loss: 0.0172 - val_accuracy: 0.9974\n",
            "Epoch 27/46\n",
            "7108/7108 [==============================] - 66s 9ms/step - loss: 0.0286 - accuracy: 0.9899 - val_loss: 0.0157 - val_accuracy: 0.9975\n",
            "Epoch 28/46\n",
            "7108/7108 [==============================] - 57s 8ms/step - loss: 0.0272 - accuracy: 0.9904 - val_loss: 0.0138 - val_accuracy: 0.9974\n",
            "Epoch 29/46\n",
            "7108/7108 [==============================] - 65s 9ms/step - loss: 0.0269 - accuracy: 0.9905 - val_loss: 0.0157 - val_accuracy: 0.9973\n",
            "Epoch 30/46\n",
            "7108/7108 [==============================] - 65s 9ms/step - loss: 0.0280 - accuracy: 0.9904 - val_loss: 0.0150 - val_accuracy: 0.9976\n",
            "Epoch 31/46\n",
            "7108/7108 [==============================] - 65s 9ms/step - loss: 0.0267 - accuracy: 0.9906 - val_loss: 0.0182 - val_accuracy: 0.9975\n",
            "Epoch 32/46\n",
            "7108/7108 [==============================] - 66s 9ms/step - loss: 0.0267 - accuracy: 0.9906 - val_loss: 0.0159 - val_accuracy: 0.9969\n",
            "Epoch 33/46\n",
            "7108/7108 [==============================] - 66s 9ms/step - loss: 0.0258 - accuracy: 0.9909 - val_loss: 0.0153 - val_accuracy: 0.9968\n",
            "Epoch 34/46\n",
            "7108/7108 [==============================] - 57s 8ms/step - loss: 0.0261 - accuracy: 0.9910 - val_loss: 0.0143 - val_accuracy: 0.9978\n",
            "Epoch 35/46\n",
            "7108/7108 [==============================] - 56s 8ms/step - loss: 0.0253 - accuracy: 0.9911 - val_loss: 0.0154 - val_accuracy: 0.9969\n",
            "Epoch 36/46\n",
            "7108/7108 [==============================] - 65s 9ms/step - loss: 0.0244 - accuracy: 0.9915 - val_loss: 0.0162 - val_accuracy: 0.9966\n",
            "Epoch 37/46\n",
            "7108/7108 [==============================] - 56s 8ms/step - loss: 0.0245 - accuracy: 0.9913 - val_loss: 0.0148 - val_accuracy: 0.9974\n",
            "Epoch 38/46\n",
            "7108/7108 [==============================] - 66s 9ms/step - loss: 0.0250 - accuracy: 0.9914 - val_loss: 0.0146 - val_accuracy: 0.9974\n",
            "Epoch 39/46\n",
            "7108/7108 [==============================] - 58s 8ms/step - loss: 0.0245 - accuracy: 0.9915 - val_loss: 0.0143 - val_accuracy: 0.9977\n",
            "Epoch 40/46\n",
            "7108/7108 [==============================] - 66s 9ms/step - loss: 0.0240 - accuracy: 0.9917 - val_loss: 0.0144 - val_accuracy: 0.9975\n",
            "Epoch 41/46\n",
            "7108/7108 [==============================] - 56s 8ms/step - loss: 0.0242 - accuracy: 0.9918 - val_loss: 0.0142 - val_accuracy: 0.9975\n",
            "Epoch 42/46\n",
            "7108/7108 [==============================] - 56s 8ms/step - loss: 0.0234 - accuracy: 0.9920 - val_loss: 0.0167 - val_accuracy: 0.9966\n",
            "Epoch 43/46\n",
            "7108/7108 [==============================] - 57s 8ms/step - loss: 0.0236 - accuracy: 0.9918 - val_loss: 0.0170 - val_accuracy: 0.9969\n",
            "Epoch 44/46\n",
            "7108/7108 [==============================] - 55s 8ms/step - loss: 0.0240 - accuracy: 0.9918 - val_loss: 0.0159 - val_accuracy: 0.9976\n",
            "Epoch 45/46\n",
            "7108/7108 [==============================] - 65s 9ms/step - loss: 0.0238 - accuracy: 0.9919 - val_loss: 0.0140 - val_accuracy: 0.9978\n",
            "Epoch 46/46\n",
            "7108/7108 [==============================] - 65s 9ms/step - loss: 0.0234 - accuracy: 0.9920 - val_loss: 0.0148 - val_accuracy: 0.9975\n"
          ]
        }
      ]
    },
    {
      "cell_type": "code",
      "source": [
        "import matplotlib.pyplot as plt\n",
        "\n",
        "# Assuming you have trained your model and have the 'history' object\n",
        "# history = model.fit(X_train_resampled, y_train_resampled, epochs=epochs, validation_data=(X_val, y_val))\n",
        "\n",
        "# Plot training and validation loss\n",
        "plt.figure(figsize=(12, 4))\n",
        "plt.subplot(1, 2, 1)\n",
        "plt.plot(history.history['loss'], label='Training Loss')\n",
        "plt.plot(history.history['val_loss'], label='Validation Loss')\n",
        "plt.title('Training and Validation Loss')\n",
        "plt.xlabel('Epoch')\n",
        "plt.ylabel('Loss')\n",
        "plt.legend()\n",
        "\n",
        "# Plot training and validation accuracy\n",
        "plt.subplot(1, 2, 2)\n",
        "plt.plot(history.history['accuracy'], label='Training Accuracy')\n",
        "plt.plot(history.history['val_accuracy'], label='Validation Accuracy')\n",
        "plt.title('Training and Validation Accuracy')\n",
        "plt.xlabel('Epoch')\n",
        "plt.ylabel('Accuracy')\n",
        "plt.legend()\n",
        "\n",
        "plt.tight_layout()\n",
        "plt.show()\n"
      ],
      "metadata": {
        "id": "GfHEropDyB5k",
        "colab": {
          "base_uri": "https://localhost:8080/",
          "height": 407
        },
        "outputId": "de100cb7-6e61-4b86-b739-81cef7a4628c"
      },
      "execution_count": null,
      "outputs": [
        {
          "output_type": "display_data",
          "data": {
            "text/plain": [
              "<Figure size 1200x400 with 2 Axes>"
            ],
            "image/png": "[encoded data removed]"
          },
          "metadata": {}
        }
      ]
    },
    {
      "cell_type": "code",
      "source": [
        "from sklearn.metrics import confusion_matrix, classification_report\n",
        "import seaborn as sns\n",
        "import matplotlib.pyplot as plt\n",
        "\n",
        "# Assuming you have trained your model and have the 'model' object\n",
        "# model.fit(X_train_resampled, y_train_resampled, epochs=epochs, validation_data=(X_val, y_val))\n",
        "\n",
        "# Assuming you have X_test and y_test\n",
        "# Evaluate the model on the test set\n",
        "y_pred = model.predict(X_test)\n",
        "y_pred = (model.predict(X_test) > 0.5).astype(\"int32\")\n",
        "\n",
        "# Calculate confusion matrix\n",
        "conf_matrix = confusion_matrix(y_test, y_pred)\n",
        "\n",
        "# Plot the confusion matrix using seaborn\n",
        "plt.figure(figsize=(8, 6))\n",
        "sns.heatmap(conf_matrix, annot=True, fmt='d', cmap='Blues', cbar=False,\n",
        "            xticklabels=['Not Fraud', 'Fraud'], yticklabels=['Not Fraud', 'Fraud'])\n",
        "plt.title('Confusion Matrix - Test Set')\n",
        "plt.xlabel('Predicted')\n",
        "plt.ylabel('True')\n",
        "plt.show()\n"
      ],
      "metadata": {
        "id": "2wDeOHTWyB5k",
        "colab": {
          "base_uri": "https://localhost:8080/",
          "height": 599
        },
        "outputId": "7ea3a22e-977b-4861-9fcb-c8de0c331d33"
      },
      "execution_count": null,
      "outputs": [
        {
          "output_type": "stream",
          "name": "stdout",
          "text": [
            "5331/5331 [==============================] - 11s 2ms/step\n",
            "5331/5331 [==============================] - 11s 2ms/step\n"
          ]
        },
        {
          "output_type": "display_data",
          "data": {
            "text/plain": [
              "<Figure size 800x600 with 1 Axes>"
            ],
            "image/png": "[encoded data removed]"
          },
          "metadata": {}
        }
      ]
    },
    {
      "cell_type": "code",
      "source": [
        "# Print classification report\n",
        "print(\"Classification Report:\\n\", classification_report(y_test, y_pred))\n"
      ],
      "metadata": {
        "id": "C5_pvPfhyB5l",
        "colab": {
          "base_uri": "https://localhost:8080/"
        },
        "outputId": "2bc341ea-0e8d-43e0-9fb1-9395ec9231df"
      },
      "execution_count": null,
      "outputs": [
        {
          "output_type": "stream",
          "name": "stdout",
          "text": [
            "Classification Report:\n",
            "               precision    recall  f1-score   support\n",
            "\n",
            "           0       1.00      1.00      1.00     85221\n",
            "           1       1.00      1.00      1.00     85363\n",
            "\n",
            "    accuracy                           1.00    170584\n",
            "   macro avg       1.00      1.00      1.00    170584\n",
            "weighted avg       1.00      1.00      1.00    170584\n",
            "\n"
          ]
        }
      ]
    },
    {
      "cell_type": "code",
      "source": [
        "from sklearn.metrics import precision_score, recall_score, f1_score\n",
        "\n",
        "# Assuming y_test and y_pred are your true labels and predicted labels, respectively\n",
        "\n",
        "# Calculate precision\n",
        "precision = precision_score(y_test, y_pred)\n",
        "\n",
        "# Calculate recall\n",
        "recall = recall_score(y_test, y_pred)\n",
        "\n",
        "# Calculate F1-score\n",
        "f1 = f1_score(y_test, y_pred)\n",
        "\n",
        "print(\"Precision:\", precision)\n",
        "print(\"Recall:\", recall)\n",
        "print(\"F1-score:\", f1)\n"
      ],
      "metadata": {
        "colab": {
          "base_uri": "https://localhost:8080/"
        },
        "id": "WsqSkxZRJt6B",
        "outputId": "28271c2a-aedd-4d05-8c52-af9de0c44f86"
      },
      "execution_count": null,
      "outputs": [
        {
          "output_type": "stream",
          "name": "stdout",
          "text": [
            "Precision: 0.9953475898416548\n",
            "Recall: 1.0\n",
            "F1-score: 0.9976683710737765\n"
          ]
        }
      ]
    }
  ]
}