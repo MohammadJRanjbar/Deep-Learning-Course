{
  "nbformat": 4,
  "nbformat_minor": 0,
  "metadata": {
    "colab": {
      "provenance": [],
      "gpuType": "T4"
    },
    "kernelspec": {
      "name": "python3",
      "display_name": "Python 3"
    },
    "language_info": {
      "name": "python"
    },
    "accelerator": "GPU",
    "widgets": {
      "application/vnd.jupyter.widget-state+json": {
        "e90bc2b3da244a63afaabd349c58c4fa": {
          "model_module": "@jupyter-widgets/controls",
          "model_name": "HBoxModel",
          "model_module_version": "1.5.0",
          "state": {
            "_dom_classes": [],
            "_model_module": "@jupyter-widgets/controls",
            "_model_module_version": "1.5.0",
            "_model_name": "HBoxModel",
            "_view_count": null,
            "_view_module": "@jupyter-widgets/controls",
            "_view_module_version": "1.5.0",
            "_view_name": "HBoxView",
            "box_style": "",
            "children": [
              "IPY_MODEL_0901ce46fd994c48946e21bcf2319449",
              "IPY_MODEL_7180f2d93abf4481ac025988b4a6b98a",
              "IPY_MODEL_49bbaf4f3af64392908cafca4040762f"
            ],
            "layout": "IPY_MODEL_6bfeea3a755648a08890b04c87c6d095"
          }
        },
        "0901ce46fd994c48946e21bcf2319449": {
          "model_module": "@jupyter-widgets/controls",
          "model_name": "HTMLModel",
          "model_module_version": "1.5.0",
          "state": {
            "_dom_classes": [],
            "_model_module": "@jupyter-widgets/controls",
            "_model_module_version": "1.5.0",
            "_model_name": "HTMLModel",
            "_view_count": null,
            "_view_module": "@jupyter-widgets/controls",
            "_view_module_version": "1.5.0",
            "_view_name": "HTMLView",
            "description": "",
            "description_tooltip": null,
            "layout": "IPY_MODEL_fdaca3aea0b84c089969ce22a0d9a159",
            "placeholder": "​",
            "style": "IPY_MODEL_c4c28d71a852487098e2352e34114264",
            "value": "Map: 100%"
          }
        },
        "7180f2d93abf4481ac025988b4a6b98a": {
          "model_module": "@jupyter-widgets/controls",
          "model_name": "FloatProgressModel",
          "model_module_version": "1.5.0",
          "state": {
            "_dom_classes": [],
            "_model_module": "@jupyter-widgets/controls",
            "_model_module_version": "1.5.0",
            "_model_name": "FloatProgressModel",
            "_view_count": null,
            "_view_module": "@jupyter-widgets/controls",
            "_view_module_version": "1.5.0",
            "_view_name": "ProgressView",
            "bar_style": "success",
            "description": "",
            "description_tooltip": null,
            "layout": "IPY_MODEL_cbb1757de0e1404c800d374b220be8f9",
            "max": 1000,
            "min": 0,
            "orientation": "horizontal",
            "style": "IPY_MODEL_1fc3734ddade47688cb2ced9dd2d2753",
            "value": 1000
          }
        },
        "49bbaf4f3af64392908cafca4040762f": {
          "model_module": "@jupyter-widgets/controls",
          "model_name": "HTMLModel",
          "model_module_version": "1.5.0",
          "state": {
            "_dom_classes": [],
            "_model_module": "@jupyter-widgets/controls",
            "_model_module_version": "1.5.0",
            "_model_name": "HTMLModel",
            "_view_count": null,
            "_view_module": "@jupyter-widgets/controls",
            "_view_module_version": "1.5.0",
            "_view_name": "HTMLView",
            "description": "",
            "description_tooltip": null,
            "layout": "IPY_MODEL_f2339e0668c54361be26b998c5e7e636",
            "placeholder": "​",
            "style": "IPY_MODEL_94f96d3e02214f42accaa81e170d0332",
            "value": " 1000/1000 [00:01&lt;00:00, 659.32 examples/s]"
          }
        },
        "6bfeea3a755648a08890b04c87c6d095": {
          "model_module": "@jupyter-widgets/base",
          "model_name": "LayoutModel",
          "model_module_version": "1.2.0",
          "state": {
            "_model_module": "@jupyter-widgets/base",
            "_model_module_version": "1.2.0",
            "_model_name": "LayoutModel",
            "_view_count": null,
            "_view_module": "@jupyter-widgets/base",
            "_view_module_version": "1.2.0",
            "_view_name": "LayoutView",
            "align_content": null,
            "align_items": null,
            "align_self": null,
            "border": null,
            "bottom": null,
            "display": null,
            "flex": null,
            "flex_flow": null,
            "grid_area": null,
            "grid_auto_columns": null,
            "grid_auto_flow": null,
            "grid_auto_rows": null,
            "grid_column": null,
            "grid_gap": null,
            "grid_row": null,
            "grid_template_areas": null,
            "grid_template_columns": null,
            "grid_template_rows": null,
            "height": null,
            "justify_content": null,
            "justify_items": null,
            "left": null,
            "margin": null,
            "max_height": null,
            "max_width": null,
            "min_height": null,
            "min_width": null,
            "object_fit": null,
            "object_position": null,
            "order": null,
            "overflow": null,
            "overflow_x": null,
            "overflow_y": null,
            "padding": null,
            "right": null,
            "top": null,
            "visibility": null,
            "width": null
          }
        },
        "fdaca3aea0b84c089969ce22a0d9a159": {
          "model_module": "@jupyter-widgets/base",
          "model_name": "LayoutModel",
          "model_module_version": "1.2.0",
          "state": {
            "_model_module": "@jupyter-widgets/base",
            "_model_module_version": "1.2.0",
            "_model_name": "LayoutModel",
            "_view_count": null,
            "_view_module": "@jupyter-widgets/base",
            "_view_module_version": "1.2.0",
            "_view_name": "LayoutView",
            "align_content": null,
            "align_items": null,
            "align_self": null,
            "border": null,
            "bottom": null,
            "display": null,
            "flex": null,
            "flex_flow": null,
            "grid_area": null,
            "grid_auto_columns": null,
            "grid_auto_flow": null,
            "grid_auto_rows": null,
            "grid_column": null,
            "grid_gap": null,
            "grid_row": null,
            "grid_template_areas": null,
            "grid_template_columns": null,
            "grid_template_rows": null,
            "height": null,
            "justify_content": null,
            "justify_items": null,
            "left": null,
            "margin": null,
            "max_height": null,
            "max_width": null,
            "min_height": null,
            "min_width": null,
            "object_fit": null,
            "object_position": null,
            "order": null,
            "overflow": null,
            "overflow_x": null,
            "overflow_y": null,
            "padding": null,
            "right": null,
            "top": null,
            "visibility": null,
            "width": null
          }
        },
        "c4c28d71a852487098e2352e34114264": {
          "model_module": "@jupyter-widgets/controls",
          "model_name": "DescriptionStyleModel",
          "model_module_version": "1.5.0",
          "state": {
            "_model_module": "@jupyter-widgets/controls",
            "_model_module_version": "1.5.0",
            "_model_name": "DescriptionStyleModel",
            "_view_count": null,
            "_view_module": "@jupyter-widgets/base",
            "_view_module_version": "1.2.0",
            "_view_name": "StyleView",
            "description_width": ""
          }
        },
        "cbb1757de0e1404c800d374b220be8f9": {
          "model_module": "@jupyter-widgets/base",
          "model_name": "LayoutModel",
          "model_module_version": "1.2.0",
          "state": {
            "_model_module": "@jupyter-widgets/base",
            "_model_module_version": "1.2.0",
            "_model_name": "LayoutModel",
            "_view_count": null,
            "_view_module": "@jupyter-widgets/base",
            "_view_module_version": "1.2.0",
            "_view_name": "LayoutView",
            "align_content": null,
            "align_items": null,
            "align_self": null,
            "border": null,
            "bottom": null,
            "display": null,
            "flex": null,
            "flex_flow": null,
            "grid_area": null,
            "grid_auto_columns": null,
            "grid_auto_flow": null,
            "grid_auto_rows": null,
            "grid_column": null,
            "grid_gap": null,
            "grid_row": null,
            "grid_template_areas": null,
            "grid_template_columns": null,
            "grid_template_rows": null,
            "height": null,
            "justify_content": null,
            "justify_items": null,
            "left": null,
            "margin": null,
            "max_height": null,
            "max_width": null,
            "min_height": null,
            "min_width": null,
            "object_fit": null,
            "object_position": null,
            "order": null,
            "overflow": null,
            "overflow_x": null,
            "overflow_y": null,
            "padding": null,
            "right": null,
            "top": null,
            "visibility": null,
            "width": null
          }
        },
        "1fc3734ddade47688cb2ced9dd2d2753": {
          "model_module": "@jupyter-widgets/controls",
          "model_name": "ProgressStyleModel",
          "model_module_version": "1.5.0",
          "state": {
            "_model_module": "@jupyter-widgets/controls",
            "_model_module_version": "1.5.0",
            "_model_name": "ProgressStyleModel",
            "_view_count": null,
            "_view_module": "@jupyter-widgets/base",
            "_view_module_version": "1.2.0",
            "_view_name": "StyleView",
            "bar_color": null,
            "description_width": ""
          }
        },
        "f2339e0668c54361be26b998c5e7e636": {
          "model_module": "@jupyter-widgets/base",
          "model_name": "LayoutModel",
          "model_module_version": "1.2.0",
          "state": {
            "_model_module": "@jupyter-widgets/base",
            "_model_module_version": "1.2.0",
            "_model_name": "LayoutModel",
            "_view_count": null,
            "_view_module": "@jupyter-widgets/base",
            "_view_module_version": "1.2.0",
            "_view_name": "LayoutView",
            "align_content": null,
            "align_items": null,
            "align_self": null,
            "border": null,
            "bottom": null,
            "display": null,
            "flex": null,
            "flex_flow": null,
            "grid_area": null,
            "grid_auto_columns": null,
            "grid_auto_flow": null,
            "grid_auto_rows": null,
            "grid_column": null,
            "grid_gap": null,
            "grid_row": null,
            "grid_template_areas": null,
            "grid_template_columns": null,
            "grid_template_rows": null,
            "height": null,
            "justify_content": null,
            "justify_items": null,
            "left": null,
            "margin": null,
            "max_height": null,
            "max_width": null,
            "min_height": null,
            "min_width": null,
            "object_fit": null,
            "object_position": null,
            "order": null,
            "overflow": null,
            "overflow_x": null,
            "overflow_y": null,
            "padding": null,
            "right": null,
            "top": null,
            "visibility": null,
            "width": null
          }
        },
        "94f96d3e02214f42accaa81e170d0332": {
          "model_module": "@jupyter-widgets/controls",
          "model_name": "DescriptionStyleModel",
          "model_module_version": "1.5.0",
          "state": {
            "_model_module": "@jupyter-widgets/controls",
            "_model_module_version": "1.5.0",
            "_model_name": "DescriptionStyleModel",
            "_view_count": null,
            "_view_module": "@jupyter-widgets/base",
            "_view_module_version": "1.2.0",
            "_view_name": "StyleView",
            "description_width": ""
          }
        },
        "7701c4aed1c14ef1b489c17e81e28b36": {
          "model_module": "@jupyter-widgets/controls",
          "model_name": "HBoxModel",
          "model_module_version": "1.5.0",
          "state": {
            "_dom_classes": [],
            "_model_module": "@jupyter-widgets/controls",
            "_model_module_version": "1.5.0",
            "_model_name": "HBoxModel",
            "_view_count": null,
            "_view_module": "@jupyter-widgets/controls",
            "_view_module_version": "1.5.0",
            "_view_name": "HBoxView",
            "box_style": "",
            "children": [
              "IPY_MODEL_787dbb78cb944b3e84645a253c2ef106",
              "IPY_MODEL_ee40c24d7fad4f1ebf2f871cba3ab304",
              "IPY_MODEL_897b2c589ff74c6eb0361befe2f5c3b3"
            ],
            "layout": "IPY_MODEL_fe6c4e0c65cd41a2ae0e1c066b12f05e"
          }
        },
        "787dbb78cb944b3e84645a253c2ef106": {
          "model_module": "@jupyter-widgets/controls",
          "model_name": "HTMLModel",
          "model_module_version": "1.5.0",
          "state": {
            "_dom_classes": [],
            "_model_module": "@jupyter-widgets/controls",
            "_model_module_version": "1.5.0",
            "_model_name": "HTMLModel",
            "_view_count": null,
            "_view_module": "@jupyter-widgets/controls",
            "_view_module_version": "1.5.0",
            "_view_name": "HTMLView",
            "description": "",
            "description_tooltip": null,
            "layout": "IPY_MODEL_77bb2499c3984912b3a917d2f3c4e2ef",
            "placeholder": "​",
            "style": "IPY_MODEL_ab0dd79a85874db8ad73a2999a5fd02b",
            "value": "Map: 100%"
          }
        },
        "ee40c24d7fad4f1ebf2f871cba3ab304": {
          "model_module": "@jupyter-widgets/controls",
          "model_name": "FloatProgressModel",
          "model_module_version": "1.5.0",
          "state": {
            "_dom_classes": [],
            "_model_module": "@jupyter-widgets/controls",
            "_model_module_version": "1.5.0",
            "_model_name": "FloatProgressModel",
            "_view_count": null,
            "_view_module": "@jupyter-widgets/controls",
            "_view_module_version": "1.5.0",
            "_view_name": "ProgressView",
            "bar_style": "success",
            "description": "",
            "description_tooltip": null,
            "layout": "IPY_MODEL_d3e54dec29b548168869b60a10a0530e",
            "max": 1000,
            "min": 0,
            "orientation": "horizontal",
            "style": "IPY_MODEL_54e47266683c474bb4d61ef907c8e334",
            "value": 1000
          }
        },
        "897b2c589ff74c6eb0361befe2f5c3b3": {
          "model_module": "@jupyter-widgets/controls",
          "model_name": "HTMLModel",
          "model_module_version": "1.5.0",
          "state": {
            "_dom_classes": [],
            "_model_module": "@jupyter-widgets/controls",
            "_model_module_version": "1.5.0",
            "_model_name": "HTMLModel",
            "_view_count": null,
            "_view_module": "@jupyter-widgets/controls",
            "_view_module_version": "1.5.0",
            "_view_name": "HTMLView",
            "description": "",
            "description_tooltip": null,
            "layout": "IPY_MODEL_beb4624695d044138b55eeaed50d8f4c",
            "placeholder": "​",
            "style": "IPY_MODEL_85fdbc8ec56c485a915cf41db5c1662b",
            "value": " 1000/1000 [00:01&lt;00:00, 908.87 examples/s]"
          }
        },
        "fe6c4e0c65cd41a2ae0e1c066b12f05e": {
          "model_module": "@jupyter-widgets/base",
          "model_name": "LayoutModel",
          "model_module_version": "1.2.0",
          "state": {
            "_model_module": "@jupyter-widgets/base",
            "_model_module_version": "1.2.0",
            "_model_name": "LayoutModel",
            "_view_count": null,
            "_view_module": "@jupyter-widgets/base",
            "_view_module_version": "1.2.0",
            "_view_name": "LayoutView",
            "align_content": null,
            "align_items": null,
            "align_self": null,
            "border": null,
            "bottom": null,
            "display": null,
            "flex": null,
            "flex_flow": null,
            "grid_area": null,
            "grid_auto_columns": null,
            "grid_auto_flow": null,
            "grid_auto_rows": null,
            "grid_column": null,
            "grid_gap": null,
            "grid_row": null,
            "grid_template_areas": null,
            "grid_template_columns": null,
            "grid_template_rows": null,
            "height": null,
            "justify_content": null,
            "justify_items": null,
            "left": null,
            "margin": null,
            "max_height": null,
            "max_width": null,
            "min_height": null,
            "min_width": null,
            "object_fit": null,
            "object_position": null,
            "order": null,
            "overflow": null,
            "overflow_x": null,
            "overflow_y": null,
            "padding": null,
            "right": null,
            "top": null,
            "visibility": null,
            "width": null
          }
        },
        "77bb2499c3984912b3a917d2f3c4e2ef": {
          "model_module": "@jupyter-widgets/base",
          "model_name": "LayoutModel",
          "model_module_version": "1.2.0",
          "state": {
            "_model_module": "@jupyter-widgets/base",
            "_model_module_version": "1.2.0",
            "_model_name": "LayoutModel",
            "_view_count": null,
            "_view_module": "@jupyter-widgets/base",
            "_view_module_version": "1.2.0",
            "_view_name": "LayoutView",
            "align_content": null,
            "align_items": null,
            "align_self": null,
            "border": null,
            "bottom": null,
            "display": null,
            "flex": null,
            "flex_flow": null,
            "grid_area": null,
            "grid_auto_columns": null,
            "grid_auto_flow": null,
            "grid_auto_rows": null,
            "grid_column": null,
            "grid_gap": null,
            "grid_row": null,
            "grid_template_areas": null,
            "grid_template_columns": null,
            "grid_template_rows": null,
            "height": null,
            "justify_content": null,
            "justify_items": null,
            "left": null,
            "margin": null,
            "max_height": null,
            "max_width": null,
            "min_height": null,
            "min_width": null,
            "object_fit": null,
            "object_position": null,
            "order": null,
            "overflow": null,
            "overflow_x": null,
            "overflow_y": null,
            "padding": null,
            "right": null,
            "top": null,
            "visibility": null,
            "width": null
          }
        },
        "ab0dd79a85874db8ad73a2999a5fd02b": {
          "model_module": "@jupyter-widgets/controls",
          "model_name": "DescriptionStyleModel",
          "model_module_version": "1.5.0",
          "state": {
            "_model_module": "@jupyter-widgets/controls",
            "_model_module_version": "1.5.0",
            "_model_name": "DescriptionStyleModel",
            "_view_count": null,
            "_view_module": "@jupyter-widgets/base",
            "_view_module_version": "1.2.0",
            "_view_name": "StyleView",
            "description_width": ""
          }
        },
        "d3e54dec29b548168869b60a10a0530e": {
          "model_module": "@jupyter-widgets/base",
          "model_name": "LayoutModel",
          "model_module_version": "1.2.0",
          "state": {
            "_model_module": "@jupyter-widgets/base",
            "_model_module_version": "1.2.0",
            "_model_name": "LayoutModel",
            "_view_count": null,
            "_view_module": "@jupyter-widgets/base",
            "_view_module_version": "1.2.0",
            "_view_name": "LayoutView",
            "align_content": null,
            "align_items": null,
            "align_self": null,
            "border": null,
            "bottom": null,
            "display": null,
            "flex": null,
            "flex_flow": null,
            "grid_area": null,
            "grid_auto_columns": null,
            "grid_auto_flow": null,
            "grid_auto_rows": null,
            "grid_column": null,
            "grid_gap": null,
            "grid_row": null,
            "grid_template_areas": null,
            "grid_template_columns": null,
            "grid_template_rows": null,
            "height": null,
            "justify_content": null,
            "justify_items": null,
            "left": null,
            "margin": null,
            "max_height": null,
            "max_width": null,
            "min_height": null,
            "min_width": null,
            "object_fit": null,
            "object_position": null,
            "order": null,
            "overflow": null,
            "overflow_x": null,
            "overflow_y": null,
            "padding": null,
            "right": null,
            "top": null,
            "visibility": null,
            "width": null
          }
        },
        "54e47266683c474bb4d61ef907c8e334": {
          "model_module": "@jupyter-widgets/controls",
          "model_name": "ProgressStyleModel",
          "model_module_version": "1.5.0",
          "state": {
            "_model_module": "@jupyter-widgets/controls",
            "_model_module_version": "1.5.0",
            "_model_name": "ProgressStyleModel",
            "_view_count": null,
            "_view_module": "@jupyter-widgets/base",
            "_view_module_version": "1.2.0",
            "_view_name": "StyleView",
            "bar_color": null,
            "description_width": ""
          }
        },
        "beb4624695d044138b55eeaed50d8f4c": {
          "model_module": "@jupyter-widgets/base",
          "model_name": "LayoutModel",
          "model_module_version": "1.2.0",
          "state": {
            "_model_module": "@jupyter-widgets/base",
            "_model_module_version": "1.2.0",
            "_model_name": "LayoutModel",
            "_view_count": null,
            "_view_module": "@jupyter-widgets/base",
            "_view_module_version": "1.2.0",
            "_view_name": "LayoutView",
            "align_content": null,
            "align_items": null,
            "align_self": null,
            "border": null,
            "bottom": null,
            "display": null,
            "flex": null,
            "flex_flow": null,
            "grid_area": null,
            "grid_auto_columns": null,
            "grid_auto_flow": null,
            "grid_auto_rows": null,
            "grid_column": null,
            "grid_gap": null,
            "grid_row": null,
            "grid_template_areas": null,
            "grid_template_columns": null,
            "grid_template_rows": null,
            "height": null,
            "justify_content": null,
            "justify_items": null,
            "left": null,
            "margin": null,
            "max_height": null,
            "max_width": null,
            "min_height": null,
            "min_width": null,
            "object_fit": null,
            "object_position": null,
            "order": null,
            "overflow": null,
            "overflow_x": null,
            "overflow_y": null,
            "padding": null,
            "right": null,
            "top": null,
            "visibility": null,
            "width": null
          }
        },
        "85fdbc8ec56c485a915cf41db5c1662b": {
          "model_module": "@jupyter-widgets/controls",
          "model_name": "DescriptionStyleModel",
          "model_module_version": "1.5.0",
          "state": {
            "_model_module": "@jupyter-widgets/controls",
            "_model_module_version": "1.5.0",
            "_model_name": "DescriptionStyleModel",
            "_view_count": null,
            "_view_module": "@jupyter-widgets/base",
            "_view_module_version": "1.2.0",
            "_view_name": "StyleView",
            "description_width": ""
          }
        }
      }
    }
  },
  "cells": [
    {
      "cell_type": "code",
      "execution_count": null,
      "metadata": {
        "colab": {
          "base_uri": "https://localhost:8080/"
        },
        "id": "uFhsqKqBF6_T",
        "outputId": "eaac7591-03bd-4e69-b294-e2c3ccbb72e6"
      },
      "outputs": [
        {
          "output_type": "stream",
          "name": "stdout",
          "text": [
            "Collecting datasets\n",
            "  Downloading datasets-2.16.1-py3-none-any.whl (507 kB)\n",
            "\u001b[2K     \u001b[90m━━━━━━━━━━━━━━━━━━━━━━━━━━━━━━━━━━━━━━━━\u001b[0m \u001b[32m507.1/507.1 kB\u001b[0m \u001b[31m4.5 MB/s\u001b[0m eta \u001b[36m0:00:00\u001b[0m\n",
            "\u001b[?25hRequirement already satisfied: filelock in /usr/local/lib/python3.10/dist-packages (from datasets) (3.13.1)\n",
            "Requirement already satisfied: numpy>=1.17 in /usr/local/lib/python3.10/dist-packages (from datasets) (1.23.5)\n",
            "Requirement already satisfied: pyarrow>=8.0.0 in /usr/local/lib/python3.10/dist-packages (from datasets) (10.0.1)\n",
            "Requirement already satisfied: pyarrow-hotfix in /usr/local/lib/python3.10/dist-packages (from datasets) (0.6)\n",
            "Collecting dill<0.3.8,>=0.3.0 (from datasets)\n",
            "  Downloading dill-0.3.7-py3-none-any.whl (115 kB)\n",
            "\u001b[2K     \u001b[90m━━━━━━━━━━━━━━━━━━━━━━━━━━━━━━━━━━━━━━━━\u001b[0m \u001b[32m115.3/115.3 kB\u001b[0m \u001b[31m5.5 MB/s\u001b[0m eta \u001b[36m0:00:00\u001b[0m\n",
            "\u001b[?25hRequirement already satisfied: pandas in /usr/local/lib/python3.10/dist-packages (from datasets) (1.5.3)\n",
            "Requirement already satisfied: requests>=2.19.0 in /usr/local/lib/python3.10/dist-packages (from datasets) (2.31.0)\n",
            "Requirement already satisfied: tqdm>=4.62.1 in /usr/local/lib/python3.10/dist-packages (from datasets) (4.66.1)\n",
            "Requirement already satisfied: xxhash in /usr/local/lib/python3.10/dist-packages (from datasets) (3.4.1)\n",
            "Collecting multiprocess (from datasets)\n",
            "  Downloading multiprocess-0.70.15-py310-none-any.whl (134 kB)\n",
            "\u001b[2K     \u001b[90m━━━━━━━━━━━━━━━━━━━━━━━━━━━━━━━━━━━━━━━━\u001b[0m \u001b[32m134.8/134.8 kB\u001b[0m \u001b[31m6.7 MB/s\u001b[0m eta \u001b[36m0:00:00\u001b[0m\n",
            "\u001b[?25hRequirement already satisfied: fsspec[http]<=2023.10.0,>=2023.1.0 in /usr/local/lib/python3.10/dist-packages (from datasets) (2023.6.0)\n",
            "Requirement already satisfied: aiohttp in /usr/local/lib/python3.10/dist-packages (from datasets) (3.9.1)\n",
            "Requirement already satisfied: huggingface-hub>=0.19.4 in /usr/local/lib/python3.10/dist-packages (from datasets) (0.20.2)\n",
            "Requirement already satisfied: packaging in /usr/local/lib/python3.10/dist-packages (from datasets) (23.2)\n",
            "Requirement already satisfied: pyyaml>=5.1 in /usr/local/lib/python3.10/dist-packages (from datasets) (6.0.1)\n",
            "Requirement already satisfied: attrs>=17.3.0 in /usr/local/lib/python3.10/dist-packages (from aiohttp->datasets) (23.2.0)\n",
            "Requirement already satisfied: multidict<7.0,>=4.5 in /usr/local/lib/python3.10/dist-packages (from aiohttp->datasets) (6.0.4)\n",
            "Requirement already satisfied: yarl<2.0,>=1.0 in /usr/local/lib/python3.10/dist-packages (from aiohttp->datasets) (1.9.4)\n",
            "Requirement already satisfied: frozenlist>=1.1.1 in /usr/local/lib/python3.10/dist-packages (from aiohttp->datasets) (1.4.1)\n",
            "Requirement already satisfied: aiosignal>=1.1.2 in /usr/local/lib/python3.10/dist-packages (from aiohttp->datasets) (1.3.1)\n",
            "Requirement already satisfied: async-timeout<5.0,>=4.0 in /usr/local/lib/python3.10/dist-packages (from aiohttp->datasets) (4.0.3)\n",
            "Requirement already satisfied: typing-extensions>=3.7.4.3 in /usr/local/lib/python3.10/dist-packages (from huggingface-hub>=0.19.4->datasets) (4.5.0)\n",
            "Requirement already satisfied: charset-normalizer<4,>=2 in /usr/local/lib/python3.10/dist-packages (from requests>=2.19.0->datasets) (3.3.2)\n",
            "Requirement already satisfied: idna<4,>=2.5 in /usr/local/lib/python3.10/dist-packages (from requests>=2.19.0->datasets) (3.6)\n",
            "Requirement already satisfied: urllib3<3,>=1.21.1 in /usr/local/lib/python3.10/dist-packages (from requests>=2.19.0->datasets) (2.0.7)\n",
            "Requirement already satisfied: certifi>=2017.4.17 in /usr/local/lib/python3.10/dist-packages (from requests>=2.19.0->datasets) (2023.11.17)\n",
            "Requirement already satisfied: python-dateutil>=2.8.1 in /usr/local/lib/python3.10/dist-packages (from pandas->datasets) (2.8.2)\n",
            "Requirement already satisfied: pytz>=2020.1 in /usr/local/lib/python3.10/dist-packages (from pandas->datasets) (2023.3.post1)\n",
            "Requirement already satisfied: six>=1.5 in /usr/local/lib/python3.10/dist-packages (from python-dateutil>=2.8.1->pandas->datasets) (1.16.0)\n",
            "Installing collected packages: dill, multiprocess, datasets\n",
            "Successfully installed datasets-2.16.1 dill-0.3.7 multiprocess-0.70.15\n",
            "Collecting accelerate\n",
            "  Downloading accelerate-0.26.1-py3-none-any.whl (270 kB)\n",
            "\u001b[2K     \u001b[90m━━━━━━━━━━━━━━━━━━━━━━━━━━━━━━━━━━━━━━━━\u001b[0m \u001b[32m270.9/270.9 kB\u001b[0m \u001b[31m4.5 MB/s\u001b[0m eta \u001b[36m0:00:00\u001b[0m\n",
            "\u001b[?25hRequirement already satisfied: numpy>=1.17 in /usr/local/lib/python3.10/dist-packages (from accelerate) (1.23.5)\n",
            "Requirement already satisfied: packaging>=20.0 in /usr/local/lib/python3.10/dist-packages (from accelerate) (23.2)\n",
            "Requirement already satisfied: psutil in /usr/local/lib/python3.10/dist-packages (from accelerate) (5.9.5)\n",
            "Requirement already satisfied: pyyaml in /usr/local/lib/python3.10/dist-packages (from accelerate) (6.0.1)\n",
            "Requirement already satisfied: torch>=1.10.0 in /usr/local/lib/python3.10/dist-packages (from accelerate) (2.1.0+cu121)\n",
            "Requirement already satisfied: huggingface-hub in /usr/local/lib/python3.10/dist-packages (from accelerate) (0.20.2)\n",
            "Requirement already satisfied: safetensors>=0.3.1 in /usr/local/lib/python3.10/dist-packages (from accelerate) (0.4.1)\n",
            "Requirement already satisfied: filelock in /usr/local/lib/python3.10/dist-packages (from torch>=1.10.0->accelerate) (3.13.1)\n",
            "Requirement already satisfied: typing-extensions in /usr/local/lib/python3.10/dist-packages (from torch>=1.10.0->accelerate) (4.5.0)\n",
            "Requirement already satisfied: sympy in /usr/local/lib/python3.10/dist-packages (from torch>=1.10.0->accelerate) (1.12)\n",
            "Requirement already satisfied: networkx in /usr/local/lib/python3.10/dist-packages (from torch>=1.10.0->accelerate) (3.2.1)\n",
            "Requirement already satisfied: jinja2 in /usr/local/lib/python3.10/dist-packages (from torch>=1.10.0->accelerate) (3.1.2)\n",
            "Requirement already satisfied: fsspec in /usr/local/lib/python3.10/dist-packages (from torch>=1.10.0->accelerate) (2023.6.0)\n",
            "Requirement already satisfied: triton==2.1.0 in /usr/local/lib/python3.10/dist-packages (from torch>=1.10.0->accelerate) (2.1.0)\n",
            "Requirement already satisfied: requests in /usr/local/lib/python3.10/dist-packages (from huggingface-hub->accelerate) (2.31.0)\n",
            "Requirement already satisfied: tqdm>=4.42.1 in /usr/local/lib/python3.10/dist-packages (from huggingface-hub->accelerate) (4.66.1)\n",
            "Requirement already satisfied: MarkupSafe>=2.0 in /usr/local/lib/python3.10/dist-packages (from jinja2->torch>=1.10.0->accelerate) (2.1.3)\n",
            "Requirement already satisfied: charset-normalizer<4,>=2 in /usr/local/lib/python3.10/dist-packages (from requests->huggingface-hub->accelerate) (3.3.2)\n",
            "Requirement already satisfied: idna<4,>=2.5 in /usr/local/lib/python3.10/dist-packages (from requests->huggingface-hub->accelerate) (3.6)\n",
            "Requirement already satisfied: urllib3<3,>=1.21.1 in /usr/local/lib/python3.10/dist-packages (from requests->huggingface-hub->accelerate) (2.0.7)\n",
            "Requirement already satisfied: certifi>=2017.4.17 in /usr/local/lib/python3.10/dist-packages (from requests->huggingface-hub->accelerate) (2023.11.17)\n",
            "Requirement already satisfied: mpmath>=0.19 in /usr/local/lib/python3.10/dist-packages (from sympy->torch>=1.10.0->accelerate) (1.3.0)\n",
            "Installing collected packages: accelerate\n",
            "Successfully installed accelerate-0.26.1\n",
            "Requirement already satisfied: transformers in /usr/local/lib/python3.10/dist-packages (4.35.2)\n",
            "Collecting transformers\n",
            "  Downloading transformers-4.36.2-py3-none-any.whl (8.2 MB)\n",
            "\u001b[2K     \u001b[90m━━━━━━━━━━━━━━━━━━━━━━━━━━━━━━━━━━━━━━━━\u001b[0m \u001b[32m8.2/8.2 MB\u001b[0m \u001b[31m22.1 MB/s\u001b[0m eta \u001b[36m0:00:00\u001b[0m\n",
            "\u001b[?25hRequirement already satisfied: filelock in /usr/local/lib/python3.10/dist-packages (from transformers) (3.13.1)\n",
            "Requirement already satisfied: huggingface-hub<1.0,>=0.19.3 in /usr/local/lib/python3.10/dist-packages (from transformers) (0.20.2)\n",
            "Requirement already satisfied: numpy>=1.17 in /usr/local/lib/python3.10/dist-packages (from transformers) (1.23.5)\n",
            "Requirement already satisfied: packaging>=20.0 in /usr/local/lib/python3.10/dist-packages (from transformers) (23.2)\n",
            "Requirement already satisfied: pyyaml>=5.1 in /usr/local/lib/python3.10/dist-packages (from transformers) (6.0.1)\n",
            "Requirement already satisfied: regex!=2019.12.17 in /usr/local/lib/python3.10/dist-packages (from transformers) (2023.6.3)\n",
            "Requirement already satisfied: requests in /usr/local/lib/python3.10/dist-packages (from transformers) (2.31.0)\n",
            "Requirement already satisfied: tokenizers<0.19,>=0.14 in /usr/local/lib/python3.10/dist-packages (from transformers) (0.15.0)\n",
            "Requirement already satisfied: safetensors>=0.3.1 in /usr/local/lib/python3.10/dist-packages (from transformers) (0.4.1)\n",
            "Requirement already satisfied: tqdm>=4.27 in /usr/local/lib/python3.10/dist-packages (from transformers) (4.66.1)\n",
            "Requirement already satisfied: fsspec>=2023.5.0 in /usr/local/lib/python3.10/dist-packages (from huggingface-hub<1.0,>=0.19.3->transformers) (2023.6.0)\n",
            "Requirement already satisfied: typing-extensions>=3.7.4.3 in /usr/local/lib/python3.10/dist-packages (from huggingface-hub<1.0,>=0.19.3->transformers) (4.5.0)\n",
            "Requirement already satisfied: charset-normalizer<4,>=2 in /usr/local/lib/python3.10/dist-packages (from requests->transformers) (3.3.2)\n",
            "Requirement already satisfied: idna<4,>=2.5 in /usr/local/lib/python3.10/dist-packages (from requests->transformers) (3.6)\n",
            "Requirement already satisfied: urllib3<3,>=1.21.1 in /usr/local/lib/python3.10/dist-packages (from requests->transformers) (2.0.7)\n",
            "Requirement already satisfied: certifi>=2017.4.17 in /usr/local/lib/python3.10/dist-packages (from requests->transformers) (2023.11.17)\n",
            "Installing collected packages: transformers\n",
            "  Attempting uninstall: transformers\n",
            "    Found existing installation: transformers 4.35.2\n",
            "    Uninstalling transformers-4.35.2:\n",
            "      Successfully uninstalled transformers-4.35.2\n",
            "Successfully installed transformers-4.36.2\n"
          ]
        }
      ],
      "source": [
        "! pip install datasets\n",
        "! pip install -U accelerate\n",
        "! pip install -U transformers"
      ]
    },
    {
      "cell_type": "code",
      "source": [
        "import torch\n",
        "import numpy as np\n",
        "import os\n",
        "import datetime\n",
        "from copy import deepcopy\n",
        "\n",
        "from transformers import (RobertaTokenizer,\n",
        "                          RobertaForSequenceClassification,\n",
        "                          Trainer,\n",
        "                          TrainingArguments,\n",
        "                          TrainerCallback)\n",
        "from datasets import (load_dataset,\n",
        "                      load_metric,\n",
        "                      load_dataset_builder,\n",
        "                      ClassLabel,\n",
        "                      Value,\n",
        "                      Features)\n",
        "\n",
        "import argparse\n",
        "import os\n",
        "\n",
        "import torch\n",
        "from torch.optim import AdamW\n",
        "from torch.utils.data import DataLoader\n",
        "from peft import (\n",
        "    get_peft_config,\n",
        "    get_peft_model,\n",
        "    get_peft_model_state_dict,\n",
        "    set_peft_model_state_dict,\n",
        "    LoraConfig,\n",
        "    PeftType,\n",
        "    PrefixTuningConfig,\n",
        "    PromptEncoderConfig,\n",
        ")\n",
        "\n",
        "from datasets import load_dataset\n",
        "from transformers import AutoModelForSequenceClassification, AutoTokenizer, get_linear_schedule_with_warmup, set_seed\n",
        "from tqdm import tqdm\n",
        "\n",
        "BATCH_SIZE = 32\n",
        "\n",
        "\n",
        "DEVICE = torch.device(\"cuda:0\" if torch.cuda.is_available() else \"cpu\")\n",
        "print(DEVICE)"
      ],
      "metadata": {
        "colab": {
          "base_uri": "https://localhost:8080/"
        },
        "id": "6Zi8r5KgGCEY",
        "outputId": "1c5f541e-a1e4-405a-987e-f02f8093cd94"
      },
      "execution_count": null,
      "outputs": [
        {
          "output_type": "stream",
          "name": "stdout",
          "text": [
            "cuda:0\n"
          ]
        },
        {
          "output_type": "stream",
          "name": "stderr",
          "text": [
            "/usr/local/lib/python3.10/dist-packages/huggingface_hub/utils/_token.py:88: UserWarning: \n",
            "The secret `HF_TOKEN` does not exist in your Colab secrets.\n",
            "To authenticate with the Hugging Face Hub, create a token in your settings tab (https://huggingface.co/settings/tokens), set it as secret in your Google Colab and restart your session.\n",
            "You will be able to reuse this secret in all of your notebooks.\n",
            "Please note that authentication is recommended but still optional to access public models or datasets.\n",
            "  warnings.warn(\n"
          ]
        },
        {
          "output_type": "execute_result",
          "data": {
            "text/plain": [
              "{'premise': Value(dtype='string', id=None),\n",
              " 'hypothesis': Value(dtype='string', id=None),\n",
              " 'label': ClassLabel(names=['entailment', 'neutral', 'contradiction'], id=None),\n",
              " 'idx': Value(dtype='int32', id=None)}"
            ]
          },
          "metadata": {},
          "execution_count": 1
        }
      ]
    },
    {
      "cell_type": "code",
      "source": [
        "train_data, val_m_data, val_mm_data = load_dataset(\"glue\", \"mnli\", split=['train', 'validation_matched', 'validation_mismatched'])\n",
        "\n",
        "print(\"Train dataset:\\n\", train_data)\n",
        "print(\"Validation matched dataset:\\n\", val_m_data)\n",
        "print(\"Validation mismatched dataset:\\n\", val_mm_data)\n",
        "metric = load_metric('glue', \"mnli\")\n"
      ],
      "metadata": {
        "colab": {
          "base_uri": "https://localhost:8080/"
        },
        "id": "NrfMYerzGQnB",
        "outputId": "8d014d46-499a-48f1-b868-b54c3065cfbd"
      },
      "execution_count": null,
      "outputs": [
        {
          "output_type": "stream",
          "name": "stdout",
          "text": [
            "Train dataset:\n",
            " Dataset({\n",
            "    features: ['premise', 'hypothesis', 'label', 'idx'],\n",
            "    num_rows: 392702\n",
            "})\n",
            "Validation matched dataset:\n",
            " Dataset({\n",
            "    features: ['premise', 'hypothesis', 'label', 'idx'],\n",
            "    num_rows: 9815\n",
            "})\n",
            "Validation mismatched dataset:\n",
            " Dataset({\n",
            "    features: ['premise', 'hypothesis', 'label', 'idx'],\n",
            "    num_rows: 9832\n",
            "})\n"
          ]
        },
        {
          "output_type": "stream",
          "name": "stderr",
          "text": [
            "/usr/local/lib/python3.10/dist-packages/datasets/load.py:752: FutureWarning: The repository for glue contains custom code which must be executed to correctly load the metric. You can inspect the repository content at https://raw.githubusercontent.com/huggingface/datasets/2.16.1/metrics/glue/glue.py\n",
            "You can avoid this message in future by passing the argument `trust_remote_code=True`.\n",
            "Passing `trust_remote_code=True` will be mandatory to load this metric from the next major release of `datasets`.\n",
            "  warnings.warn(\n"
          ]
        }
      ]
    },
    {
      "cell_type": "code",
      "source": [
        "tokenizer = RobertaTokenizer.from_pretrained('roberta-base', do_lower_case=True)\n",
        "def tokenize_function(examples):\n",
        "    return tokenizer(examples[\"premise\"], examples[\"hypothesis\"], padding=\"max_length\",max_length=128, truncation=True)\n",
        "\n",
        "train_data = train_data.shuffle(seed=42).select(range(1000))\n",
        "val_m_data = val_m_data.shuffle(seed=42).select(range(1000))\n",
        "\n",
        "train_data = train_data.map(tokenize_function, batched=True)\n",
        "val_m_data = val_m_data.map(tokenize_function, batched=True)\n",
        "val_mm_data = val_mm_data.map(tokenize_function, batched=True)\n",
        "train_data.set_format('torch', columns=[\"input_ids\", \"attention_mask\", \"label\"])\n",
        "val_m_data.set_format('torch', columns=[\"input_ids\", \"attention_mask\", \"label\"])\n",
        "val_mm_data.set_format('torch', columns=[\"input_ids\", \"attention_mask\", \"label\"])"
      ],
      "metadata": {
        "colab": {
          "base_uri": "https://localhost:8080/",
          "height": 205,
          "referenced_widgets": [
            "e90bc2b3da244a63afaabd349c58c4fa",
            "0901ce46fd994c48946e21bcf2319449",
            "7180f2d93abf4481ac025988b4a6b98a",
            "49bbaf4f3af64392908cafca4040762f",
            "6bfeea3a755648a08890b04c87c6d095",
            "fdaca3aea0b84c089969ce22a0d9a159",
            "c4c28d71a852487098e2352e34114264",
            "cbb1757de0e1404c800d374b220be8f9",
            "1fc3734ddade47688cb2ced9dd2d2753",
            "f2339e0668c54361be26b998c5e7e636",
            "94f96d3e02214f42accaa81e170d0332",
            "7701c4aed1c14ef1b489c17e81e28b36",
            "787dbb78cb944b3e84645a253c2ef106",
            "ee40c24d7fad4f1ebf2f871cba3ab304",
            "897b2c589ff74c6eb0361befe2f5c3b3",
            "fe6c4e0c65cd41a2ae0e1c066b12f05e",
            "77bb2499c3984912b3a917d2f3c4e2ef",
            "ab0dd79a85874db8ad73a2999a5fd02b",
            "d3e54dec29b548168869b60a10a0530e",
            "54e47266683c474bb4d61ef907c8e334",
            "beb4624695d044138b55eeaed50d8f4c",
            "85fdbc8ec56c485a915cf41db5c1662b"
          ]
        },
        "id": "ygTULk5kGogo",
        "outputId": "2f3a545c-1954-4b4e-84f6-795266c585ef"
      },
      "execution_count": null,
      "outputs": [
        {
          "output_type": "display_data",
          "data": {
            "text/plain": [
              "Map:   0%|          | 0/1000 [00:00<?, ? examples/s]"
            ],
            "application/vnd.jupyter.widget-view+json": {
              "version_major": 2,
              "version_minor": 0,
              "model_id": "e90bc2b3da244a63afaabd349c58c4fa"
            }
          },
          "metadata": {}
        },
        {
          "output_type": "stream",
          "name": "stderr",
          "text": [
            "Be aware, overflowing tokens are not returned for the setting you have chosen, i.e. sequence pairs with the 'longest_first' truncation strategy. So the returned list will always be empty even if some tokens have been removed.\n",
            "Be aware, overflowing tokens are not returned for the setting you have chosen, i.e. sequence pairs with the 'longest_first' truncation strategy. So the returned list will always be empty even if some tokens have been removed.\n",
            "Be aware, overflowing tokens are not returned for the setting you have chosen, i.e. sequence pairs with the 'longest_first' truncation strategy. So the returned list will always be empty even if some tokens have been removed.\n"
          ]
        },
        {
          "output_type": "display_data",
          "data": {
            "text/plain": [
              "Map:   0%|          | 0/1000 [00:00<?, ? examples/s]"
            ],
            "application/vnd.jupyter.widget-view+json": {
              "version_major": 2,
              "version_minor": 0,
              "model_id": "7701c4aed1c14ef1b489c17e81e28b36"
            }
          },
          "metadata": {}
        },
        {
          "output_type": "stream",
          "name": "stderr",
          "text": [
            "Be aware, overflowing tokens are not returned for the setting you have chosen, i.e. sequence pairs with the 'longest_first' truncation strategy. So the returned list will always be empty even if some tokens have been removed.\n",
            "Be aware, overflowing tokens are not returned for the setting you have chosen, i.e. sequence pairs with the 'longest_first' truncation strategy. So the returned list will always be empty even if some tokens have been removed.\n",
            "Be aware, overflowing tokens are not returned for the setting you have chosen, i.e. sequence pairs with the 'longest_first' truncation strategy. So the returned list will always be empty even if some tokens have been removed.\n"
          ]
        }
      ]
    },
    {
      "cell_type": "code",
      "source": [
        "model = RobertaForSequenceClassification.from_pretrained(\"roberta-base\", num_labels=3)\n",
        "model.to(DEVICE)"
      ],
      "metadata": {
        "colab": {
          "base_uri": "https://localhost:8080/"
        },
        "id": "VZyjwliVGyI3",
        "outputId": "b350455c-f850-4b1a-d22e-f4d112a72feb"
      },
      "execution_count": null,
      "outputs": [
        {
          "output_type": "stream",
          "name": "stderr",
          "text": [
            "Some weights of RobertaForSequenceClassification were not initialized from the model checkpoint at roberta-base and are newly initialized: ['classifier.dense.bias', 'classifier.out_proj.bias', 'classifier.out_proj.weight', 'classifier.dense.weight']\n",
            "You should probably TRAIN this model on a down-stream task to be able to use it for predictions and inference.\n"
          ]
        },
        {
          "output_type": "execute_result",
          "data": {
            "text/plain": [
              "RobertaForSequenceClassification(\n",
              "  (roberta): RobertaModel(\n",
              "    (embeddings): RobertaEmbeddings(\n",
              "      (word_embeddings): Embedding(50265, 768, padding_idx=1)\n",
              "      (position_embeddings): Embedding(514, 768, padding_idx=1)\n",
              "      (token_type_embeddings): Embedding(1, 768)\n",
              "      (LayerNorm): LayerNorm((768,), eps=1e-05, elementwise_affine=True)\n",
              "      (dropout): Dropout(p=0.1, inplace=False)\n",
              "    )\n",
              "    (encoder): RobertaEncoder(\n",
              "      (layer): ModuleList(\n",
              "        (0-11): 12 x RobertaLayer(\n",
              "          (attention): RobertaAttention(\n",
              "            (self): RobertaSelfAttention(\n",
              "              (query): Linear(in_features=768, out_features=768, bias=True)\n",
              "              (key): Linear(in_features=768, out_features=768, bias=True)\n",
              "              (value): Linear(in_features=768, out_features=768, bias=True)\n",
              "              (dropout): Dropout(p=0.1, inplace=False)\n",
              "            )\n",
              "            (output): RobertaSelfOutput(\n",
              "              (dense): Linear(in_features=768, out_features=768, bias=True)\n",
              "              (LayerNorm): LayerNorm((768,), eps=1e-05, elementwise_affine=True)\n",
              "              (dropout): Dropout(p=0.1, inplace=False)\n",
              "            )\n",
              "          )\n",
              "          (intermediate): RobertaIntermediate(\n",
              "            (dense): Linear(in_features=768, out_features=3072, bias=True)\n",
              "            (intermediate_act_fn): GELUActivation()\n",
              "          )\n",
              "          (output): RobertaOutput(\n",
              "            (dense): Linear(in_features=3072, out_features=768, bias=True)\n",
              "            (LayerNorm): LayerNorm((768,), eps=1e-05, elementwise_affine=True)\n",
              "            (dropout): Dropout(p=0.1, inplace=False)\n",
              "          )\n",
              "        )\n",
              "      )\n",
              "    )\n",
              "  )\n",
              "  (classifier): RobertaClassificationHead(\n",
              "    (dense): Linear(in_features=768, out_features=768, bias=True)\n",
              "    (dropout): Dropout(p=0.1, inplace=False)\n",
              "    (out_proj): Linear(in_features=768, out_features=3, bias=True)\n",
              "  )\n",
              ")"
            ]
          },
          "metadata": {},
          "execution_count": 52
        }
      ]
    },
    {
      "cell_type": "code",
      "source": [
        "metric_name = \"accuracy\"\n",
        "\n",
        "args = TrainingArguments(\n",
        "    output_dir = \"Fine_tuned_Roberta\",\n",
        "    evaluation_strategy = \"epoch\",\n",
        "    save_strategy = \"epoch\",\n",
        "    learning_rate=2e-5,\n",
        "    per_device_train_batch_size=BATCH_SIZE,\n",
        "    per_device_eval_batch_size=BATCH_SIZE,\n",
        "    num_train_epochs=5,\n",
        "    weight_decay=0.01,\n",
        "    load_best_model_at_end=True,\n",
        "    metric_for_best_model=metric_name,\n",
        "    resume_from_checkpoint=True,\n",
        ")\n",
        "\n",
        "\n",
        "def compute_metrics(eval_pred):\n",
        "    predictions, labels = eval_pred\n",
        "    predictions = np.argmax(predictions, axis=1)\n",
        "    return metric.compute(predictions=predictions, references=labels)"
      ],
      "metadata": {
        "id": "ctkbk8yUIKNP"
      },
      "execution_count": null,
      "outputs": []
    },
    {
      "cell_type": "code",
      "source": [
        "class CustomCallback(TrainerCallback):\n",
        "\n",
        "    def __init__(self, trainer) -> None:\n",
        "        super().__init__()\n",
        "        self._trainer = trainer\n",
        "\n",
        "    def on_epoch_end(self, args, state, control, **kwargs):\n",
        "        if control.should_evaluate:\n",
        "            control_copy = deepcopy(control)\n",
        "            self._trainer.evaluate(eval_dataset=self._trainer.train_dataset, metric_key_prefix=\"train\")\n",
        "            return control_copy\n",
        "\n",
        "\n",
        "trainer = Trainer(\n",
        "    model,\n",
        "    args,\n",
        "    train_dataset=train_data, #tokenized_train_data,\n",
        "    eval_dataset=val_m_data,\n",
        "    tokenizer=tokenizer,\n",
        "    compute_metrics=compute_metrics\n",
        ")\n",
        "\n",
        "#trainer.add_callback(CustomCallback(trainer))\n",
        "\n",
        "\n",
        "trainer.train()\n"
      ],
      "metadata": {
        "colab": {
          "base_uri": "https://localhost:8080/",
          "height": 354
        },
        "id": "smE9YkH2IQc5",
        "outputId": "ee08e70a-441a-4227-fc03-05a04acf69fb"
      },
      "execution_count": null,
      "outputs": [
        {
          "output_type": "display_data",
          "data": {
            "text/plain": [
              "<IPython.core.display.HTML object>"
            ],
            "text/html": [
              "\n",
              "    <div>\n",
              "      \n",
              "      <progress value='160' max='160' style='width:300px; height:20px; vertical-align: middle;'></progress>\n",
              "      [160/160 02:43, Epoch 5/5]\n",
              "    </div>\n",
              "    <table border=\"1\" class=\"dataframe\">\n",
              "  <thead>\n",
              " <tr style=\"text-align: left;\">\n",
              "      <th>Epoch</th>\n",
              "      <th>Training Loss</th>\n",
              "      <th>Validation Loss</th>\n",
              "      <th>Accuracy</th>\n",
              "    </tr>\n",
              "  </thead>\n",
              "  <tbody>\n",
              "    <tr>\n",
              "      <td>1</td>\n",
              "      <td>No log</td>\n",
              "      <td>1.106683</td>\n",
              "      <td>0.328000</td>\n",
              "    </tr>\n",
              "    <tr>\n",
              "      <td>2</td>\n",
              "      <td>No log</td>\n",
              "      <td>1.090447</td>\n",
              "      <td>0.446000</td>\n",
              "    </tr>\n",
              "    <tr>\n",
              "      <td>3</td>\n",
              "      <td>No log</td>\n",
              "      <td>1.015701</td>\n",
              "      <td>0.488000</td>\n",
              "    </tr>\n",
              "    <tr>\n",
              "      <td>4</td>\n",
              "      <td>No log</td>\n",
              "      <td>1.002251</td>\n",
              "      <td>0.531000</td>\n",
              "    </tr>\n",
              "    <tr>\n",
              "      <td>5</td>\n",
              "      <td>No log</td>\n",
              "      <td>0.955415</td>\n",
              "      <td>0.557000</td>\n",
              "    </tr>\n",
              "  </tbody>\n",
              "</table><p>"
            ]
          },
          "metadata": {}
        },
        {
          "output_type": "stream",
          "name": "stderr",
          "text": [
            "Checkpoint destination directory Fine_tuned_Roberta/checkpoint-32 already exists and is non-empty.Saving will proceed but saved results may be invalid.\n",
            "Checkpoint destination directory Fine_tuned_Roberta/checkpoint-64 already exists and is non-empty.Saving will proceed but saved results may be invalid.\n",
            "Checkpoint destination directory Fine_tuned_Roberta/checkpoint-96 already exists and is non-empty.Saving will proceed but saved results may be invalid.\n",
            "Checkpoint destination directory Fine_tuned_Roberta/checkpoint-128 already exists and is non-empty.Saving will proceed but saved results may be invalid.\n",
            "Checkpoint destination directory Fine_tuned_Roberta/checkpoint-160 already exists and is non-empty.Saving will proceed but saved results may be invalid.\n"
          ]
        },
        {
          "output_type": "execute_result",
          "data": {
            "text/plain": [
              "TrainOutput(global_step=160, training_loss=0.9854669570922852, metrics={'train_runtime': 164.0284, 'train_samples_per_second': 30.483, 'train_steps_per_second': 0.975, 'total_flos': 328891772160000.0, 'train_loss': 0.9854669570922852, 'epoch': 5.0})"
            ]
          },
          "metadata": {},
          "execution_count": 54
        }
      ]
    },
    {
      "cell_type": "code",
      "source": [
        "# Assuming you have a test dataset named test_data\n",
        "test_results = trainer.evaluate(val_mm_data)\n",
        "\n",
        "# Print or use the evaluation results as needed\n",
        "print(\"Evaluation Results:\", test_results)"
      ],
      "metadata": {
        "colab": {
          "base_uri": "https://localhost:8080/",
          "height": 74
        },
        "id": "o2CXaSKPLh3O",
        "outputId": "e054ccdc-05d9-4b8b-b2bf-c7d3959e787f"
      },
      "execution_count": null,
      "outputs": [
        {
          "output_type": "display_data",
          "data": {
            "text/plain": [
              "<IPython.core.display.HTML object>"
            ],
            "text/html": [
              "\n",
              "    <div>\n",
              "      \n",
              "      <progress value='624' max='32' style='width:300px; height:20px; vertical-align: middle;'></progress>\n",
              "      [32/32 29:26]\n",
              "    </div>\n",
              "    "
            ]
          },
          "metadata": {}
        },
        {
          "output_type": "stream",
          "name": "stdout",
          "text": [
            "Evaluation Results: {'eval_loss': 0.9747503399848938, 'eval_accuracy': 0.5093572009764036, 'eval_runtime': 63.516, 'eval_samples_per_second': 154.796, 'eval_steps_per_second': 4.849, 'epoch': 5.0}\n"
          ]
        }
      ]
    },
    {
      "cell_type": "code",
      "source": [
        "from sklearn.metrics import confusion_matrix, classification_report\n",
        "import numpy as np\n",
        "\n",
        "# Assuming you have already initialized the model, tokenizer, and defined the training arguments\n",
        "# model = ...\n",
        "# tokenizer = ...\n",
        "# args = ...\n",
        "\n",
        "# Assuming you have a test dataset named test_data\n",
        "test_results = trainer.predict(val_mm_data)\n",
        "\n",
        "# Get predicted labels and true labels\n",
        "predicted_labels = np.argmax(test_results.predictions, axis=1)\n",
        "true_labels = val_mm_data[\"label\"]  # Replace \"label\" with the actual label column name in your test dataset\n",
        "\n",
        "# Calculate the confusion matrix\n",
        "conf_matrix = confusion_matrix(true_labels, predicted_labels)\n",
        "\n",
        "# Print or display the confusion matrix\n",
        "print(\"Confusion Matrix:\")\n",
        "print(conf_matrix)\n",
        "\n",
        "# You can also print a classification report for additional metrics\n",
        "print(\"\\nClassification Report:\")\n",
        "print(classification_report(true_labels, predicted_labels))\n"
      ],
      "metadata": {
        "colab": {
          "base_uri": "https://localhost:8080/",
          "height": 295
        },
        "id": "OAoOWsmIMB1w",
        "outputId": "4b76be76-0b40-4c33-9ada-236f21b768cf"
      },
      "execution_count": null,
      "outputs": [
        {
          "output_type": "display_data",
          "data": {
            "text/plain": [
              "<IPython.core.display.HTML object>"
            ],
            "text/html": []
          },
          "metadata": {}
        },
        {
          "output_type": "stream",
          "name": "stdout",
          "text": [
            "Confusion Matrix:\n",
            "[[2486  728  249]\n",
            " [ 594 2102  433]\n",
            " [ 700 1142 1398]]\n",
            "\n",
            "Classification Report:\n",
            "              precision    recall  f1-score   support\n",
            "\n",
            "           0       0.66      0.72      0.69      3463\n",
            "           1       0.53      0.67      0.59      3129\n",
            "           2       0.67      0.43      0.53      3240\n",
            "\n",
            "    accuracy                           0.61      9832\n",
            "   macro avg       0.62      0.61      0.60      9832\n",
            "weighted avg       0.62      0.61      0.60      9832\n",
            "\n"
          ]
        }
      ]
    },
    {
      "cell_type": "code",
      "source": [
        "import matplotlib.pyplot as plt\n",
        "import seaborn as sns\n",
        "from sklearn.metrics import confusion_matrix, classification_report\n",
        "import numpy as np\n",
        "plt.figure(figsize=(8, 6))\n",
        "sns.heatmap(conf_matrix, annot=True, fmt=\"d\", cmap=\"Blues\")\n",
        "plt.title(\"Confusion Matrix\")\n",
        "plt.xlabel(\"Predicted Labels\")\n",
        "plt.ylabel(\"True Labels\")\n",
        "plt.show()"
      ],
      "metadata": {
        "colab": {
          "base_uri": "https://localhost:8080/",
          "height": 564
        },
        "id": "qcFqA_AcMzhR",
        "outputId": "888ac911-8feb-49ed-bc7d-22bda2021288"
      },
      "execution_count": null,
      "outputs": [
        {
          "output_type": "display_data",
          "data": {
            "text/plain": [
              "<Figure size 800x600 with 2 Axes>"
            ],
            "image/png": "[encoded data removed]"
          },
          "metadata": {}
        }
      ]
    },
    {
      "cell_type": "markdown",
      "source": [
        "# Freeze Roberta"
      ],
      "metadata": {
        "id": "pIMXt4zmsZfI"
      }
    },
    {
      "cell_type": "code",
      "source": [
        "model = RobertaForSequenceClassification.from_pretrained(\"roberta-base\", num_labels=3)\n",
        "# Freeze the pre-trained weights\n",
        "# Freeze all layers except the classifier\n",
        "num_layers_to_freeze = 6\n",
        "\n",
        "# Freeze the layers\n",
        "for param in model.roberta.embeddings.parameters():\n",
        "    param.requires_grad = False\n",
        "\n",
        "for i in range(num_layers_to_freeze):\n",
        "    for param in model.roberta.encoder.layer[i].parameters():\n",
        "        param.requires_grad = False\n",
        "model.to(DEVICE)"
      ],
      "metadata": {
        "colab": {
          "base_uri": "https://localhost:8080/"
        },
        "outputId": "299b3af3-ada8-4927-dd50-c7639676473c",
        "id": "mOlIm_5Osh3E"
      },
      "execution_count": null,
      "outputs": [
        {
          "output_type": "stream",
          "name": "stderr",
          "text": [
            "Some weights of RobertaForSequenceClassification were not initialized from the model checkpoint at roberta-base and are newly initialized: ['classifier.dense.bias', 'classifier.out_proj.bias', 'classifier.out_proj.weight', 'classifier.dense.weight']\n",
            "You should probably TRAIN this model on a down-stream task to be able to use it for predictions and inference.\n"
          ]
        },
        {
          "output_type": "execute_result",
          "data": {
            "text/plain": [
              "RobertaForSequenceClassification(\n",
              "  (roberta): RobertaModel(\n",
              "    (embeddings): RobertaEmbeddings(\n",
              "      (word_embeddings): Embedding(50265, 768, padding_idx=1)\n",
              "      (position_embeddings): Embedding(514, 768, padding_idx=1)\n",
              "      (token_type_embeddings): Embedding(1, 768)\n",
              "      (LayerNorm): LayerNorm((768,), eps=1e-05, elementwise_affine=True)\n",
              "      (dropout): Dropout(p=0.1, inplace=False)\n",
              "    )\n",
              "    (encoder): RobertaEncoder(\n",
              "      (layer): ModuleList(\n",
              "        (0-11): 12 x RobertaLayer(\n",
              "          (attention): RobertaAttention(\n",
              "            (self): RobertaSelfAttention(\n",
              "              (query): Linear(in_features=768, out_features=768, bias=True)\n",
              "              (key): Linear(in_features=768, out_features=768, bias=True)\n",
              "              (value): Linear(in_features=768, out_features=768, bias=True)\n",
              "              (dropout): Dropout(p=0.1, inplace=False)\n",
              "            )\n",
              "            (output): RobertaSelfOutput(\n",
              "              (dense): Linear(in_features=768, out_features=768, bias=True)\n",
              "              (LayerNorm): LayerNorm((768,), eps=1e-05, elementwise_affine=True)\n",
              "              (dropout): Dropout(p=0.1, inplace=False)\n",
              "            )\n",
              "          )\n",
              "          (intermediate): RobertaIntermediate(\n",
              "            (dense): Linear(in_features=768, out_features=3072, bias=True)\n",
              "            (intermediate_act_fn): GELUActivation()\n",
              "          )\n",
              "          (output): RobertaOutput(\n",
              "            (dense): Linear(in_features=3072, out_features=768, bias=True)\n",
              "            (LayerNorm): LayerNorm((768,), eps=1e-05, elementwise_affine=True)\n",
              "            (dropout): Dropout(p=0.1, inplace=False)\n",
              "          )\n",
              "        )\n",
              "      )\n",
              "    )\n",
              "  )\n",
              "  (classifier): RobertaClassificationHead(\n",
              "    (dense): Linear(in_features=768, out_features=768, bias=True)\n",
              "    (dropout): Dropout(p=0.1, inplace=False)\n",
              "    (out_proj): Linear(in_features=768, out_features=3, bias=True)\n",
              "  )\n",
              ")"
            ]
          },
          "metadata": {},
          "execution_count": 118
        }
      ]
    },
    {
      "cell_type": "code",
      "source": [
        "# Assuming 'model' is your RoBERTa model\n",
        "for name, param in model.named_parameters():\n",
        "    print(f'{name}: requires_grad={param.requires_grad}')\n"
      ],
      "metadata": {
        "colab": {
          "base_uri": "https://localhost:8080/"
        },
        "id": "EW8Hl1e6tPJ3",
        "outputId": "891d631e-ef78-44b3-8f71-2175d41faf6e"
      },
      "execution_count": null,
      "outputs": [
        {
          "output_type": "stream",
          "name": "stdout",
          "text": [
            "roberta.embeddings.word_embeddings.weight: requires_grad=False\n",
            "roberta.embeddings.position_embeddings.weight: requires_grad=False\n",
            "roberta.embeddings.token_type_embeddings.weight: requires_grad=False\n",
            "roberta.embeddings.LayerNorm.weight: requires_grad=False\n",
            "roberta.embeddings.LayerNorm.bias: requires_grad=False\n",
            "roberta.encoder.layer.0.attention.self.query.weight: requires_grad=False\n",
            "roberta.encoder.layer.0.attention.self.query.bias: requires_grad=False\n",
            "roberta.encoder.layer.0.attention.self.key.weight: requires_grad=False\n",
            "roberta.encoder.layer.0.attention.self.key.bias: requires_grad=False\n",
            "roberta.encoder.layer.0.attention.self.value.weight: requires_grad=False\n",
            "roberta.encoder.layer.0.attention.self.value.bias: requires_grad=False\n",
            "roberta.encoder.layer.0.attention.output.dense.weight: requires_grad=False\n",
            "roberta.encoder.layer.0.attention.output.dense.bias: requires_grad=False\n",
            "roberta.encoder.layer.0.attention.output.LayerNorm.weight: requires_grad=False\n",
            "roberta.encoder.layer.0.attention.output.LayerNorm.bias: requires_grad=False\n",
            "roberta.encoder.layer.0.intermediate.dense.weight: requires_grad=False\n",
            "roberta.encoder.layer.0.intermediate.dense.bias: requires_grad=False\n",
            "roberta.encoder.layer.0.output.dense.weight: requires_grad=False\n",
            "roberta.encoder.layer.0.output.dense.bias: requires_grad=False\n",
            "roberta.encoder.layer.0.output.LayerNorm.weight: requires_grad=False\n",
            "roberta.encoder.layer.0.output.LayerNorm.bias: requires_grad=False\n",
            "roberta.encoder.layer.1.attention.self.query.weight: requires_grad=False\n",
            "roberta.encoder.layer.1.attention.self.query.bias: requires_grad=False\n",
            "roberta.encoder.layer.1.attention.self.key.weight: requires_grad=False\n",
            "roberta.encoder.layer.1.attention.self.key.bias: requires_grad=False\n",
            "roberta.encoder.layer.1.attention.self.value.weight: requires_grad=False\n",
            "roberta.encoder.layer.1.attention.self.value.bias: requires_grad=False\n",
            "roberta.encoder.layer.1.attention.output.dense.weight: requires_grad=False\n",
            "roberta.encoder.layer.1.attention.output.dense.bias: requires_grad=False\n",
            "roberta.encoder.layer.1.attention.output.LayerNorm.weight: requires_grad=False\n",
            "roberta.encoder.layer.1.attention.output.LayerNorm.bias: requires_grad=False\n",
            "roberta.encoder.layer.1.intermediate.dense.weight: requires_grad=False\n",
            "roberta.encoder.layer.1.intermediate.dense.bias: requires_grad=False\n",
            "roberta.encoder.layer.1.output.dense.weight: requires_grad=False\n",
            "roberta.encoder.layer.1.output.dense.bias: requires_grad=False\n",
            "roberta.encoder.layer.1.output.LayerNorm.weight: requires_grad=False\n",
            "roberta.encoder.layer.1.output.LayerNorm.bias: requires_grad=False\n",
            "roberta.encoder.layer.2.attention.self.query.weight: requires_grad=False\n",
            "roberta.encoder.layer.2.attention.self.query.bias: requires_grad=False\n",
            "roberta.encoder.layer.2.attention.self.key.weight: requires_grad=False\n",
            "roberta.encoder.layer.2.attention.self.key.bias: requires_grad=False\n",
            "roberta.encoder.layer.2.attention.self.value.weight: requires_grad=False\n",
            "roberta.encoder.layer.2.attention.self.value.bias: requires_grad=False\n",
            "roberta.encoder.layer.2.attention.output.dense.weight: requires_grad=False\n",
            "roberta.encoder.layer.2.attention.output.dense.bias: requires_grad=False\n",
            "roberta.encoder.layer.2.attention.output.LayerNorm.weight: requires_grad=False\n",
            "roberta.encoder.layer.2.attention.output.LayerNorm.bias: requires_grad=False\n",
            "roberta.encoder.layer.2.intermediate.dense.weight: requires_grad=False\n",
            "roberta.encoder.layer.2.intermediate.dense.bias: requires_grad=False\n",
            "roberta.encoder.layer.2.output.dense.weight: requires_grad=False\n",
            "roberta.encoder.layer.2.output.dense.bias: requires_grad=False\n",
            "roberta.encoder.layer.2.output.LayerNorm.weight: requires_grad=False\n",
            "roberta.encoder.layer.2.output.LayerNorm.bias: requires_grad=False\n",
            "roberta.encoder.layer.3.attention.self.query.weight: requires_grad=False\n",
            "roberta.encoder.layer.3.attention.self.query.bias: requires_grad=False\n",
            "roberta.encoder.layer.3.attention.self.key.weight: requires_grad=False\n",
            "roberta.encoder.layer.3.attention.self.key.bias: requires_grad=False\n",
            "roberta.encoder.layer.3.attention.self.value.weight: requires_grad=False\n",
            "roberta.encoder.layer.3.attention.self.value.bias: requires_grad=False\n",
            "roberta.encoder.layer.3.attention.output.dense.weight: requires_grad=False\n",
            "roberta.encoder.layer.3.attention.output.dense.bias: requires_grad=False\n",
            "roberta.encoder.layer.3.attention.output.LayerNorm.weight: requires_grad=False\n",
            "roberta.encoder.layer.3.attention.output.LayerNorm.bias: requires_grad=False\n",
            "roberta.encoder.layer.3.intermediate.dense.weight: requires_grad=False\n",
            "roberta.encoder.layer.3.intermediate.dense.bias: requires_grad=False\n",
            "roberta.encoder.layer.3.output.dense.weight: requires_grad=False\n",
            "roberta.encoder.layer.3.output.dense.bias: requires_grad=False\n",
            "roberta.encoder.layer.3.output.LayerNorm.weight: requires_grad=False\n",
            "roberta.encoder.layer.3.output.LayerNorm.bias: requires_grad=False\n",
            "roberta.encoder.layer.4.attention.self.query.weight: requires_grad=False\n",
            "roberta.encoder.layer.4.attention.self.query.bias: requires_grad=False\n",
            "roberta.encoder.layer.4.attention.self.key.weight: requires_grad=False\n",
            "roberta.encoder.layer.4.attention.self.key.bias: requires_grad=False\n",
            "roberta.encoder.layer.4.attention.self.value.weight: requires_grad=False\n",
            "roberta.encoder.layer.4.attention.self.value.bias: requires_grad=False\n",
            "roberta.encoder.layer.4.attention.output.dense.weight: requires_grad=False\n",
            "roberta.encoder.layer.4.attention.output.dense.bias: requires_grad=False\n",
            "roberta.encoder.layer.4.attention.output.LayerNorm.weight: requires_grad=False\n",
            "roberta.encoder.layer.4.attention.output.LayerNorm.bias: requires_grad=False\n",
            "roberta.encoder.layer.4.intermediate.dense.weight: requires_grad=False\n",
            "roberta.encoder.layer.4.intermediate.dense.bias: requires_grad=False\n",
            "roberta.encoder.layer.4.output.dense.weight: requires_grad=False\n",
            "roberta.encoder.layer.4.output.dense.bias: requires_grad=False\n",
            "roberta.encoder.layer.4.output.LayerNorm.weight: requires_grad=False\n",
            "roberta.encoder.layer.4.output.LayerNorm.bias: requires_grad=False\n",
            "roberta.encoder.layer.5.attention.self.query.weight: requires_grad=False\n",
            "roberta.encoder.layer.5.attention.self.query.bias: requires_grad=False\n",
            "roberta.encoder.layer.5.attention.self.key.weight: requires_grad=False\n",
            "roberta.encoder.layer.5.attention.self.key.bias: requires_grad=False\n",
            "roberta.encoder.layer.5.attention.self.value.weight: requires_grad=False\n",
            "roberta.encoder.layer.5.attention.self.value.bias: requires_grad=False\n",
            "roberta.encoder.layer.5.attention.output.dense.weight: requires_grad=False\n",
            "roberta.encoder.layer.5.attention.output.dense.bias: requires_grad=False\n",
            "roberta.encoder.layer.5.attention.output.LayerNorm.weight: requires_grad=False\n",
            "roberta.encoder.layer.5.attention.output.LayerNorm.bias: requires_grad=False\n",
            "roberta.encoder.layer.5.intermediate.dense.weight: requires_grad=False\n",
            "roberta.encoder.layer.5.intermediate.dense.bias: requires_grad=False\n",
            "roberta.encoder.layer.5.output.dense.weight: requires_grad=False\n",
            "roberta.encoder.layer.5.output.dense.bias: requires_grad=False\n",
            "roberta.encoder.layer.5.output.LayerNorm.weight: requires_grad=False\n",
            "roberta.encoder.layer.5.output.LayerNorm.bias: requires_grad=False\n",
            "roberta.encoder.layer.6.attention.self.query.weight: requires_grad=True\n",
            "roberta.encoder.layer.6.attention.self.query.bias: requires_grad=True\n",
            "roberta.encoder.layer.6.attention.self.key.weight: requires_grad=True\n",
            "roberta.encoder.layer.6.attention.self.key.bias: requires_grad=True\n",
            "roberta.encoder.layer.6.attention.self.value.weight: requires_grad=True\n",
            "roberta.encoder.layer.6.attention.self.value.bias: requires_grad=True\n",
            "roberta.encoder.layer.6.attention.output.dense.weight: requires_grad=True\n",
            "roberta.encoder.layer.6.attention.output.dense.bias: requires_grad=True\n",
            "roberta.encoder.layer.6.attention.output.LayerNorm.weight: requires_grad=True\n",
            "roberta.encoder.layer.6.attention.output.LayerNorm.bias: requires_grad=True\n",
            "roberta.encoder.layer.6.intermediate.dense.weight: requires_grad=True\n",
            "roberta.encoder.layer.6.intermediate.dense.bias: requires_grad=True\n",
            "roberta.encoder.layer.6.output.dense.weight: requires_grad=True\n",
            "roberta.encoder.layer.6.output.dense.bias: requires_grad=True\n",
            "roberta.encoder.layer.6.output.LayerNorm.weight: requires_grad=True\n",
            "roberta.encoder.layer.6.output.LayerNorm.bias: requires_grad=True\n",
            "roberta.encoder.layer.7.attention.self.query.weight: requires_grad=True\n",
            "roberta.encoder.layer.7.attention.self.query.bias: requires_grad=True\n",
            "roberta.encoder.layer.7.attention.self.key.weight: requires_grad=True\n",
            "roberta.encoder.layer.7.attention.self.key.bias: requires_grad=True\n",
            "roberta.encoder.layer.7.attention.self.value.weight: requires_grad=True\n",
            "roberta.encoder.layer.7.attention.self.value.bias: requires_grad=True\n",
            "roberta.encoder.layer.7.attention.output.dense.weight: requires_grad=True\n",
            "roberta.encoder.layer.7.attention.output.dense.bias: requires_grad=True\n",
            "roberta.encoder.layer.7.attention.output.LayerNorm.weight: requires_grad=True\n",
            "roberta.encoder.layer.7.attention.output.LayerNorm.bias: requires_grad=True\n",
            "roberta.encoder.layer.7.intermediate.dense.weight: requires_grad=True\n",
            "roberta.encoder.layer.7.intermediate.dense.bias: requires_grad=True\n",
            "roberta.encoder.layer.7.output.dense.weight: requires_grad=True\n",
            "roberta.encoder.layer.7.output.dense.bias: requires_grad=True\n",
            "roberta.encoder.layer.7.output.LayerNorm.weight: requires_grad=True\n",
            "roberta.encoder.layer.7.output.LayerNorm.bias: requires_grad=True\n",
            "roberta.encoder.layer.8.attention.self.query.weight: requires_grad=True\n",
            "roberta.encoder.layer.8.attention.self.query.bias: requires_grad=True\n",
            "roberta.encoder.layer.8.attention.self.key.weight: requires_grad=True\n",
            "roberta.encoder.layer.8.attention.self.key.bias: requires_grad=True\n",
            "roberta.encoder.layer.8.attention.self.value.weight: requires_grad=True\n",
            "roberta.encoder.layer.8.attention.self.value.bias: requires_grad=True\n",
            "roberta.encoder.layer.8.attention.output.dense.weight: requires_grad=True\n",
            "roberta.encoder.layer.8.attention.output.dense.bias: requires_grad=True\n",
            "roberta.encoder.layer.8.attention.output.LayerNorm.weight: requires_grad=True\n",
            "roberta.encoder.layer.8.attention.output.LayerNorm.bias: requires_grad=True\n",
            "roberta.encoder.layer.8.intermediate.dense.weight: requires_grad=True\n",
            "roberta.encoder.layer.8.intermediate.dense.bias: requires_grad=True\n",
            "roberta.encoder.layer.8.output.dense.weight: requires_grad=True\n",
            "roberta.encoder.layer.8.output.dense.bias: requires_grad=True\n",
            "roberta.encoder.layer.8.output.LayerNorm.weight: requires_grad=True\n",
            "roberta.encoder.layer.8.output.LayerNorm.bias: requires_grad=True\n",
            "roberta.encoder.layer.9.attention.self.query.weight: requires_grad=True\n",
            "roberta.encoder.layer.9.attention.self.query.bias: requires_grad=True\n",
            "roberta.encoder.layer.9.attention.self.key.weight: requires_grad=True\n",
            "roberta.encoder.layer.9.attention.self.key.bias: requires_grad=True\n",
            "roberta.encoder.layer.9.attention.self.value.weight: requires_grad=True\n",
            "roberta.encoder.layer.9.attention.self.value.bias: requires_grad=True\n",
            "roberta.encoder.layer.9.attention.output.dense.weight: requires_grad=True\n",
            "roberta.encoder.layer.9.attention.output.dense.bias: requires_grad=True\n",
            "roberta.encoder.layer.9.attention.output.LayerNorm.weight: requires_grad=True\n",
            "roberta.encoder.layer.9.attention.output.LayerNorm.bias: requires_grad=True\n",
            "roberta.encoder.layer.9.intermediate.dense.weight: requires_grad=True\n",
            "roberta.encoder.layer.9.intermediate.dense.bias: requires_grad=True\n",
            "roberta.encoder.layer.9.output.dense.weight: requires_grad=True\n",
            "roberta.encoder.layer.9.output.dense.bias: requires_grad=True\n",
            "roberta.encoder.layer.9.output.LayerNorm.weight: requires_grad=True\n",
            "roberta.encoder.layer.9.output.LayerNorm.bias: requires_grad=True\n",
            "roberta.encoder.layer.10.attention.self.query.weight: requires_grad=True\n",
            "roberta.encoder.layer.10.attention.self.query.bias: requires_grad=True\n",
            "roberta.encoder.layer.10.attention.self.key.weight: requires_grad=True\n",
            "roberta.encoder.layer.10.attention.self.key.bias: requires_grad=True\n",
            "roberta.encoder.layer.10.attention.self.value.weight: requires_grad=True\n",
            "roberta.encoder.layer.10.attention.self.value.bias: requires_grad=True\n",
            "roberta.encoder.layer.10.attention.output.dense.weight: requires_grad=True\n",
            "roberta.encoder.layer.10.attention.output.dense.bias: requires_grad=True\n",
            "roberta.encoder.layer.10.attention.output.LayerNorm.weight: requires_grad=True\n",
            "roberta.encoder.layer.10.attention.output.LayerNorm.bias: requires_grad=True\n",
            "roberta.encoder.layer.10.intermediate.dense.weight: requires_grad=True\n",
            "roberta.encoder.layer.10.intermediate.dense.bias: requires_grad=True\n",
            "roberta.encoder.layer.10.output.dense.weight: requires_grad=True\n",
            "roberta.encoder.layer.10.output.dense.bias: requires_grad=True\n",
            "roberta.encoder.layer.10.output.LayerNorm.weight: requires_grad=True\n",
            "roberta.encoder.layer.10.output.LayerNorm.bias: requires_grad=True\n",
            "roberta.encoder.layer.11.attention.self.query.weight: requires_grad=True\n",
            "roberta.encoder.layer.11.attention.self.query.bias: requires_grad=True\n",
            "roberta.encoder.layer.11.attention.self.key.weight: requires_grad=True\n",
            "roberta.encoder.layer.11.attention.self.key.bias: requires_grad=True\n",
            "roberta.encoder.layer.11.attention.self.value.weight: requires_grad=True\n",
            "roberta.encoder.layer.11.attention.self.value.bias: requires_grad=True\n",
            "roberta.encoder.layer.11.attention.output.dense.weight: requires_grad=True\n",
            "roberta.encoder.layer.11.attention.output.dense.bias: requires_grad=True\n",
            "roberta.encoder.layer.11.attention.output.LayerNorm.weight: requires_grad=True\n",
            "roberta.encoder.layer.11.attention.output.LayerNorm.bias: requires_grad=True\n",
            "roberta.encoder.layer.11.intermediate.dense.weight: requires_grad=True\n",
            "roberta.encoder.layer.11.intermediate.dense.bias: requires_grad=True\n",
            "roberta.encoder.layer.11.output.dense.weight: requires_grad=True\n",
            "roberta.encoder.layer.11.output.dense.bias: requires_grad=True\n",
            "roberta.encoder.layer.11.output.LayerNorm.weight: requires_grad=True\n",
            "roberta.encoder.layer.11.output.LayerNorm.bias: requires_grad=True\n",
            "classifier.dense.weight: requires_grad=True\n",
            "classifier.dense.bias: requires_grad=True\n",
            "classifier.out_proj.weight: requires_grad=True\n",
            "classifier.out_proj.bias: requires_grad=True\n"
          ]
        }
      ]
    },
    {
      "cell_type": "code",
      "source": [
        "metric_name = \"accuracy\"\n",
        "\n",
        "args = TrainingArguments(\n",
        "    output_dir = \"Fine_tuned_Roberta\",\n",
        "    evaluation_strategy = \"epoch\",\n",
        "    save_strategy = \"epoch\",\n",
        "    learning_rate=2e-5,\n",
        "    per_device_train_batch_size=BATCH_SIZE,\n",
        "    per_device_eval_batch_size=BATCH_SIZE,\n",
        "    num_train_epochs=5,\n",
        "    weight_decay=0.01,\n",
        "    load_best_model_at_end=True,\n",
        "    metric_for_best_model=metric_name,\n",
        "    resume_from_checkpoint=True,\n",
        ")\n",
        "\n",
        "\n",
        "def compute_metrics(eval_pred):\n",
        "    predictions, labels = eval_pred\n",
        "    predictions = np.argmax(predictions, axis=1)\n",
        "    return metric.compute(predictions=predictions, references=labels)"
      ],
      "metadata": {
        "id": "90SOUNXqsh3E"
      },
      "execution_count": null,
      "outputs": []
    },
    {
      "cell_type": "code",
      "source": [
        "class CustomCallback(TrainerCallback):\n",
        "\n",
        "    def __init__(self, trainer) -> None:\n",
        "        super().__init__()\n",
        "        self._trainer = trainer\n",
        "\n",
        "    def on_epoch_end(self, args, state, control, **kwargs):\n",
        "        if control.should_evaluate:\n",
        "            control_copy = deepcopy(control)\n",
        "            self._trainer.evaluate(eval_dataset=self._trainer.train_dataset, metric_key_prefix=\"train\")\n",
        "            return control_copy\n",
        "\n",
        "\n",
        "trainer = Trainer(\n",
        "    model,\n",
        "    args,\n",
        "    train_dataset=train_data, #tokenized_train_data,\n",
        "    eval_dataset=val_m_data,\n",
        "    tokenizer=tokenizer,\n",
        "    compute_metrics=compute_metrics\n",
        ")\n",
        "\n",
        "#trainer.add_callback(CustomCallback(trainer))\n",
        "\n",
        "\n",
        "trainer.train()\n"
      ],
      "metadata": {
        "colab": {
          "base_uri": "https://localhost:8080/",
          "height": 354
        },
        "outputId": "a72e5a7b-3061-4f4c-f514-701f389c68df",
        "id": "HFL4TTZmsh3E"
      },
      "execution_count": null,
      "outputs": [
        {
          "output_type": "display_data",
          "data": {
            "text/plain": [
              "<IPython.core.display.HTML object>"
            ],
            "text/html": [
              "\n",
              "    <div>\n",
              "      \n",
              "      <progress value='160' max='160' style='width:300px; height:20px; vertical-align: middle;'></progress>\n",
              "      [160/160 02:52, Epoch 5/5]\n",
              "    </div>\n",
              "    <table border=\"1\" class=\"dataframe\">\n",
              "  <thead>\n",
              " <tr style=\"text-align: left;\">\n",
              "      <th>Epoch</th>\n",
              "      <th>Training Loss</th>\n",
              "      <th>Validation Loss</th>\n",
              "      <th>Accuracy</th>\n",
              "    </tr>\n",
              "  </thead>\n",
              "  <tbody>\n",
              "    <tr>\n",
              "      <td>1</td>\n",
              "      <td>No log</td>\n",
              "      <td>1.105728</td>\n",
              "      <td>0.328000</td>\n",
              "    </tr>\n",
              "    <tr>\n",
              "      <td>2</td>\n",
              "      <td>No log</td>\n",
              "      <td>1.097146</td>\n",
              "      <td>0.366000</td>\n",
              "    </tr>\n",
              "    <tr>\n",
              "      <td>3</td>\n",
              "      <td>No log</td>\n",
              "      <td>1.063065</td>\n",
              "      <td>0.451000</td>\n",
              "    </tr>\n",
              "    <tr>\n",
              "      <td>4</td>\n",
              "      <td>No log</td>\n",
              "      <td>1.054658</td>\n",
              "      <td>0.450000</td>\n",
              "    </tr>\n",
              "    <tr>\n",
              "      <td>5</td>\n",
              "      <td>No log</td>\n",
              "      <td>1.011699</td>\n",
              "      <td>0.480000</td>\n",
              "    </tr>\n",
              "  </tbody>\n",
              "</table><p>"
            ]
          },
          "metadata": {}
        },
        {
          "output_type": "stream",
          "name": "stderr",
          "text": [
            "Checkpoint destination directory Fine_tuned_Roberta/checkpoint-32 already exists and is non-empty.Saving will proceed but saved results may be invalid.\n",
            "Checkpoint destination directory Fine_tuned_Roberta/checkpoint-64 already exists and is non-empty.Saving will proceed but saved results may be invalid.\n",
            "Checkpoint destination directory Fine_tuned_Roberta/checkpoint-96 already exists and is non-empty.Saving will proceed but saved results may be invalid.\n",
            "Checkpoint destination directory Fine_tuned_Roberta/checkpoint-128 already exists and is non-empty.Saving will proceed but saved results may be invalid.\n",
            "Checkpoint destination directory Fine_tuned_Roberta/checkpoint-160 already exists and is non-empty.Saving will proceed but saved results may be invalid.\n"
          ]
        },
        {
          "output_type": "execute_result",
          "data": {
            "text/plain": [
              "TrainOutput(global_step=160, training_loss=1.0496860504150392, metrics={'train_runtime': 173.2964, 'train_samples_per_second': 28.852, 'train_steps_per_second': 0.923, 'total_flos': 328891772160000.0, 'train_loss': 1.0496860504150392, 'epoch': 5.0})"
            ]
          },
          "metadata": {},
          "execution_count": 121
        }
      ]
    },
    {
      "cell_type": "code",
      "source": [
        "# Assuming you have a test dataset named test_data\n",
        "test_results = trainer.evaluate(val_m_data)\n",
        "\n",
        "# Print or use the evaluation results as needed\n",
        "print(\"Evaluation Results:\", test_results)"
      ],
      "metadata": {
        "colab": {
          "base_uri": "https://localhost:8080/",
          "height": 54
        },
        "outputId": "e7590f2b-d5bb-46bd-a072-abde49656ee4",
        "id": "BSS46T6Wsh3F"
      },
      "execution_count": null,
      "outputs": [
        {
          "output_type": "display_data",
          "data": {
            "text/plain": [
              "<IPython.core.display.HTML object>"
            ],
            "text/html": [
              "\n",
              "    <div>\n",
              "      \n",
              "      <progress value='32' max='32' style='width:300px; height:20px; vertical-align: middle;'></progress>\n",
              "      [32/32 00:06]\n",
              "    </div>\n",
              "    "
            ]
          },
          "metadata": {}
        },
        {
          "output_type": "stream",
          "name": "stdout",
          "text": [
            "Evaluation Results: {'eval_loss': 1.0116990804672241, 'eval_accuracy': 0.48, 'eval_runtime': 6.3963, 'eval_samples_per_second': 156.342, 'eval_steps_per_second': 5.003, 'epoch': 5.0}\n"
          ]
        }
      ]
    },
    {
      "cell_type": "code",
      "source": [
        "# Assuming you have a test dataset named test_data\n",
        "test_results = trainer.evaluate(val_mm_data)\n",
        "\n",
        "# Print or use the evaluation results as needed\n",
        "print(\"Evaluation Results:\", val_m_data)"
      ],
      "metadata": {
        "colab": {
          "base_uri": "https://localhost:8080/",
          "height": 106
        },
        "outputId": "14c5192f-1db8-4e59-a23d-f1fa5a501c95",
        "id": "jgLsn3p5sh3F"
      },
      "execution_count": null,
      "outputs": [
        {
          "output_type": "display_data",
          "data": {
            "text/plain": [
              "<IPython.core.display.HTML object>"
            ],
            "text/html": [
              "\n",
              "    <div>\n",
              "      \n",
              "      <progress value='340' max='32' style='width:300px; height:20px; vertical-align: middle;'></progress>\n",
              "      [32/32 01:08]\n",
              "    </div>\n",
              "    "
            ]
          },
          "metadata": {}
        },
        {
          "output_type": "stream",
          "name": "stdout",
          "text": [
            "Evaluation Results: Dataset({\n",
            "    features: ['premise', 'hypothesis', 'label', 'idx', 'input_ids', 'attention_mask'],\n",
            "    num_rows: 1000\n",
            "})\n"
          ]
        }
      ]
    },
    {
      "cell_type": "code",
      "source": [
        "from sklearn.metrics import confusion_matrix, classification_report\n",
        "import numpy as np\n",
        "\n",
        "# Assuming you have already initialized the model, tokenizer, and defined the training arguments\n",
        "# model = ...\n",
        "# tokenizer = ...\n",
        "# args = ...\n",
        "\n",
        "# Assuming you have a test dataset named test_data\n",
        "test_results = trainer.predict(val_mm_data)\n",
        "\n",
        "# Get predicted labels and true labels\n",
        "predicted_labels = np.argmax(test_results.predictions, axis=1)\n",
        "true_labels = val_mm_data[\"label\"]  # Replace \"label\" with the actual label column name in your test dataset\n",
        "\n",
        "# Calculate the confusion matrix\n",
        "conf_matrix = confusion_matrix(true_labels, predicted_labels)\n",
        "\n",
        "# Print or display the confusion matrix\n",
        "print(\"Confusion Matrix:\")\n",
        "print(conf_matrix)\n",
        "\n",
        "# You can also print a classification report for additional metrics\n",
        "print(\"\\nClassification Report:\")\n",
        "print(classification_report(true_labels, predicted_labels))\n"
      ],
      "metadata": {
        "colab": {
          "base_uri": "https://localhost:8080/",
          "height": 295
        },
        "outputId": "d1e94c14-078c-4823-b379-f7312c6226fa",
        "id": "tHfbPWwBsh3F"
      },
      "execution_count": null,
      "outputs": [
        {
          "output_type": "display_data",
          "data": {
            "text/plain": [
              "<IPython.core.display.HTML object>"
            ],
            "text/html": []
          },
          "metadata": {}
        },
        {
          "output_type": "stream",
          "name": "stdout",
          "text": [
            "Confusion Matrix:\n",
            "[[2478  915   70]\n",
            " [ 860 2226   43]\n",
            " [1029 1907  304]]\n",
            "\n",
            "Classification Report:\n",
            "              precision    recall  f1-score   support\n",
            "\n",
            "           0       0.57      0.72      0.63      3463\n",
            "           1       0.44      0.71      0.54      3129\n",
            "           2       0.73      0.09      0.17      3240\n",
            "\n",
            "    accuracy                           0.51      9832\n",
            "   macro avg       0.58      0.51      0.45      9832\n",
            "weighted avg       0.58      0.51      0.45      9832\n",
            "\n"
          ]
        }
      ]
    },
    {
      "cell_type": "code",
      "source": [
        "import matplotlib.pyplot as plt\n",
        "import seaborn as sns\n",
        "from sklearn.metrics import confusion_matrix, classification_report\n",
        "import numpy as np\n",
        "plt.figure(figsize=(8, 6))\n",
        "sns.heatmap(conf_matrix, annot=True, fmt=\"d\", cmap=\"Blues\")\n",
        "plt.title(\"Confusion Matrix\")\n",
        "plt.xlabel(\"Predicted Labels\")\n",
        "plt.ylabel(\"True Labels\")\n",
        "plt.show()"
      ],
      "metadata": {
        "colab": {
          "base_uri": "https://localhost:8080/",
          "height": 564
        },
        "outputId": "6a406e99-019a-4a62-a6b4-96259f9e9585",
        "id": "xNKGQSQDsh3F"
      },
      "execution_count": null,
      "outputs": [
        {
          "output_type": "display_data",
          "data": {
            "text/plain": [
              "<Figure size 800x600 with 2 Axes>"
            ],
            "image/png": "[encoded data removed]"
          },
          "metadata": {}
        }
      ]
    },
    {
      "cell_type": "markdown",
      "source": [
        "# Peft"
      ],
      "metadata": {
        "id": "ehR1YRp_L0MR"
      }
    },
    {
      "cell_type": "code",
      "source": [
        "!pip install peft"
      ],
      "metadata": {
        "colab": {
          "base_uri": "https://localhost:8080/"
        },
        "id": "jR6xE4nEL5Wu",
        "outputId": "5a6c45c8-b9f8-4bf0-9c48-39a9715404c9"
      },
      "execution_count": null,
      "outputs": [
        {
          "output_type": "stream",
          "name": "stdout",
          "text": [
            "Collecting peft\n",
            "  Downloading peft-0.7.1-py3-none-any.whl (168 kB)\n",
            "\u001b[2K     \u001b[90m━━━━━━━━━━━━━━━━━━━━━━━━━━━━━━━━━━━━━━━━\u001b[0m \u001b[32m168.3/168.3 kB\u001b[0m \u001b[31m4.0 MB/s\u001b[0m eta \u001b[36m0:00:00\u001b[0m\n",
            "\u001b[?25hRequirement already satisfied: numpy>=1.17 in /usr/local/lib/python3.10/dist-packages (from peft) (1.23.5)\n",
            "Requirement already satisfied: packaging>=20.0 in /usr/local/lib/python3.10/dist-packages (from peft) (23.2)\n",
            "Requirement already satisfied: psutil in /usr/local/lib/python3.10/dist-packages (from peft) (5.9.5)\n",
            "Requirement already satisfied: pyyaml in /usr/local/lib/python3.10/dist-packages (from peft) (6.0.1)\n",
            "Requirement already satisfied: torch>=1.13.0 in /usr/local/lib/python3.10/dist-packages (from peft) (2.1.0+cu121)\n",
            "Requirement already satisfied: transformers in /usr/local/lib/python3.10/dist-packages (from peft) (4.36.2)\n",
            "Requirement already satisfied: tqdm in /usr/local/lib/python3.10/dist-packages (from peft) (4.66.1)\n",
            "Requirement already satisfied: accelerate>=0.21.0 in /usr/local/lib/python3.10/dist-packages (from peft) (0.26.1)\n",
            "Requirement already satisfied: safetensors in /usr/local/lib/python3.10/dist-packages (from peft) (0.4.1)\n",
            "Requirement already satisfied: huggingface-hub>=0.17.0 in /usr/local/lib/python3.10/dist-packages (from peft) (0.20.2)\n",
            "Requirement already satisfied: filelock in /usr/local/lib/python3.10/dist-packages (from huggingface-hub>=0.17.0->peft) (3.13.1)\n",
            "Requirement already satisfied: fsspec>=2023.5.0 in /usr/local/lib/python3.10/dist-packages (from huggingface-hub>=0.17.0->peft) (2023.6.0)\n",
            "Requirement already satisfied: requests in /usr/local/lib/python3.10/dist-packages (from huggingface-hub>=0.17.0->peft) (2.31.0)\n",
            "Requirement already satisfied: typing-extensions>=3.7.4.3 in /usr/local/lib/python3.10/dist-packages (from huggingface-hub>=0.17.0->peft) (4.5.0)\n",
            "Requirement already satisfied: sympy in /usr/local/lib/python3.10/dist-packages (from torch>=1.13.0->peft) (1.12)\n",
            "Requirement already satisfied: networkx in /usr/local/lib/python3.10/dist-packages (from torch>=1.13.0->peft) (3.2.1)\n",
            "Requirement already satisfied: jinja2 in /usr/local/lib/python3.10/dist-packages (from torch>=1.13.0->peft) (3.1.2)\n",
            "Requirement already satisfied: triton==2.1.0 in /usr/local/lib/python3.10/dist-packages (from torch>=1.13.0->peft) (2.1.0)\n",
            "Requirement already satisfied: regex!=2019.12.17 in /usr/local/lib/python3.10/dist-packages (from transformers->peft) (2023.6.3)\n",
            "Requirement already satisfied: tokenizers<0.19,>=0.14 in /usr/local/lib/python3.10/dist-packages (from transformers->peft) (0.15.0)\n",
            "Requirement already satisfied: MarkupSafe>=2.0 in /usr/local/lib/python3.10/dist-packages (from jinja2->torch>=1.13.0->peft) (2.1.3)\n",
            "Requirement already satisfied: charset-normalizer<4,>=2 in /usr/local/lib/python3.10/dist-packages (from requests->huggingface-hub>=0.17.0->peft) (3.3.2)\n",
            "Requirement already satisfied: idna<4,>=2.5 in /usr/local/lib/python3.10/dist-packages (from requests->huggingface-hub>=0.17.0->peft) (3.6)\n",
            "Requirement already satisfied: urllib3<3,>=1.21.1 in /usr/local/lib/python3.10/dist-packages (from requests->huggingface-hub>=0.17.0->peft) (2.0.7)\n",
            "Requirement already satisfied: certifi>=2017.4.17 in /usr/local/lib/python3.10/dist-packages (from requests->huggingface-hub>=0.17.0->peft) (2023.11.17)\n",
            "Requirement already satisfied: mpmath>=0.19 in /usr/local/lib/python3.10/dist-packages (from sympy->torch>=1.13.0->peft) (1.3.0)\n",
            "Installing collected packages: peft\n",
            "Successfully installed peft-0.7.1\n"
          ]
        }
      ]
    },
    {
      "cell_type": "code",
      "source": [
        "from peft import LoraConfig, TaskType\n",
        "\n",
        "batch_size = 32\n",
        "model_name_or_path = \"roberta-large\"\n",
        "peft_type = PeftType.LORA\n",
        "device = \"cuda\"\n",
        "peft_config = LoraConfig(task_type=TaskType.SEQ_CLS, r=32, lora_alpha=16, lora_dropout=0.1)\n",
        "lr = 3e-4\n",
        "\n",
        "pretrained_model = RobertaForSequenceClassification.from_pretrained(model_name_or_path, return_dict=True,num_labels=3)\n",
        "\n",
        "trainable_params = 0\n",
        "all_param = 0\n",
        "for _, param in pretrained_model.named_parameters():\n",
        "    all_param += param.numel()\n",
        "    if param.requires_grad:\n",
        "        trainable_params += param.numel()\n",
        "print(f\"trainable params: {trainable_params} || all params: {all_param} || trainable%: {100 * trainable_params / all_param}\")\n",
        "\n",
        "model = get_peft_model(pretrained_model, peft_config)\n",
        "\n",
        "\n",
        "trainable_params = 0\n",
        "all_param = 0\n",
        "for _, param in model.named_parameters():\n",
        "    all_param += param.numel()\n",
        "    if param.requires_grad:\n",
        "        trainable_params += param.numel()\n",
        "print(f\"trainable params: {trainable_params} || all params: {all_param} || trainable%: {100 * trainable_params / all_param}\")\n"
      ],
      "metadata": {
        "colab": {
          "base_uri": "https://localhost:8080/"
        },
        "id": "1aM-lUZiM96f",
        "outputId": "48727079-05ba-4b83-d295-5641ff58ff2f"
      },
      "execution_count": null,
      "outputs": [
        {
          "output_type": "stream",
          "name": "stderr",
          "text": [
            "Some weights of RobertaForSequenceClassification were not initialized from the model checkpoint at roberta-large and are newly initialized: ['classifier.dense.bias', 'classifier.out_proj.bias', 'classifier.out_proj.weight', 'classifier.dense.weight']\n",
            "You should probably TRAIN this model on a down-stream task to be able to use it for predictions and inference.\n"
          ]
        },
        {
          "output_type": "stream",
          "name": "stdout",
          "text": [
            "trainable params: 355362819 || all params: 355362819 || trainable%: 100.0\n",
            "trainable params: 4198403 || all params: 359561222 || trainable%: 1.167646215197255\n"
          ]
        }
      ]
    },
    {
      "cell_type": "code",
      "source": [
        "import torch\n",
        "from torch.optim import AdamW\n",
        "from transformers import get_linear_schedule_with_warmup\n",
        "from torch.nn.utils.rnn import pad_sequence\n",
        "from tqdm import tqdm\n",
        "\n",
        "# Set the device\n",
        "device = torch.device(\"cuda\" if torch.cuda.is_available() else \"cpu\")\n",
        "\n",
        "# Move the model to the specified device\n",
        "model.to(device)\n",
        "\n",
        "# Create the dataloaders\n",
        "train_dataloader = torch.utils.data.DataLoader(train_data, batch_size=16, shuffle=True)\n",
        "val_dataloader = torch.utils.data.DataLoader(val_m_data, batch_size=16, shuffle=False)\n",
        "test_dataloader = torch.utils.data.DataLoader(val_mm_data, batch_size=16, shuffle=False)\n",
        "\n",
        "# Set up the optimizer and scheduler\n",
        "optimizer = AdamW(model.parameters(), lr=5e-5)\n",
        "scheduler = get_linear_schedule_with_warmup(optimizer, num_warmup_steps=10000, num_training_steps=len(train_dataloader) * 10)\n",
        "optimizer = AdamW(params=model.parameters(), lr=lr)\n",
        "\n",
        "# Instantiate scheduler\n",
        "num_epochs=5\n",
        "lr_scheduler = get_linear_schedule_with_warmup(\n",
        "    optimizer=optimizer,\n",
        "    num_warmup_steps=0.06 * (len(train_dataloader) * num_epochs),\n",
        "    num_training_steps=(len(train_dataloader) * num_epochs),\n",
        ")\n",
        "metric = load_metric('glue', \"mnli\")\n",
        "\n",
        "model.to(device)\n",
        "for epoch in range(num_epochs):\n",
        "    model.train()\n",
        "    train_loss = 0.0\n",
        "    correct_train = 0\n",
        "    total_train = 0\n",
        "\n",
        "    for step, batch in enumerate(tqdm(train_dataloader, desc=f\"Epoch {epoch} - Training\")):\n",
        "        input_ids, attention_mask, labels = batch['input_ids'].to(device), batch['attention_mask'].to(device), batch['label'].to(device)\n",
        "        outputs = model(input_ids, attention_mask=attention_mask, labels=labels)\n",
        "        loss = outputs.loss\n",
        "        loss.backward()\n",
        "        optimizer.step()\n",
        "        lr_scheduler.step()\n",
        "        optimizer.zero_grad()\n",
        "\n",
        "        train_loss += loss.item()\n",
        "        _, predicted = outputs.logits.max(1)\n",
        "        total_train += labels.size(0)\n",
        "        correct_train += predicted.eq(labels).sum().item()\n",
        "\n",
        "    avg_train_loss = train_loss / len(train_dataloader)\n",
        "    train_accuracy = correct_train / total_train\n",
        "\n",
        "    model.eval()\n",
        "    val_loss = 0.0\n",
        "    correct_val = 0\n",
        "    total_val = 0\n",
        "\n",
        "    for step, batch in enumerate(tqdm(val_dataloader, desc=f\"Epoch {epoch} - Validation\")):\n",
        "        with torch.no_grad():\n",
        "            input_ids, attention_mask, labels = batch['input_ids'].to(device), batch['attention_mask'].to(device), batch['label'].to(device)\n",
        "            outputs = model(input_ids, attention_mask=attention_mask, labels=labels)\n",
        "\n",
        "        loss = outputs.loss\n",
        "        val_loss += loss.item()\n",
        "\n",
        "        _, predicted = outputs.logits.max(1)\n",
        "        total_val += labels.size(0)\n",
        "        correct_val += predicted.eq(labels).sum().item()\n",
        "\n",
        "    avg_val_loss = val_loss / len(val_dataloader)\n",
        "    val_accuracy = correct_val / total_val\n",
        "\n",
        "    print(f\"Epoch {epoch}:\")\n",
        "    print(f\"  Train Loss: {avg_train_loss:.4f} | Train Accuracy: {train_accuracy * 100:.2f}%\")\n",
        "    print(f\"  Val Loss: {avg_val_loss:.4f} | Val Accuracy: {val_accuracy * 100:.2f}%\")"
      ],
      "metadata": {
        "colab": {
          "base_uri": "https://localhost:8080/"
        },
        "id": "rAAZOnDKcWJ4",
        "outputId": "c30f5be6-5185-4574-ac4c-e47d7f42f0f4"
      },
      "execution_count": null,
      "outputs": [
        {
          "output_type": "stream",
          "name": "stderr",
          "text": [
            "/usr/local/lib/python3.10/dist-packages/datasets/load.py:752: FutureWarning: The repository for glue contains custom code which must be executed to correctly load the metric. You can inspect the repository content at https://raw.githubusercontent.com/huggingface/datasets/2.16.1/metrics/glue/glue.py\n",
            "You can avoid this message in future by passing the argument `trust_remote_code=True`.\n",
            "Passing `trust_remote_code=True` will be mandatory to load this metric from the next major release of `datasets`.\n",
            "  warnings.warn(\n",
            "Epoch 0 - Training: 100%|██████████| 63/63 [00:48<00:00,  1.29it/s]\n",
            "Epoch 0 - Validation: 100%|██████████| 63/63 [00:22<00:00,  2.76it/s]\n"
          ]
        },
        {
          "output_type": "stream",
          "name": "stdout",
          "text": [
            "Epoch 0:\n",
            "  Train Loss: 1.1168 | Train Accuracy: 34.80%\n",
            "  Val Loss: 1.1050 | Val Accuracy: 32.90%\n"
          ]
        },
        {
          "output_type": "stream",
          "name": "stderr",
          "text": [
            "Epoch 1 - Training: 100%|██████████| 63/63 [00:47<00:00,  1.32it/s]\n",
            "Epoch 1 - Validation: 100%|██████████| 63/63 [00:23<00:00,  2.73it/s]\n"
          ]
        },
        {
          "output_type": "stream",
          "name": "stdout",
          "text": [
            "Epoch 1:\n",
            "  Train Loss: 1.1011 | Train Accuracy: 40.50%\n",
            "  Val Loss: 1.0464 | Val Accuracy: 44.10%\n"
          ]
        },
        {
          "output_type": "stream",
          "name": "stderr",
          "text": [
            "Epoch 2 - Training: 100%|██████████| 63/63 [00:47<00:00,  1.32it/s]\n",
            "Epoch 2 - Validation: 100%|██████████| 63/63 [00:23<00:00,  2.74it/s]\n"
          ]
        },
        {
          "output_type": "stream",
          "name": "stdout",
          "text": [
            "Epoch 2:\n",
            "  Train Loss: 0.9522 | Train Accuracy: 54.00%\n",
            "  Val Loss: 0.8100 | Val Accuracy: 64.80%\n"
          ]
        },
        {
          "output_type": "stream",
          "name": "stderr",
          "text": [
            "Epoch 3 - Training: 100%|██████████| 63/63 [00:48<00:00,  1.31it/s]\n",
            "Epoch 3 - Validation: 100%|██████████| 63/63 [00:23<00:00,  2.74it/s]\n"
          ]
        },
        {
          "output_type": "stream",
          "name": "stdout",
          "text": [
            "Epoch 3:\n",
            "  Train Loss: 0.6782 | Train Accuracy: 72.30%\n",
            "  Val Loss: 0.7127 | Val Accuracy: 71.80%\n"
          ]
        },
        {
          "output_type": "stream",
          "name": "stderr",
          "text": [
            "Epoch 4 - Training: 100%|██████████| 63/63 [00:47<00:00,  1.32it/s]\n",
            "Epoch 4 - Validation: 100%|██████████| 63/63 [00:22<00:00,  2.74it/s]"
          ]
        },
        {
          "output_type": "stream",
          "name": "stdout",
          "text": [
            "Epoch 4:\n",
            "  Train Loss: 0.5212 | Train Accuracy: 79.70%\n",
            "  Val Loss: 0.7106 | Val Accuracy: 73.00%\n"
          ]
        },
        {
          "output_type": "stream",
          "name": "stderr",
          "text": [
            "\n"
          ]
        }
      ]
    },
    {
      "cell_type": "code",
      "source": [
        "from tqdm import tqdm\n",
        "from sklearn.metrics import accuracy_score, confusion_matrix\n",
        "import seaborn as sns\n",
        "import matplotlib.pyplot as plt\n",
        "\n",
        "# ...\n",
        "\n",
        "# Training loop\n",
        "\n",
        "# Validation loop\n",
        "\n",
        "# Test set evaluation\n",
        "model.eval()\n",
        "all_predictions = []\n",
        "all_labels = []\n",
        "\n",
        "with torch.no_grad():\n",
        "    for step, batch in enumerate(tqdm(test_dataloader, desc=\"Test Set\")):\n",
        "        input_ids, attention_mask, labels = batch['input_ids'].to(device), batch['attention_mask'].to(device), batch['label'].to(device)\n",
        "        outputs = model(input_ids, attention_mask=attention_mask, labels=labels)\n",
        "        predictions = outputs.logits.argmax(dim=-1)\n",
        "\n",
        "        # Accumulate predictions and labels for the confusion matrix\n",
        "        all_predictions.extend(predictions.cpu().numpy())\n",
        "        all_labels.extend(labels.cpu().numpy())\n",
        "\n",
        "# Calculate accuracy for the test set\n",
        "test_accuracy = accuracy_score(all_predictions, all_labels)\n",
        "\n",
        "# Calculate and display the confusion matrix\n",
        "conf_matrix = confusion_matrix(all_labels, all_predictions)\n",
        "plt.figure(figsize=(10, 8))\n",
        "sns.heatmap(conf_matrix, annot=True, fmt='d', cmap='Blues', xticklabels=['Class 0', 'Class 1', 'Class 2'], yticklabels=['Class 0', 'Class 1', 'Class 2'])\n",
        "plt.xlabel('Predicted Labels')\n",
        "plt.ylabel('True Labels')\n",
        "plt.title('Confusion Matrix - Test Set')\n",
        "plt.show()\n",
        "\n",
        "print(f\"Test Accuracy: {test_accuracy:.4f}\")\n"
      ],
      "metadata": {
        "colab": {
          "base_uri": "https://localhost:8080/",
          "height": 753
        },
        "id": "I6GJkilFqrhe",
        "outputId": "b0c83d1d-130c-4d98-b152-0d50f4a77cdd"
      },
      "execution_count": null,
      "outputs": [
        {
          "output_type": "stream",
          "name": "stderr",
          "text": [
            "Test Set: 100%|██████████| 615/615 [03:46<00:00,  2.71it/s]\n"
          ]
        },
        {
          "output_type": "display_data",
          "data": {
            "text/plain": [
              "<Figure size 1000x800 with 2 Axes>"
            ],
            "image/png": "[encoded data removed]"
          },
          "metadata": {}
        },
        {
          "output_type": "stream",
          "name": "stdout",
          "text": [
            "Test Accuracy: 0.7605\n"
          ]
        }
      ]
    },
    {
      "cell_type": "code",
      "source": [
        "from sklearn.metrics import classification_report\n",
        "classification_report_str = classification_report(all_labels, all_predictions, target_names=['Class 0', 'Class 1', 'Class 2'])\n",
        "\n",
        "print(\"Classification Report - Test Set:\")\n",
        "print(classification_report_str)\n",
        "print(f\"Test Accuracy: {test_accuracy:.4f}\")"
      ],
      "metadata": {
        "colab": {
          "base_uri": "https://localhost:8080/"
        },
        "id": "lJv1t2PUqzcb",
        "outputId": "553fc70e-da34-4e66-b9a1-dec10d5602e7"
      },
      "execution_count": null,
      "outputs": [
        {
          "output_type": "stream",
          "name": "stdout",
          "text": [
            "Classification Report - Test Set:\n",
            "              precision    recall  f1-score   support\n",
            "\n",
            "     Class 0       0.87      0.71      0.78      3463\n",
            "     Class 1       0.63      0.80      0.70      3129\n",
            "     Class 2       0.84      0.78      0.81      3240\n",
            "\n",
            "    accuracy                           0.76      9832\n",
            "   macro avg       0.78      0.76      0.76      9832\n",
            "weighted avg       0.78      0.76      0.76      9832\n",
            "\n",
            "Test Accuracy: 0.7605\n"
          ]
        }
      ]
    }
  ]
}