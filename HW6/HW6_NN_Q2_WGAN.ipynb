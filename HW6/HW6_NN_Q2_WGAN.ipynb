{
 "cells": [
  {
   "cell_type": "code",
   "execution_count": 1,
   "metadata": {
    "colab": {
     "base_uri": "https://localhost:8080/"
    },
    "id": "I2SkPqr5iQuq",
    "outputId": "e04e8b8c-2470-484e-d5c2-0d4bc34f17ba"
   },
   "outputs": [
    {
     "name": "stdout",
     "output_type": "stream",
     "text": [
      "Collecting pytorch_fid\n",
      "  Downloading pytorch_fid-0.3.0-py3-none-any.whl (15 kB)\n",
      "Requirement already satisfied: numpy in /usr/local/lib/python3.10/dist-packages (from pytorch_fid) (1.23.5)\n",
      "Requirement already satisfied: pillow in /usr/local/lib/python3.10/dist-packages (from pytorch_fid) (9.4.0)\n",
      "Requirement already satisfied: scipy in /usr/local/lib/python3.10/dist-packages (from pytorch_fid) (1.11.4)\n",
      "Requirement already satisfied: torch>=1.0.1 in /usr/local/lib/python3.10/dist-packages (from pytorch_fid) (2.1.0+cu121)\n",
      "Requirement already satisfied: torchvision>=0.2.2 in /usr/local/lib/python3.10/dist-packages (from pytorch_fid) (0.16.0+cu121)\n",
      "Requirement already satisfied: filelock in /usr/local/lib/python3.10/dist-packages (from torch>=1.0.1->pytorch_fid) (3.13.1)\n",
      "Requirement already satisfied: typing-extensions in /usr/local/lib/python3.10/dist-packages (from torch>=1.0.1->pytorch_fid) (4.5.0)\n",
      "Requirement already satisfied: sympy in /usr/local/lib/python3.10/dist-packages (from torch>=1.0.1->pytorch_fid) (1.12)\n",
      "Requirement already satisfied: networkx in /usr/local/lib/python3.10/dist-packages (from torch>=1.0.1->pytorch_fid) (3.2.1)\n",
      "Requirement already satisfied: jinja2 in /usr/local/lib/python3.10/dist-packages (from torch>=1.0.1->pytorch_fid) (3.1.3)\n",
      "Requirement already satisfied: fsspec in /usr/local/lib/python3.10/dist-packages (from torch>=1.0.1->pytorch_fid) (2023.6.0)\n",
      "Requirement already satisfied: triton==2.1.0 in /usr/local/lib/python3.10/dist-packages (from torch>=1.0.1->pytorch_fid) (2.1.0)\n",
      "Requirement already satisfied: requests in /usr/local/lib/python3.10/dist-packages (from torchvision>=0.2.2->pytorch_fid) (2.31.0)\n",
      "Requirement already satisfied: MarkupSafe>=2.0 in /usr/local/lib/python3.10/dist-packages (from jinja2->torch>=1.0.1->pytorch_fid) (2.1.4)\n",
      "Requirement already satisfied: charset-normalizer<4,>=2 in /usr/local/lib/python3.10/dist-packages (from requests->torchvision>=0.2.2->pytorch_fid) (3.3.2)\n",
      "Requirement already satisfied: idna<4,>=2.5 in /usr/local/lib/python3.10/dist-packages (from requests->torchvision>=0.2.2->pytorch_fid) (3.6)\n",
      "Requirement already satisfied: urllib3<3,>=1.21.1 in /usr/local/lib/python3.10/dist-packages (from requests->torchvision>=0.2.2->pytorch_fid) (2.0.7)\n",
      "Requirement already satisfied: certifi>=2017.4.17 in /usr/local/lib/python3.10/dist-packages (from requests->torchvision>=0.2.2->pytorch_fid) (2023.11.17)\n",
      "Requirement already satisfied: mpmath>=0.19 in /usr/local/lib/python3.10/dist-packages (from sympy->torch>=1.0.1->pytorch_fid) (1.3.0)\n",
      "Installing collected packages: pytorch_fid\n",
      "Successfully installed pytorch_fid-0.3.0\n"
     ]
    }
   ],
   "source": [
    "!pip install pytorch_fid"
   ]
  },
  {
   "cell_type": "code",
   "execution_count": 2,
   "metadata": {
    "colab": {
     "base_uri": "https://localhost:8080/"
    },
    "id": "BLME8H_snxjD",
    "outputId": "e3da4ec3-69ae-4686-ecf3-178f64f846e3"
   },
   "outputs": [
    {
     "name": "stdout",
     "output_type": "stream",
     "text": [
      "Collecting scipy==1.11.1\n",
      "  Downloading scipy-1.11.1-cp310-cp310-manylinux_2_17_x86_64.manylinux2014_x86_64.whl (36.3 MB)\n",
      "\u001b[2K     \u001b[90m━━━━━━━━━━━━━━━━━━━━━━━━━━━━━━━━━━━━━━━━\u001b[0m \u001b[32m36.3/36.3 MB\u001b[0m \u001b[31m14.4 MB/s\u001b[0m eta \u001b[36m0:00:00\u001b[0m\n",
      "\u001b[?25hCollecting numpy<1.28.0,>=1.21.6 (from scipy==1.11.1)\n",
      "  Downloading numpy-1.26.3-cp310-cp310-manylinux_2_17_x86_64.manylinux2014_x86_64.whl (18.2 MB)\n",
      "\u001b[2K     \u001b[90m━━━━━━━━━━━━━━━━━━━━━━━━━━━━━━━━━━━━━━━━\u001b[0m \u001b[32m18.2/18.2 MB\u001b[0m \u001b[31m33.1 MB/s\u001b[0m eta \u001b[36m0:00:00\u001b[0m\n",
      "\u001b[?25hInstalling collected packages: numpy, scipy\n",
      "  Attempting uninstall: numpy\n",
      "    Found existing installation: numpy 1.23.5\n",
      "    Uninstalling numpy-1.23.5:\n",
      "      Successfully uninstalled numpy-1.23.5\n",
      "  Attempting uninstall: scipy\n",
      "    Found existing installation: scipy 1.11.4\n",
      "    Uninstalling scipy-1.11.4:\n",
      "      Successfully uninstalled scipy-1.11.4\n",
      "\u001b[31mERROR: pip's dependency resolver does not currently take into account all the packages that are installed. This behaviour is the source of the following dependency conflicts.\n",
      "lida 0.0.10 requires fastapi, which is not installed.\n",
      "lida 0.0.10 requires kaleido, which is not installed.\n",
      "lida 0.0.10 requires python-multipart, which is not installed.\n",
      "lida 0.0.10 requires uvicorn, which is not installed.\u001b[0m\u001b[31m\n",
      "\u001b[0mSuccessfully installed numpy-1.26.3 scipy-1.11.1\n"
     ]
    }
   ],
   "source": [
    "!pip install --force-reinstall scipy==1.11.1"
   ]
  },
  {
   "cell_type": "code",
   "execution_count": 4,
   "metadata": {
    "colab": {
     "base_uri": "https://localhost:8080/",
     "height": 1000
    },
    "id": "ui9ATij-14js",
    "outputId": "e4bab397-a011-4be9-ef9d-ca216de1b2e8"
   },
   "outputs": [
    {
     "name": "stderr",
     "output_type": "stream",
     "text": [
      "  2%|▏         | 1/50 [00:21<17:28, 21.39s/it]"
     ]
    },
    {
     "name": "stdout",
     "output_type": "stream",
     "text": [
      "Epoch [1/50] - Loss C: 10.8272, Loss G: 6.0377\n"
     ]
    },
    {
     "name": "stderr",
     "output_type": "stream",
     "text": [
      "\r  4%|▍         | 2/50 [00:42<16:52, 21.09s/it]"
     ]
    },
    {
     "name": "stdout",
     "output_type": "stream",
     "text": [
      "Epoch [2/50] - Loss C: 2.4602, Loss G: 9.9867\n"
     ]
    },
    {
     "name": "stderr",
     "output_type": "stream",
     "text": [
      "\r  6%|▌         | 3/50 [01:03<16:28, 21.03s/it]"
     ]
    },
    {
     "name": "stdout",
     "output_type": "stream",
     "text": [
      "Epoch [3/50] - Loss C: 1.4351, Loss G: 7.5894\n"
     ]
    },
    {
     "name": "stderr",
     "output_type": "stream",
     "text": [
      "\r  8%|▊         | 4/50 [01:24<16:03, 20.95s/it]"
     ]
    },
    {
     "name": "stdout",
     "output_type": "stream",
     "text": [
      "Epoch [4/50] - Loss C: 0.1373, Loss G: 0.8147\n"
     ]
    },
    {
     "name": "stderr",
     "output_type": "stream",
     "text": [
      "\r 10%|█         | 5/50 [01:45<15:42, 20.95s/it]"
     ]
    },
    {
     "name": "stdout",
     "output_type": "stream",
     "text": [
      "Epoch [5/50] - Loss C: 2.6747, Loss G: 1.7257\n"
     ]
    },
    {
     "name": "stderr",
     "output_type": "stream",
     "text": [
      "\r 12%|█▏        | 6/50 [02:06<15:23, 21.00s/it]"
     ]
    },
    {
     "name": "stdout",
     "output_type": "stream",
     "text": [
      "Epoch [6/50] - Loss C: 2.3676, Loss G: 2.2660\n"
     ]
    },
    {
     "name": "stderr",
     "output_type": "stream",
     "text": [
      "\r 14%|█▍        | 7/50 [02:27<15:03, 21.01s/it]"
     ]
    },
    {
     "name": "stdout",
     "output_type": "stream",
     "text": [
      "Epoch [7/50] - Loss C: 3.0927, Loss G: 2.5010\n"
     ]
    },
    {
     "name": "stderr",
     "output_type": "stream",
     "text": [
      "\r 16%|█▌        | 8/50 [02:47<14:31, 20.75s/it]"
     ]
    },
    {
     "name": "stdout",
     "output_type": "stream",
     "text": [
      "Epoch [8/50] - Loss C: 2.8481, Loss G: 2.6612\n"
     ]
    },
    {
     "name": "stderr",
     "output_type": "stream",
     "text": [
      "\r 18%|█▊        | 9/50 [03:08<14:16, 20.90s/it]"
     ]
    },
    {
     "name": "stdout",
     "output_type": "stream",
     "text": [
      "Epoch [9/50] - Loss C: 2.3145, Loss G: 2.9330\n"
     ]
    },
    {
     "name": "stderr",
     "output_type": "stream",
     "text": [
      "\r 20%|██        | 10/50 [03:29<13:55, 20.89s/it]"
     ]
    },
    {
     "name": "stdout",
     "output_type": "stream",
     "text": [
      "Epoch [10/50] - Loss C: 2.5621, Loss G: 2.6683\n"
     ]
    },
    {
     "name": "stderr",
     "output_type": "stream",
     "text": [
      "\r 22%|██▏       | 11/50 [03:50<13:38, 20.99s/it]"
     ]
    },
    {
     "name": "stdout",
     "output_type": "stream",
     "text": [
      "Epoch [11/50] - Loss C: 2.4180, Loss G: 2.8745\n"
     ]
    },
    {
     "name": "stderr",
     "output_type": "stream",
     "text": [
      "\r 24%|██▍       | 12/50 [04:12<13:22, 21.11s/it]"
     ]
    },
    {
     "name": "stdout",
     "output_type": "stream",
     "text": [
      "Epoch [12/50] - Loss C: 2.4709, Loss G: 3.1257\n"
     ]
    },
    {
     "name": "stderr",
     "output_type": "stream",
     "text": [
      "\r 26%|██▌       | 13/50 [04:33<13:03, 21.19s/it]"
     ]
    },
    {
     "name": "stdout",
     "output_type": "stream",
     "text": [
      "Epoch [13/50] - Loss C: 2.6960, Loss G: 3.3055\n"
     ]
    },
    {
     "name": "stderr",
     "output_type": "stream",
     "text": [
      "\r 28%|██▊       | 14/50 [04:54<12:38, 21.06s/it]"
     ]
    },
    {
     "name": "stdout",
     "output_type": "stream",
     "text": [
      "Epoch [14/50] - Loss C: 2.1370, Loss G: 3.8562\n"
     ]
    },
    {
     "name": "stderr",
     "output_type": "stream",
     "text": [
      "\r 30%|███       | 15/50 [05:15<12:19, 21.14s/it]"
     ]
    },
    {
     "name": "stdout",
     "output_type": "stream",
     "text": [
      "Epoch [15/50] - Loss C: 1.8429, Loss G: 3.9797\n"
     ]
    },
    {
     "name": "stderr",
     "output_type": "stream",
     "text": [
      "\r 32%|███▏      | 16/50 [05:36<11:57, 21.09s/it]"
     ]
    },
    {
     "name": "stdout",
     "output_type": "stream",
     "text": [
      "Epoch [16/50] - Loss C: 1.7907, Loss G: 3.2358\n"
     ]
    },
    {
     "name": "stderr",
     "output_type": "stream",
     "text": [
      "\r 34%|███▍      | 17/50 [05:59<11:58, 21.76s/it]"
     ]
    },
    {
     "name": "stdout",
     "output_type": "stream",
     "text": [
      "Epoch [17/50] - Loss C: 1.7277, Loss G: 4.2403\n"
     ]
    },
    {
     "name": "stderr",
     "output_type": "stream",
     "text": [
      "\r 36%|███▌      | 18/50 [06:20<11:27, 21.50s/it]"
     ]
    },
    {
     "name": "stdout",
     "output_type": "stream",
     "text": [
      "Epoch [18/50] - Loss C: 1.8369, Loss G: 3.4031\n"
     ]
    },
    {
     "name": "stderr",
     "output_type": "stream",
     "text": [
      "\r 38%|███▊      | 19/50 [06:41<10:59, 21.27s/it]"
     ]
    },
    {
     "name": "stdout",
     "output_type": "stream",
     "text": [
      "Epoch [19/50] - Loss C: 1.8483, Loss G: 3.8441\n"
     ]
    },
    {
     "name": "stderr",
     "output_type": "stream",
     "text": [
      "\r 40%|████      | 20/50 [07:02<10:36, 21.21s/it]"
     ]
    },
    {
     "name": "stdout",
     "output_type": "stream",
     "text": [
      "Epoch [20/50] - Loss C: 1.4660, Loss G: 6.9707\n"
     ]
    },
    {
     "name": "stderr",
     "output_type": "stream",
     "text": [
      "\r 42%|████▏     | 21/50 [07:23<10:13, 21.15s/it]"
     ]
    },
    {
     "name": "stdout",
     "output_type": "stream",
     "text": [
      "Epoch [21/50] - Loss C: 1.3603, Loss G: 3.7238\n"
     ]
    },
    {
     "name": "stderr",
     "output_type": "stream",
     "text": [
      "\r 44%|████▍     | 22/50 [07:45<09:55, 21.27s/it]"
     ]
    },
    {
     "name": "stdout",
     "output_type": "stream",
     "text": [
      "Epoch [22/50] - Loss C: 0.9677, Loss G: 2.5110\n"
     ]
    },
    {
     "name": "stderr",
     "output_type": "stream",
     "text": [
      "\r 46%|████▌     | 23/50 [08:06<09:35, 21.30s/it]"
     ]
    },
    {
     "name": "stdout",
     "output_type": "stream",
     "text": [
      "Epoch [23/50] - Loss C: 1.0240, Loss G: 1.3110\n"
     ]
    },
    {
     "name": "stderr",
     "output_type": "stream",
     "text": [
      "\r 48%|████▊     | 24/50 [08:27<09:11, 21.21s/it]"
     ]
    },
    {
     "name": "stdout",
     "output_type": "stream",
     "text": [
      "Epoch [24/50] - Loss C: 1.3214, Loss G: 1.8861\n"
     ]
    },
    {
     "name": "stderr",
     "output_type": "stream",
     "text": [
      "\r 50%|█████     | 25/50 [08:48<08:48, 21.15s/it]"
     ]
    },
    {
     "name": "stdout",
     "output_type": "stream",
     "text": [
      "Epoch [25/50] - Loss C: 1.1252, Loss G: 3.8204\n"
     ]
    },
    {
     "name": "stderr",
     "output_type": "stream",
     "text": [
      "\r 52%|█████▏    | 26/50 [09:09<08:26, 21.12s/it]"
     ]
    },
    {
     "name": "stdout",
     "output_type": "stream",
     "text": [
      "Epoch [26/50] - Loss C: 0.8223, Loss G: 5.7471\n"
     ]
    },
    {
     "name": "stderr",
     "output_type": "stream",
     "text": [
      "\r 54%|█████▍    | 27/50 [09:30<08:04, 21.05s/it]"
     ]
    },
    {
     "name": "stdout",
     "output_type": "stream",
     "text": [
      "Epoch [27/50] - Loss C: 0.8236, Loss G: 1.4341\n"
     ]
    },
    {
     "name": "stderr",
     "output_type": "stream",
     "text": [
      "\r 56%|█████▌    | 28/50 [09:51<07:41, 20.97s/it]"
     ]
    },
    {
     "name": "stdout",
     "output_type": "stream",
     "text": [
      "Epoch [28/50] - Loss C: 0.6442, Loss G: 2.6139\n"
     ]
    },
    {
     "name": "stderr",
     "output_type": "stream",
     "text": [
      "\r 58%|█████▊    | 29/50 [10:11<07:18, 20.88s/it]"
     ]
    },
    {
     "name": "stdout",
     "output_type": "stream",
     "text": [
      "Epoch [29/50] - Loss C: 0.8039, Loss G: 2.2489\n"
     ]
    },
    {
     "name": "stderr",
     "output_type": "stream",
     "text": [
      "\r 60%|██████    | 30/50 [10:32<06:57, 20.86s/it]"
     ]
    },
    {
     "name": "stdout",
     "output_type": "stream",
     "text": [
      "Epoch [30/50] - Loss C: 0.8141, Loss G: 9.1078\n"
     ]
    },
    {
     "name": "stderr",
     "output_type": "stream",
     "text": [
      "\r 62%|██████▏   | 31/50 [10:53<06:35, 20.81s/it]"
     ]
    },
    {
     "name": "stdout",
     "output_type": "stream",
     "text": [
      "Epoch [31/50] - Loss C: 0.8784, Loss G: 2.2472\n"
     ]
    },
    {
     "name": "stderr",
     "output_type": "stream",
     "text": [
      "\r 64%|██████▍   | 32/50 [11:15<06:20, 21.12s/it]"
     ]
    },
    {
     "name": "stdout",
     "output_type": "stream",
     "text": [
      "Epoch [32/50] - Loss C: 0.6509, Loss G: 0.8290\n"
     ]
    },
    {
     "name": "stderr",
     "output_type": "stream",
     "text": [
      "\r 66%|██████▌   | 33/50 [11:36<06:01, 21.25s/it]"
     ]
    },
    {
     "name": "stdout",
     "output_type": "stream",
     "text": [
      "Epoch [33/50] - Loss C: 0.6499, Loss G: 0.8345\n"
     ]
    },
    {
     "name": "stderr",
     "output_type": "stream",
     "text": [
      "\r 68%|██████▊   | 34/50 [11:57<05:38, 21.13s/it]"
     ]
    },
    {
     "name": "stdout",
     "output_type": "stream",
     "text": [
      "Epoch [34/50] - Loss C: 0.6878, Loss G: 5.9492\n"
     ]
    },
    {
     "name": "stderr",
     "output_type": "stream",
     "text": [
      "\r 70%|███████   | 35/50 [12:18<05:15, 21.02s/it]"
     ]
    },
    {
     "name": "stdout",
     "output_type": "stream",
     "text": [
      "Epoch [35/50] - Loss C: 0.6529, Loss G: 2.1665\n"
     ]
    },
    {
     "name": "stderr",
     "output_type": "stream",
     "text": [
      "\r 72%|███████▏  | 36/50 [12:39<04:53, 20.96s/it]"
     ]
    },
    {
     "name": "stdout",
     "output_type": "stream",
     "text": [
      "Epoch [36/50] - Loss C: 0.6502, Loss G: 4.6527\n"
     ]
    },
    {
     "name": "stderr",
     "output_type": "stream",
     "text": [
      "\r 74%|███████▍  | 37/50 [13:00<04:32, 20.94s/it]"
     ]
    },
    {
     "name": "stdout",
     "output_type": "stream",
     "text": [
      "Epoch [37/50] - Loss C: 0.4640, Loss G: 3.0844\n"
     ]
    },
    {
     "name": "stderr",
     "output_type": "stream",
     "text": [
      "\r 76%|███████▌  | 38/50 [13:20<04:11, 20.93s/it]"
     ]
    },
    {
     "name": "stdout",
     "output_type": "stream",
     "text": [
      "Epoch [38/50] - Loss C: 0.3497, Loss G: 0.9779\n"
     ]
    },
    {
     "name": "stderr",
     "output_type": "stream",
     "text": [
      "\r 78%|███████▊  | 39/50 [13:41<03:48, 20.77s/it]"
     ]
    },
    {
     "name": "stdout",
     "output_type": "stream",
     "text": [
      "Epoch [39/50] - Loss C: 0.5927, Loss G: 5.5807\n"
     ]
    },
    {
     "name": "stderr",
     "output_type": "stream",
     "text": [
      "\r 80%|████████  | 40/50 [14:02<03:28, 20.89s/it]"
     ]
    },
    {
     "name": "stdout",
     "output_type": "stream",
     "text": [
      "Epoch [40/50] - Loss C: 0.4407, Loss G: 1.3101\n"
     ]
    },
    {
     "name": "stderr",
     "output_type": "stream",
     "text": [
      "\r 82%|████████▏ | 41/50 [14:23<03:08, 20.92s/it]"
     ]
    },
    {
     "name": "stdout",
     "output_type": "stream",
     "text": [
      "Epoch [41/50] - Loss C: 0.3925, Loss G: 3.8024\n"
     ]
    },
    {
     "name": "stderr",
     "output_type": "stream",
     "text": [
      "\r 84%|████████▍ | 42/50 [14:45<02:49, 21.19s/it]"
     ]
    },
    {
     "name": "stdout",
     "output_type": "stream",
     "text": [
      "Epoch [42/50] - Loss C: 0.4000, Loss G: 1.9468\n"
     ]
    },
    {
     "name": "stderr",
     "output_type": "stream",
     "text": [
      "\r 86%|████████▌ | 43/50 [15:06<02:27, 21.10s/it]"
     ]
    },
    {
     "name": "stdout",
     "output_type": "stream",
     "text": [
      "Epoch [43/50] - Loss C: 0.3014, Loss G: 1.6411\n"
     ]
    },
    {
     "name": "stderr",
     "output_type": "stream",
     "text": [
      "\r 88%|████████▊ | 44/50 [15:26<02:06, 21.00s/it]"
     ]
    },
    {
     "name": "stdout",
     "output_type": "stream",
     "text": [
      "Epoch [44/50] - Loss C: 0.2690, Loss G: 2.3109\n"
     ]
    },
    {
     "name": "stderr",
     "output_type": "stream",
     "text": [
      "\r 90%|█████████ | 45/50 [15:47<01:44, 20.92s/it]"
     ]
    },
    {
     "name": "stdout",
     "output_type": "stream",
     "text": [
      "Epoch [45/50] - Loss C: 0.3692, Loss G: 3.8925\n"
     ]
    },
    {
     "name": "stderr",
     "output_type": "stream",
     "text": [
      "\r 92%|█████████▏| 46/50 [16:08<01:23, 20.90s/it]"
     ]
    },
    {
     "name": "stdout",
     "output_type": "stream",
     "text": [
      "Epoch [46/50] - Loss C: 0.2572, Loss G: 2.1788\n"
     ]
    },
    {
     "name": "stderr",
     "output_type": "stream",
     "text": [
      "\r 94%|█████████▍| 47/50 [16:29<01:02, 20.83s/it]"
     ]
    },
    {
     "name": "stdout",
     "output_type": "stream",
     "text": [
      "Epoch [47/50] - Loss C: 0.3798, Loss G: 2.2976\n"
     ]
    },
    {
     "name": "stderr",
     "output_type": "stream",
     "text": [
      "\r 96%|█████████▌| 48/50 [16:50<00:41, 20.88s/it]"
     ]
    },
    {
     "name": "stdout",
     "output_type": "stream",
     "text": [
      "Epoch [48/50] - Loss C: 0.3599, Loss G: 0.1798\n"
     ]
    },
    {
     "name": "stderr",
     "output_type": "stream",
     "text": [
      "\r 98%|█████████▊| 49/50 [17:10<00:20, 20.68s/it]"
     ]
    },
    {
     "name": "stdout",
     "output_type": "stream",
     "text": [
      "Epoch [49/50] - Loss C: 0.4417, Loss G: 7.3327\n"
     ]
    },
    {
     "name": "stderr",
     "output_type": "stream",
     "text": [
      "100%|██████████| 50/50 [17:31<00:00, 21.03s/it]"
     ]
    },
    {
     "name": "stdout",
     "output_type": "stream",
     "text": [
      "Epoch [50/50] - Loss C: 0.3876, Loss G: 8.3204\n"
     ]
    },
    {
     "name": "stderr",
     "output_type": "stream",
     "text": [
      "\n"
     ]
    },
    {
     "data": {
      "image/png": "[encoded data removed]",
      "text/plain": [
       "<Figure size 1000x500 with 1 Axes>"
      ]
     },
     "metadata": {},
     "output_type": "display_data"
    },
    {
     "name": "stdout",
     "output_type": "stream",
     "text": [
      "Training is complete!\n",
      "FID score (approximation): 15.541605738732587\n"
     ]
    },
    {
     "name": "stderr",
     "output_type": "stream",
     "text": [
      "<ipython-input-4-9dc739a7b7e0>:183: RuntimeWarning: invalid value encountered in sqrt\n",
      "  covmean = np.sqrt(sigma_real * sigma_fake)\n"
     ]
    }
   ],
   "source": [
    "import torch\n",
    "from torch import nn\n",
    "from torchvision import datasets, transforms, utils\n",
    "from torch.utils.data import DataLoader\n",
    "import torch.optim as optim\n",
    "import numpy as np\n",
    "import matplotlib.pyplot as plt\n",
    "from tqdm import tqdm\n",
    "\n",
    "# Hyperparameters\n",
    "batch_size = 64\n",
    "learning_rate = 0.0002\n",
    "epochs = 50  # You can adjust this lower if it's too computationally heavy\n",
    "latent_dim = 64\n",
    "image_size = 28\n",
    "channels = 1\n",
    "features_g = 64\n",
    "features_d = 64\n",
    "n_critic = 5\n",
    "device = torch.device('cuda' if torch.cuda.is_available() else 'cpu')\n",
    "# MNIST dataset\n",
    "transform = transforms.Compose([\n",
    "    transforms.ToTensor(),\n",
    "    transforms.Normalize((0.5,), (0.5,))\n",
    "])\n",
    "\n",
    "train_data = datasets.MNIST(root='./data', train=True, download=True, transform=transform)\n",
    "train_loader = DataLoader(train_data, batch_size=batch_size, shuffle=True)\n",
    "\n",
    "# Helper function to initialize weights\n",
    "def weights_init(m):\n",
    "    if isinstance(m, (nn.Conv2d, nn.ConvTranspose2d, nn.BatchNorm2d)):\n",
    "        nn.init.normal_(m.weight.data, 0.0, 0.02)\n",
    "\n",
    "class Generator(nn.Module):\n",
    "    def __init__(self, z_dim):\n",
    "        super(Generator, self).__init__()\n",
    "\n",
    "        self.gen = nn.Sequential(\n",
    "            nn.Linear(z_dim, 512),  # First linear layer\n",
    "            nn.BatchNorm1d(512),\n",
    "            nn.ReLU(),\n",
    "            nn.Linear(512, 8192),  # Second linear layer with inferred output size\n",
    "            nn.BatchNorm1d(8192),\n",
    "            nn.ReLU(),\n",
    "            nn.Unflatten(1, (128, 8, 8)),  # Reshape to (batch, channels, height, width)\n",
    "            nn.PixelShuffle(2),  # Output shape is (batch, 32, 16, 16)\n",
    "            nn.Conv2d(32, 32, kernel_size=3, stride=1, padding=1),  # Conv layer\n",
    "            nn.BatchNorm2d(32),\n",
    "            nn.ReLU(),\n",
    "            nn.PixelShuffle(2),  # Output shape is (batch, 8, 32, 32)\n",
    "            nn.Conv2d(8, 1, kernel_size=3, stride=1, padding=1),  # Final conv layer to produce output image\n",
    "            nn.Tanh()\n",
    "        )\n",
    "\n",
    "    def forward(self, x):\n",
    "        # Forward pass through the network\n",
    "        x = self.gen(x)\n",
    "        return x[:, :, 2:30, 2:30]  # Adjust if different size is required\n",
    "\n",
    "# Define the generator\n",
    "generator = Generator(latent_dim).to(device)\n",
    "\n",
    "class Critic(nn.Module):\n",
    "    def __init__(self):\n",
    "        super(Critic, self).__init__()\n",
    "        self.model = nn.Sequential(\n",
    "            nn.Conv2d(1, 32, kernel_size=4, stride=2, padding=1),\n",
    "            nn.ReLU(inplace=True),\n",
    "            nn.Conv2d(32, 64, kernel_size=4, stride=2, padding=1),\n",
    "            nn.ReLU(inplace=True),\n",
    "            nn.Flatten(),\n",
    "            nn.Linear(64 * 7 * 7, 512),\n",
    "            nn.ReLU(inplace=True),\n",
    "            nn.Linear(512, 1)\n",
    "        )\n",
    "\n",
    "    def forward(self, x):\n",
    "        return self.model(x)\n",
    "\n",
    "\n",
    "from torchvision.utils import save_image\n",
    "\n",
    "def save_fake_images_grid(epoch, generator, latent_dim, num_images=64, format='png'):\n",
    "    with torch.no_grad():\n",
    "        # Generate a batch of fake images\n",
    "        z = torch.randn(num_images, latent_dim).to(device)\n",
    "        fake_images = generator(z).detach().cpu()\n",
    "\n",
    "        # Create a grid of images\n",
    "        grid = utils.make_grid(fake_images, nrow=8, normalize=True)  # nrow is the number of images per row\n",
    "\n",
    "        # Convert grid to a numpy array\n",
    "        ndarr = grid.permute(1, 2, 0).numpy()\n",
    "\n",
    "        # Save the grid as an image file\n",
    "        plt.imshow(ndarr, interpolation='nearest', cmap='gray')\n",
    "        plt.axis('off')\n",
    "        plt.savefig(f'/content/fake_images_epoch_{epoch}.{format}', bbox_inches='tight', pad_inches=0)\n",
    "        plt.close()\n",
    "\n",
    "\n",
    "# Instantiate models\n",
    "critic = Critic().apply(weights_init).to(device)\n",
    "generator = Generator(latent_dim).apply(weights_init).to(device)\n",
    "\n",
    "# Optimizers (No change needed)\n",
    "optimizer_g = optim.Adam(generator.parameters(), lr=learning_rate)\n",
    "optimizer_c = optim.Adam(critic.parameters(), lr=learning_rate)\n",
    "\n",
    "# Training Loop\n",
    "c_losses = []\n",
    "g_losses = []\n",
    "for epoch in tqdm(range(epochs)):\n",
    "    for i, (data, _) in enumerate(train_loader):  # Enumerate the loop to get the batch index 'i'\n",
    "        data = data.to(device)\n",
    "        batch_size = data.size(0)\n",
    "\n",
    "        # Train Critic\n",
    "        real_data = data\n",
    "        fake_data = generator(torch.randn(batch_size, latent_dim, device=device))\n",
    "\n",
    "        critic_real = critic(real_data).reshape(-1)\n",
    "        critic_fake = critic(fake_data).reshape(-1)\n",
    "\n",
    "        loss_c = -(torch.mean(critic_real) - torch.mean(critic_fake))\n",
    "        critic.zero_grad()\n",
    "        loss_c.backward(retain_graph=True)\n",
    "        optimizer_c.step()\n",
    "\n",
    "        # Clip weights of Critic\n",
    "        for p in critic.parameters():\n",
    "            p.data.clamp_(-0.01, 0.01)\n",
    "\n",
    "        # Train Generator every n_critic iterations\n",
    "        if i % n_critic == 0:  # Use the batch index 'i' here\n",
    "            gen_fake = critic(fake_data).reshape(-1)\n",
    "            loss_g = -torch.mean(gen_fake)\n",
    "            generator.zero_grad()\n",
    "            loss_g.backward()\n",
    "            optimizer_g.step()\n",
    "\n",
    "            # Save losses for plotting\n",
    "            g_losses.append(loss_g.item())\n",
    "\n",
    "        # Save losses for plotting\n",
    "        c_losses.append(loss_c.item())\n",
    "\n",
    "    # Save generated images after each epoch\n",
    "    save_fake_images_grid(epoch + 1, generator, latent_dim)\n",
    "\n",
    "    # Print progress\n",
    "    print(f'Epoch [{epoch+1}/{epochs}] - Loss C: {-loss_c:.4f}, Loss G: {-loss_g:.4f}')\n",
    "\n",
    "# Plot the losses\n",
    "plt.figure(figsize=(10,5))\n",
    "plt.title(\"Generator and Discriminator Loss During Training\")\n",
    "plt.plot(g_losses,label=\"G\")\n",
    "plt.plot(c_losses,label=\"D\")\n",
    "plt.xlabel(\"iterations\")\n",
    "plt.ylabel(\"Loss\")\n",
    "plt.legend()\n",
    "plt.show()\n",
    "\n",
    "# Save the final batch of fake images\n",
    "save_fake_images_grid('final', generator, latent_dim)\n",
    "\n",
    "print(\"Training is complete!\")\n",
    "\n",
    "# Function to calculate FID score (approximation)\n",
    "def calculate_fid(real_images, fake_images):\n",
    "    # FID calculation is complex and resource intensive, and requires Inception model\n",
    "    # Here we use a simple feature extractor (mean and covariance of pixel values)\n",
    "    # This is a naive approximation and doesn't reflect the actual FID implementation\n",
    "    mu_real = np.mean(real_images, axis=0)\n",
    "    sigma_real = np.cov(real_images, rowvar=False)\n",
    "\n",
    "    mu_fake = np.mean(fake_images, axis=0)\n",
    "    sigma_fake = np.cov(fake_images, rowvar=False)\n",
    "\n",
    "    ssdiff = np.sum((mu_real - mu_fake) ** 2.0)\n",
    "    covmean = np.sqrt(sigma_real * sigma_fake)\n",
    "\n",
    "    fid = ssdiff + np.trace(sigma_real + sigma_fake - 2.0 * covmean)\n",
    "    return fid\n",
    "\n",
    "# Check the model on real data and generate some fake data for FID calculation\n",
    "with torch.no_grad():\n",
    "    fake = generator(torch.randn(1000, latent_dim).to(torch.device('cuda' if torch.cuda.is_available() else 'cpu'))).detach().cpu().numpy()\n",
    "    real = next(iter(train_loader))[0].numpy()\n",
    "\n",
    "# Reshape images to vectors for FID calculation\n",
    "fake = fake.reshape(fake.shape[0], -1)\n",
    "real = real.reshape(real.shape[0], -1)\n",
    "\n",
    "# Calculate FID (naive approximation)\n",
    "fid_score = calculate_fid(real, fake)\n",
    "print(f'FID score (approximation): {fid_score}')"
   ]
  },
  {
   "cell_type": "code",
   "execution_count": null,
   "metadata": {
    "id": "cPKgASjstjki"
   },
   "outputs": [],
   "source": [
    "!rm -r \"real_images\"\n",
    "!rm -r \"generated_images\""
   ]
  },
  {
   "cell_type": "code",
   "execution_count": 5,
   "metadata": {
    "colab": {
     "base_uri": "https://localhost:8080/"
    },
    "id": "l7Jdlgszio3L",
    "outputId": "1e8e2ae6-de14-4502-d07b-98e0c52eec19"
   },
   "outputs": [
    {
     "name": "stderr",
     "output_type": "stream",
     "text": [
      "100%|██████████| 4/4 [00:00<00:00,  6.38it/s]\n",
      "100%|██████████| 4/4 [00:00<00:00,  6.91it/s]\n"
     ]
    },
    {
     "name": "stdout",
     "output_type": "stream",
     "text": [
      "FID Score: 134.11884219299037\n"
     ]
    }
   ],
   "source": [
    "import os\n",
    "import torch\n",
    "import torchvision\n",
    "from torch.utils.data import DataLoader\n",
    "from pytorch_fid import fid_score\n",
    "\n",
    "\n",
    "path_gen_images=\"generated_images\"\n",
    "path_real_images=\"real_images\"\n",
    "# Ensure the directories exist\n",
    "os.makedirs(path_gen_images, exist_ok=True)\n",
    "os.makedirs(path_real_images, exist_ok=True)\n",
    "\n",
    "# Generate images using the trained generator model\n",
    "with torch.no_grad():\n",
    "    latent_vectors = torch.randn(128, latent_dim).to(device)\n",
    "    generated_imgs = generator(latent_vectors).view(-1, 28, 28)\n",
    "\n",
    "# Save generated images\n",
    "for idx, gen_img in enumerate(generated_imgs):\n",
    "    torchvision.utils.save_image(gen_img, os.path.join(path_gen_images, f'gen_img_{idx + 1}.png'))\n",
    "\n",
    "# Collect and save a subset of real images from the dataset\n",
    "saved_real_images = []\n",
    "target_num_images = 128\n",
    "\n",
    "for batch_labels, batch_images in train_loader:\n",
    "    saved_real_images.extend(batch_labels)\n",
    "    if len(saved_real_images) >= target_num_images:\n",
    "        break\n",
    "\n",
    "for idx, image in enumerate(saved_real_images[:target_num_images]):\n",
    "    torchvision.utils.save_image(image, os.path.join(path_real_images, f'real_img_{idx + 1}.png'))\n",
    "\n",
    "# FID Score Calculation\n",
    "device = torch.device(\"cuda\" if torch.cuda.is_available() else \"cpu\")\n",
    "batch_size_fid = 32\n",
    "fid_score_value = fid_score.calculate_fid_given_paths([path_real_images, path_gen_images], batch_size=batch_size_fid, device=device, dims=2048)\n",
    "print(f\"FID Score: {fid_score_value}\")"
   ]
  }
 ],
 "metadata": {
  "accelerator": "GPU",
  "colab": {
   "gpuType": "T4",
   "provenance": []
  },
  "kernelspec": {
   "display_name": "Python 3",
   "name": "python3"
  },
  "language_info": {
   "name": "python"
  }
 },
 "nbformat": 4,
 "nbformat_minor": 0
}
